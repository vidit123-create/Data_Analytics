{
 "cells": [
  {
   "cell_type": "markdown",
   "metadata": {},
   "source": [
    "##### Jumping in list,string "
   ]
  },
  {
   "cell_type": "code",
   "execution_count": 239,
   "metadata": {},
   "outputs": [
    {
     "name": "stdout",
     "output_type": "stream",
     "text": [
      "tidiV\n"
     ]
    }
   ],
   "source": [
    "def A(str1):\n",
    "    data=str1[4::-1]\n",
    "    return data\n",
    "print(A(\"Vidit\"))"
   ]
  },
  {
   "cell_type": "code",
   "execution_count": 243,
   "metadata": {},
   "outputs": [],
   "source": [
    "# Reversing elements in list."
   ]
  },
  {
   "cell_type": "code",
   "execution_count": 241,
   "metadata": {},
   "outputs": [
    {
     "name": "stdout",
     "output_type": "stream",
     "text": [
      "[5, 'Vidit', 6, 1]\n"
     ]
    }
   ],
   "source": [
    "list1=[1,6,\"Vidit\",5]\n",
    "def A():\n",
    "    data2=list1[3::-1]\n",
    "    return data2\n",
    "print(A())"
   ]
  },
  {
   "cell_type": "code",
   "execution_count": 88,
   "metadata": {},
   "outputs": [
    {
     "data": {
      "text/plain": [
       "['vidit', 56]"
      ]
     },
     "execution_count": 88,
     "metadata": {},
     "output_type": "execute_result"
    }
   ],
   "source": [
    "X=[\"omer\",98,\"vidit\",88,\"prasad\",56,\"deepika\",97]\n",
    "X[2:6:3]"
   ]
  },
  {
   "cell_type": "code",
   "execution_count": 89,
   "metadata": {},
   "outputs": [
    {
     "data": {
      "text/plain": [
       "[97, 'deepika', 56, 'prasad', 88, 'vidit', 98, 'omer']"
      ]
     },
     "execution_count": 89,
     "metadata": {},
     "output_type": "execute_result"
    }
   ],
   "source": [
    "X=[\"omer\",98,\"vidit\",88,\"prasad\",56,\"deepika\",97]\n",
    "X[7::-1]"
   ]
  },
  {
   "cell_type": "code",
   "execution_count": 249,
   "metadata": {},
   "outputs": [],
   "source": [
    "# Use of Split Method in String."
   ]
  },
  {
   "cell_type": "code",
   "execution_count": 248,
   "metadata": {},
   "outputs": [
    {
     "name": "stdout",
     "output_type": "stream",
     "text": [
      "['V', 'i', 'd', 'i', 't']\n"
     ]
    }
   ],
   "source": [
    "str1=\"V-i-d-i-t\"\n",
    "def A(data):\n",
    "    data1=str1.split('-')\n",
    "    return data1\n",
    "print(A(str1))"
   ]
  },
  {
   "cell_type": "code",
   "execution_count": 250,
   "metadata": {},
   "outputs": [],
   "source": [
    "#Concept of Replace and Count Method in String ."
   ]
  },
  {
   "cell_type": "code",
   "execution_count": 10,
   "metadata": {},
   "outputs": [
    {
     "data": {
      "text/plain": [
       "5"
      ]
     },
     "execution_count": 10,
     "metadata": {},
     "output_type": "execute_result"
    }
   ],
   "source": [
    "X=\"V-i--d-i-t\"\n",
    "X.replace(\"-\",\"\")\n",
    "X.count('-')"
   ]
  },
  {
   "cell_type": "code",
   "execution_count": 251,
   "metadata": {},
   "outputs": [],
   "source": [
    "# Type Conversion"
   ]
  },
  {
   "cell_type": "code",
   "execution_count": 8,
   "metadata": {},
   "outputs": [
    {
     "data": {
      "text/plain": [
       "7.0"
      ]
     },
     "execution_count": 8,
     "metadata": {},
     "output_type": "execute_result"
    }
   ],
   "source": [
    "def Fax(a,b=1,c=2):\n",
    "    X=float(a)+float(b)+float(c)\n",
    "    return X\n",
    "Fax(4)"
   ]
  },
  {
   "cell_type": "code",
   "execution_count": 252,
   "metadata": {},
   "outputs": [],
   "source": [
    "# Concept of Dict."
   ]
  },
  {
   "cell_type": "code",
   "execution_count": 3,
   "metadata": {},
   "outputs": [
    {
     "name": "stdout",
     "output_type": "stream",
     "text": [
      "[('Name', 'Vidit'), ('Age', 23), ('City', 'Ranchi')]\n",
      "[('Name', 'Vidit'), ('Age', 23), ('City', 'Ranchi')]\n",
      "[('Name', 'Vidit'), ('Age', 23), ('City', 'Ranchi')]\n"
     ]
    }
   ],
   "source": [
    "dict1={\"Name\":\"Vidit\",\"Age\":23,\"City\":\"Ranchi\"}\n",
    "for X in dict1:\n",
    "    X=list(dict1.items())\n",
    "    print(X)"
   ]
  },
  {
   "cell_type": "code",
   "execution_count": 11,
   "metadata": {},
   "outputs": [
    {
     "data": {
      "text/plain": [
       "[('Name', 'Vidit'), ('Age', 23), ('City', 'Ranchi')]"
      ]
     },
     "execution_count": 11,
     "metadata": {},
     "output_type": "execute_result"
    }
   ],
   "source": [
    "dict1={\"Name\":\"Vidit\",\"Age\":23,\"City\":\"Ranchi\"}\n",
    "X=list(dict1.items())\n",
    "X"
   ]
  },
  {
   "cell_type": "code",
   "execution_count": 253,
   "metadata": {},
   "outputs": [],
   "source": [
    "# Conversion of set into list"
   ]
  },
  {
   "cell_type": "code",
   "execution_count": 13,
   "metadata": {},
   "outputs": [
    {
     "data": {
      "text/plain": [
       "['Ankit', 'Vidit', 'Shivam']"
      ]
     },
     "execution_count": 13,
     "metadata": {},
     "output_type": "execute_result"
    }
   ],
   "source": [
    "str1={\"Vidit\",\"Ankit\",\"Shivam\"}\n",
    "X=list(str1)\n",
    "X"
   ]
  },
  {
   "cell_type": "code",
   "execution_count": 254,
   "metadata": {},
   "outputs": [],
   "source": [
    "#Conversion of list into dict using zip()."
   ]
  },
  {
   "cell_type": "code",
   "execution_count": 2,
   "metadata": {},
   "outputs": [
    {
     "data": {
      "text/plain": [
       "{1: 2, 3: 4, 5: 6, 7: 8}"
      ]
     },
     "execution_count": 2,
     "metadata": {},
     "output_type": "execute_result"
    }
   ],
   "source": [
    "list1=[1,3,5,7]\n",
    "list2=[2,4,6,8]\n",
    "X=zip(list1,list2)\n",
    "dict(X)"
   ]
  },
  {
   "cell_type": "code",
   "execution_count": 256,
   "metadata": {},
   "outputs": [],
   "source": [
    "# Use of index method in list"
   ]
  },
  {
   "cell_type": "code",
   "execution_count": 51,
   "metadata": {},
   "outputs": [
    {
     "data": {
      "text/plain": [
       "2"
      ]
     },
     "execution_count": 51,
     "metadata": {},
     "output_type": "execute_result"
    }
   ],
   "source": [
    "list1=[1,2,\"Vidit\",4]\n",
    "list1.index(\"Vidit\")"
   ]
  },
  {
   "cell_type": "code",
   "execution_count": 257,
   "metadata": {},
   "outputs": [],
   "source": [
    "# Concept of Numpy Arrays."
   ]
  },
  {
   "cell_type": "code",
   "execution_count": 1,
   "metadata": {},
   "outputs": [],
   "source": [
    "import numpy as np"
   ]
  },
  {
   "cell_type": "code",
   "execution_count": 2,
   "metadata": {},
   "outputs": [
    {
     "data": {
      "text/plain": [
       "array([[ 1,  2,  3],\n",
       "       [ 4,  5,  6],\n",
       "       [ 7,  8,  9],\n",
       "       [10, 11, 12]])"
      ]
     },
     "execution_count": 2,
     "metadata": {},
     "output_type": "execute_result"
    }
   ],
   "source": [
    "X=np.array([[1,2,3],[4,5,6],[7,8,9],[10,11,12]])\n",
    "X"
   ]
  },
  {
   "cell_type": "code",
   "execution_count": 4,
   "metadata": {},
   "outputs": [
    {
     "data": {
      "text/plain": [
       "array([ 2,  7,  9, 10, 12])"
      ]
     },
     "execution_count": 4,
     "metadata": {},
     "output_type": "execute_result"
    }
   ],
   "source": [
    "X[[0,2,2,3,3],[1,0,2,0,2]]"
   ]
  },
  {
   "cell_type": "code",
   "execution_count": 5,
   "metadata": {},
   "outputs": [
    {
     "data": {
      "text/plain": [
       "array([[ 2],\n",
       "       [ 5],\n",
       "       [ 8],\n",
       "       [11]])"
      ]
     },
     "execution_count": 5,
     "metadata": {},
     "output_type": "execute_result"
    }
   ],
   "source": [
    "X[:,1:2]"
   ]
  },
  {
   "cell_type": "code",
   "execution_count": 6,
   "metadata": {},
   "outputs": [
    {
     "data": {
      "text/plain": [
       "array([26])"
      ]
     },
     "execution_count": 6,
     "metadata": {},
     "output_type": "execute_result"
    }
   ],
   "source": [
    "X[0,1:2]+X[1,1:2]+X[2,1:2]+X[3,1:2]"
   ]
  },
  {
   "cell_type": "code",
   "execution_count": 3,
   "metadata": {},
   "outputs": [],
   "source": [
    "import numpy as np"
   ]
  },
  {
   "cell_type": "code",
   "execution_count": 20,
   "metadata": {},
   "outputs": [
    {
     "data": {
      "text/plain": [
       "array({'College': {'Name': 'Vidit', 'Age': 22, 'Location': 'Ranchi'}},\n",
       "      dtype=object)"
      ]
     },
     "execution_count": 20,
     "metadata": {},
     "output_type": "execute_result"
    }
   ],
   "source": [
    "X=np.array({\"College\":{\"Name\":\"Vidit\",\"Age\":22,\"Location\":'Ranchi'}})\n",
    "X"
   ]
  },
  {
   "cell_type": "code",
   "execution_count": 18,
   "metadata": {},
   "outputs": [
    {
     "data": {
      "text/plain": [
       "'V'"
      ]
     },
     "execution_count": 18,
     "metadata": {},
     "output_type": "execute_result"
    }
   ],
   "source": [
    "dict1={\"College\":{'Name':'Vidit','Age':21,'Location':'Ranchi'}}\n",
    "dict1[\"College\"][\"Name\"][0]"
   ]
  },
  {
   "cell_type": "code",
   "execution_count": 8,
   "metadata": {},
   "outputs": [
    {
     "data": {
      "text/html": [
       "<div>\n",
       "<style scoped>\n",
       "    .dataframe tbody tr th:only-of-type {\n",
       "        vertical-align: middle;\n",
       "    }\n",
       "\n",
       "    .dataframe tbody tr th {\n",
       "        vertical-align: top;\n",
       "    }\n",
       "\n",
       "    .dataframe thead th {\n",
       "        text-align: right;\n",
       "    }\n",
       "</style>\n",
       "<table border=\"1\" class=\"dataframe\">\n",
       "  <thead>\n",
       "    <tr style=\"text-align: right;\">\n",
       "      <th></th>\n",
       "      <th>College</th>\n",
       "    </tr>\n",
       "  </thead>\n",
       "  <tbody>\n",
       "    <tr>\n",
       "      <th>Age</th>\n",
       "      <td>21</td>\n",
       "    </tr>\n",
       "    <tr>\n",
       "      <th>Location</th>\n",
       "      <td>Ranchi</td>\n",
       "    </tr>\n",
       "    <tr>\n",
       "      <th>Name</th>\n",
       "      <td>Vidit</td>\n",
       "    </tr>\n",
       "  </tbody>\n",
       "</table>\n",
       "</div>"
      ],
      "text/plain": [
       "         College\n",
       "Age           21\n",
       "Location  Ranchi\n",
       "Name       Vidit"
      ]
     },
     "execution_count": 8,
     "metadata": {},
     "output_type": "execute_result"
    }
   ],
   "source": [
    "import pandas as pd\n",
    "df=pd.DataFrame(dict1)\n",
    "df"
   ]
  },
  {
   "cell_type": "code",
   "execution_count": 13,
   "metadata": {},
   "outputs": [
    {
     "data": {
      "text/plain": [
       "array([[21]], dtype=object)"
      ]
     },
     "execution_count": 13,
     "metadata": {},
     "output_type": "execute_result"
    }
   ],
   "source": [
    "import numpy as np\n",
    "X=np.array(df)\n",
    "X[0:1,0:]"
   ]
  },
  {
   "cell_type": "markdown",
   "metadata": {},
   "source": [
    "##### 3D Arrays"
   ]
  },
  {
   "cell_type": "code",
   "execution_count": 6,
   "metadata": {},
   "outputs": [],
   "source": [
    "import numpy as np"
   ]
  },
  {
   "cell_type": "code",
   "execution_count": 9,
   "metadata": {},
   "outputs": [
    {
     "data": {
      "text/plain": [
       "array([[['Vidit', '22', 'Ranchi'],\n",
       "        ['Ankit', '21', 'Bokaro'],\n",
       "        ['Simran', '24', 'Ranchi']],\n",
       "\n",
       "       [['Farzan', '24', 'Bokaro'],\n",
       "        ['Abdullah', '25', 'Dhanbad'],\n",
       "        ['Aditi', '25', 'Ranchi']],\n",
       "\n",
       "       [['Shivam', '23', 'Ramgarh'],\n",
       "        ['Sonal', '24', 'Hazribagh'],\n",
       "        ['Sheetal', '21', 'Shimla']]], dtype='<U9')"
      ]
     },
     "execution_count": 9,
     "metadata": {},
     "output_type": "execute_result"
    }
   ],
   "source": [
    "X=np.array([\n",
    "           [[\"Vidit\",22,\"Ranchi\"],[\"Ankit\",21,\"Bokaro\"],[\"Simran\",24,\"Ranchi\"]],\n",
    "           [[\"Farzan\",24,\"Bokaro\"],[\"Abdullah\",25,\"Dhanbad\"],[\"Aditi\",25,\"Ranchi\"]],\n",
    "           [[\"Shivam\",23,\"Ramgarh\"],[\"Sonal\",24,\"Hazribagh\"],[\"Sheetal\",21,\"Shimla\"]]\n",
    "        ])   \n",
    "X"
   ]
  },
  {
   "cell_type": "markdown",
   "metadata": {},
   "source": [
    "##### Subset a particular char from array "
   ]
  },
  {
   "cell_type": "code",
   "execution_count": 47,
   "metadata": {},
   "outputs": [
    {
     "data": {
      "text/plain": [
       "'S'"
      ]
     },
     "execution_count": 47,
     "metadata": {},
     "output_type": "execute_result"
    }
   ],
   "source": [
    "X[0,[2],0:1][0][0][0:1]"
   ]
  },
  {
   "cell_type": "code",
   "execution_count": 10,
   "metadata": {},
   "outputs": [
    {
     "data": {
      "text/plain": [
       "3"
      ]
     },
     "execution_count": 10,
     "metadata": {},
     "output_type": "execute_result"
    }
   ],
   "source": [
    "X.ndim"
   ]
  },
  {
   "cell_type": "code",
   "execution_count": 15,
   "metadata": {},
   "outputs": [
    {
     "data": {
      "text/plain": [
       "numpy.ndarray"
      ]
     },
     "execution_count": 15,
     "metadata": {},
     "output_type": "execute_result"
    }
   ],
   "source": [
    "type(X)"
   ]
  },
  {
   "cell_type": "code",
   "execution_count": 43,
   "metadata": {},
   "outputs": [
    {
     "data": {
      "text/plain": [
       "3"
      ]
     },
     "execution_count": 43,
     "metadata": {},
     "output_type": "execute_result"
    }
   ],
   "source": [
    "len(X)"
   ]
  },
  {
   "cell_type": "markdown",
   "metadata": {},
   "source": [
    "##### Nested list"
   ]
  },
  {
   "cell_type": "code",
   "execution_count": 4,
   "metadata": {},
   "outputs": [
    {
     "data": {
      "text/plain": [
       "[8]"
      ]
     },
     "execution_count": 4,
     "metadata": {},
     "output_type": "execute_result"
    }
   ],
   "source": [
    "X=[2,4,6,[8,10]]\n",
    "X[3][0:1]"
   ]
  },
  {
   "cell_type": "markdown",
   "metadata": {},
   "source": [
    "##### Pre-Defined Numpy Arrays :-"
   ]
  },
  {
   "cell_type": "code",
   "execution_count": 11,
   "metadata": {},
   "outputs": [
    {
     "data": {
      "text/plain": [
       "array([[1., 1., 1., 1., 1.],\n",
       "       [1., 1., 1., 1., 1.],\n",
       "       [1., 1., 1., 1., 1.],\n",
       "       [1., 1., 1., 1., 1.]])"
      ]
     },
     "execution_count": 11,
     "metadata": {},
     "output_type": "execute_result"
    }
   ],
   "source": [
    "X=np.ones([4,5])\n",
    "X"
   ]
  },
  {
   "cell_type": "code",
   "execution_count": 12,
   "metadata": {},
   "outputs": [
    {
     "data": {
      "text/plain": [
       "array([[0., 0., 0.],\n",
       "       [0., 0., 0.],\n",
       "       [0., 0., 0.],\n",
       "       [0., 0., 0.]])"
      ]
     },
     "execution_count": 12,
     "metadata": {},
     "output_type": "execute_result"
    }
   ],
   "source": [
    "X=np.zeros([4,3])\n",
    "X"
   ]
  },
  {
   "cell_type": "code",
   "execution_count": 13,
   "metadata": {},
   "outputs": [
    {
     "data": {
      "text/plain": [
       "array([[1., 0., 0.],\n",
       "       [0., 1., 0.],\n",
       "       [0., 0., 1.]])"
      ]
     },
     "execution_count": 13,
     "metadata": {},
     "output_type": "execute_result"
    }
   ],
   "source": [
    "X=np.eye(3)\n",
    "X"
   ]
  },
  {
   "cell_type": "markdown",
   "metadata": {},
   "source": [
    "##### Operation on 3D Arrays :-"
   ]
  },
  {
   "cell_type": "code",
   "execution_count": 14,
   "metadata": {},
   "outputs": [
    {
     "data": {
      "text/plain": [
       "array([[['Vidit', '22', 'Ranchi'],\n",
       "        ['Ankit', '21', 'Bokaro'],\n",
       "        ['Simran', '24', 'Ranchi']],\n",
       "\n",
       "       [['Farzan', '24', 'Bokaro'],\n",
       "        ['Abdullah', '25', 'Dhanbad'],\n",
       "        ['Aditi', '25', 'Ranchi']],\n",
       "\n",
       "       [['Shivam', '23', 'Ramgarh'],\n",
       "        ['Sonal', '24', 'Hazribagh'],\n",
       "        ['Sheetal', '21', 'Shimla']]], dtype='<U9')"
      ]
     },
     "execution_count": 14,
     "metadata": {},
     "output_type": "execute_result"
    }
   ],
   "source": [
    "X=np.array([\n",
    "           [[\"Vidit\",22,\"Ranchi\"],[\"Ankit\",21,\"Bokaro\"],[\"Simran\",24,\"Ranchi\"]],\n",
    "           [[\"Farzan\",24,\"Bokaro\"],[\"Abdullah\",25,\"Dhanbad\"],[\"Aditi\",25,\"Ranchi\"]],\n",
    "           [[\"Shivam\",23,\"Ramgarh\"],[\"Sonal\",24,\"Hazribagh\"],[\"Sheetal\",21,\"Shimla\"]]\n",
    "        ])   \n",
    "X"
   ]
  },
  {
   "cell_type": "markdown",
   "metadata": {},
   "source": [
    "##### Subsetting in 3D Arrays :-"
   ]
  },
  {
   "cell_type": "markdown",
   "metadata": {},
   "source": [
    "##### Consecutive Subsetting :-"
   ]
  },
  {
   "cell_type": "code",
   "execution_count": 26,
   "metadata": {},
   "outputs": [
    {
     "data": {
      "text/plain": [
       "array([[['Vidit'],\n",
       "        ['Ankit'],\n",
       "        ['Simran']],\n",
       "\n",
       "       [['Farzan'],\n",
       "        ['Abdullah'],\n",
       "        ['Aditi']],\n",
       "\n",
       "       [['Shivam'],\n",
       "        ['Sonal'],\n",
       "        ['Sheetal']]], dtype='<U9')"
      ]
     },
     "execution_count": 26,
     "metadata": {},
     "output_type": "execute_result"
    }
   ],
   "source": [
    "X[[0,1,2],:,0:1]"
   ]
  },
  {
   "cell_type": "code",
   "execution_count": 30,
   "metadata": {},
   "outputs": [
    {
     "data": {
      "text/plain": [
       "array([['22', 'Ranchi'],\n",
       "       ['24', 'Bokaro'],\n",
       "       ['23', 'Ramgarh']], dtype='<U9')"
      ]
     },
     "execution_count": 30,
     "metadata": {},
     "output_type": "execute_result"
    }
   ],
   "source": [
    "X[[0,1,2],0,1:]"
   ]
  },
  {
   "cell_type": "code",
   "execution_count": 31,
   "metadata": {},
   "outputs": [
    {
     "data": {
      "text/plain": [
       "array([[['21', 'Bokaro'],\n",
       "        ['24', 'Ranchi']],\n",
       "\n",
       "       [['25', 'Dhanbad'],\n",
       "        ['25', 'Ranchi']],\n",
       "\n",
       "       [['24', 'Hazribagh'],\n",
       "        ['21', 'Shimla']]], dtype='<U9')"
      ]
     },
     "execution_count": 31,
     "metadata": {},
     "output_type": "execute_result"
    }
   ],
   "source": [
    "X[[0,1,2],1:,1:]"
   ]
  },
  {
   "cell_type": "code",
   "execution_count": 37,
   "metadata": {},
   "outputs": [
    {
     "data": {
      "text/plain": [
       "array([[['21']],\n",
       "\n",
       "       [['25']],\n",
       "\n",
       "       [['24']]], dtype='<U9')"
      ]
     },
     "execution_count": 37,
     "metadata": {},
     "output_type": "execute_result"
    }
   ],
   "source": [
    "X[[0,1,2],1:2,1:2]"
   ]
  },
  {
   "cell_type": "markdown",
   "metadata": {},
   "source": [
    "##### Non-Consecutive Subsetting :-"
   ]
  },
  {
   "cell_type": "code",
   "execution_count": 38,
   "metadata": {},
   "outputs": [
    {
     "data": {
      "text/plain": [
       "array(['Simran', '22', 'Ranchi', 'Abdullah', '24', 'Ranchi', 'Shivam',\n",
       "       '21', 'Hazribagh'], dtype='<U9')"
      ]
     },
     "execution_count": 38,
     "metadata": {},
     "output_type": "execute_result"
    }
   ],
   "source": [
    "X[[0,0,0,1,1,1,2,2,2],[2,0,2,1,0,2,0,2,1],[0,1,2,0,1,2,0,1,2]]"
   ]
  },
  {
   "cell_type": "markdown",
   "metadata": {},
   "source": [
    "##### Negative Slicing :-"
   ]
  },
  {
   "cell_type": "markdown",
   "metadata": {},
   "source": [
    "##### Consecutive Negative Subsetting :-"
   ]
  },
  {
   "cell_type": "code",
   "execution_count": 40,
   "metadata": {},
   "outputs": [
    {
     "data": {
      "text/plain": [
       "array([[['Ankit', '21'],\n",
       "        ['Simran', '24']],\n",
       "\n",
       "       [['Abdullah', '25'],\n",
       "        ['Aditi', '25']],\n",
       "\n",
       "       [['Sonal', '24'],\n",
       "        ['Sheetal', '21']]], dtype='<U9')"
      ]
     },
     "execution_count": 40,
     "metadata": {},
     "output_type": "execute_result"
    }
   ],
   "source": [
    "X[[0,1,2],-2:,-3:-1]"
   ]
  },
  {
   "cell_type": "markdown",
   "metadata": {},
   "source": [
    "##### Non-Consecutive Subsetting :-"
   ]
  },
  {
   "cell_type": "code",
   "execution_count": 41,
   "metadata": {},
   "outputs": [
    {
     "data": {
      "text/plain": [
       "array(['24', 'Bokaro', 'Aditi', 'Bokaro', 'Sheetal', 'Ramgarh'],\n",
       "      dtype='<U9')"
      ]
     },
     "execution_count": 41,
     "metadata": {},
     "output_type": "execute_result"
    }
   ],
   "source": [
    "X[[0,0,1,1,2,2],[-1,-2,-1,-3,-1,-3],[-2,-1,-3,-1,-3,-1]]"
   ]
  },
  {
   "cell_type": "markdown",
   "metadata": {},
   "source": [
    "##### How to deal with string type data :-"
   ]
  },
  {
   "cell_type": "markdown",
   "metadata": {},
   "source": [
    "#### Import dataset :-"
   ]
  },
  {
   "cell_type": "code",
   "execution_count": 1,
   "metadata": {},
   "outputs": [],
   "source": [
    "import pandas as pd\n",
    "import numpy as np\n",
    "import matplotlib.pyplot as plt"
   ]
  },
  {
   "cell_type": "code",
   "execution_count": 2,
   "metadata": {},
   "outputs": [
    {
     "data": {
      "text/html": [
       "<div>\n",
       "<style scoped>\n",
       "    .dataframe tbody tr th:only-of-type {\n",
       "        vertical-align: middle;\n",
       "    }\n",
       "\n",
       "    .dataframe tbody tr th {\n",
       "        vertical-align: top;\n",
       "    }\n",
       "\n",
       "    .dataframe thead th {\n",
       "        text-align: right;\n",
       "    }\n",
       "</style>\n",
       "<table border=\"1\" class=\"dataframe\">\n",
       "  <thead>\n",
       "    <tr style=\"text-align: right;\">\n",
       "      <th></th>\n",
       "      <th>pclass</th>\n",
       "      <th>survived</th>\n",
       "      <th>name</th>\n",
       "      <th>sex</th>\n",
       "      <th>age</th>\n",
       "      <th>sibsp</th>\n",
       "      <th>parch</th>\n",
       "      <th>ticket</th>\n",
       "      <th>fare</th>\n",
       "      <th>cabin</th>\n",
       "      <th>embarked</th>\n",
       "      <th>boat</th>\n",
       "      <th>body</th>\n",
       "      <th>home.dest</th>\n",
       "    </tr>\n",
       "  </thead>\n",
       "  <tbody>\n",
       "    <tr>\n",
       "      <th>0</th>\n",
       "      <td>1.0</td>\n",
       "      <td>1.0</td>\n",
       "      <td>Allen, Miss. Elisabeth Walton</td>\n",
       "      <td>female</td>\n",
       "      <td>29.0000</td>\n",
       "      <td>0.0</td>\n",
       "      <td>0.0</td>\n",
       "      <td>24160</td>\n",
       "      <td>211.3375</td>\n",
       "      <td>B5</td>\n",
       "      <td>S</td>\n",
       "      <td>2</td>\n",
       "      <td>NaN</td>\n",
       "      <td>St Louis, MO</td>\n",
       "    </tr>\n",
       "    <tr>\n",
       "      <th>1</th>\n",
       "      <td>1.0</td>\n",
       "      <td>1.0</td>\n",
       "      <td>Allison, Master. Hudson Trevor</td>\n",
       "      <td>male</td>\n",
       "      <td>0.9167</td>\n",
       "      <td>1.0</td>\n",
       "      <td>2.0</td>\n",
       "      <td>113781</td>\n",
       "      <td>151.5500</td>\n",
       "      <td>C22 C26</td>\n",
       "      <td>S</td>\n",
       "      <td>11</td>\n",
       "      <td>NaN</td>\n",
       "      <td>Montreal, PQ / Chesterville, ON</td>\n",
       "    </tr>\n",
       "    <tr>\n",
       "      <th>2</th>\n",
       "      <td>1.0</td>\n",
       "      <td>0.0</td>\n",
       "      <td>Allison, Miss. Helen Loraine</td>\n",
       "      <td>female</td>\n",
       "      <td>2.0000</td>\n",
       "      <td>1.0</td>\n",
       "      <td>2.0</td>\n",
       "      <td>113781</td>\n",
       "      <td>151.5500</td>\n",
       "      <td>C22 C26</td>\n",
       "      <td>S</td>\n",
       "      <td>NaN</td>\n",
       "      <td>NaN</td>\n",
       "      <td>Montreal, PQ / Chesterville, ON</td>\n",
       "    </tr>\n",
       "    <tr>\n",
       "      <th>3</th>\n",
       "      <td>1.0</td>\n",
       "      <td>0.0</td>\n",
       "      <td>Allison, Mr. Hudson Joshua Creighton</td>\n",
       "      <td>male</td>\n",
       "      <td>30.0000</td>\n",
       "      <td>1.0</td>\n",
       "      <td>2.0</td>\n",
       "      <td>113781</td>\n",
       "      <td>151.5500</td>\n",
       "      <td>C22 C26</td>\n",
       "      <td>S</td>\n",
       "      <td>NaN</td>\n",
       "      <td>135.0</td>\n",
       "      <td>Montreal, PQ / Chesterville, ON</td>\n",
       "    </tr>\n",
       "    <tr>\n",
       "      <th>4</th>\n",
       "      <td>1.0</td>\n",
       "      <td>0.0</td>\n",
       "      <td>Allison, Mrs. Hudson J C (Bessie Waldo Daniels)</td>\n",
       "      <td>female</td>\n",
       "      <td>25.0000</td>\n",
       "      <td>1.0</td>\n",
       "      <td>2.0</td>\n",
       "      <td>113781</td>\n",
       "      <td>151.5500</td>\n",
       "      <td>C22 C26</td>\n",
       "      <td>S</td>\n",
       "      <td>NaN</td>\n",
       "      <td>NaN</td>\n",
       "      <td>Montreal, PQ / Chesterville, ON</td>\n",
       "    </tr>\n",
       "    <tr>\n",
       "      <th>...</th>\n",
       "      <td>...</td>\n",
       "      <td>...</td>\n",
       "      <td>...</td>\n",
       "      <td>...</td>\n",
       "      <td>...</td>\n",
       "      <td>...</td>\n",
       "      <td>...</td>\n",
       "      <td>...</td>\n",
       "      <td>...</td>\n",
       "      <td>...</td>\n",
       "      <td>...</td>\n",
       "      <td>...</td>\n",
       "      <td>...</td>\n",
       "      <td>...</td>\n",
       "    </tr>\n",
       "    <tr>\n",
       "      <th>1305</th>\n",
       "      <td>3.0</td>\n",
       "      <td>0.0</td>\n",
       "      <td>Zabour, Miss. Thamine</td>\n",
       "      <td>female</td>\n",
       "      <td>NaN</td>\n",
       "      <td>1.0</td>\n",
       "      <td>0.0</td>\n",
       "      <td>2665</td>\n",
       "      <td>14.4542</td>\n",
       "      <td>NaN</td>\n",
       "      <td>C</td>\n",
       "      <td>NaN</td>\n",
       "      <td>NaN</td>\n",
       "      <td>NaN</td>\n",
       "    </tr>\n",
       "    <tr>\n",
       "      <th>1306</th>\n",
       "      <td>3.0</td>\n",
       "      <td>0.0</td>\n",
       "      <td>Zakarian, Mr. Mapriededer</td>\n",
       "      <td>male</td>\n",
       "      <td>26.5000</td>\n",
       "      <td>0.0</td>\n",
       "      <td>0.0</td>\n",
       "      <td>2656</td>\n",
       "      <td>7.2250</td>\n",
       "      <td>NaN</td>\n",
       "      <td>C</td>\n",
       "      <td>NaN</td>\n",
       "      <td>304.0</td>\n",
       "      <td>NaN</td>\n",
       "    </tr>\n",
       "    <tr>\n",
       "      <th>1307</th>\n",
       "      <td>3.0</td>\n",
       "      <td>0.0</td>\n",
       "      <td>Zakarian, Mr. Ortin</td>\n",
       "      <td>male</td>\n",
       "      <td>27.0000</td>\n",
       "      <td>0.0</td>\n",
       "      <td>0.0</td>\n",
       "      <td>2670</td>\n",
       "      <td>7.2250</td>\n",
       "      <td>NaN</td>\n",
       "      <td>C</td>\n",
       "      <td>NaN</td>\n",
       "      <td>NaN</td>\n",
       "      <td>NaN</td>\n",
       "    </tr>\n",
       "    <tr>\n",
       "      <th>1308</th>\n",
       "      <td>3.0</td>\n",
       "      <td>0.0</td>\n",
       "      <td>Zimmerman, Mr. Leo</td>\n",
       "      <td>male</td>\n",
       "      <td>29.0000</td>\n",
       "      <td>0.0</td>\n",
       "      <td>0.0</td>\n",
       "      <td>315082</td>\n",
       "      <td>7.8750</td>\n",
       "      <td>NaN</td>\n",
       "      <td>S</td>\n",
       "      <td>NaN</td>\n",
       "      <td>NaN</td>\n",
       "      <td>NaN</td>\n",
       "    </tr>\n",
       "    <tr>\n",
       "      <th>1309</th>\n",
       "      <td>NaN</td>\n",
       "      <td>NaN</td>\n",
       "      <td>NaN</td>\n",
       "      <td>NaN</td>\n",
       "      <td>NaN</td>\n",
       "      <td>NaN</td>\n",
       "      <td>NaN</td>\n",
       "      <td>NaN</td>\n",
       "      <td>NaN</td>\n",
       "      <td>NaN</td>\n",
       "      <td>NaN</td>\n",
       "      <td>NaN</td>\n",
       "      <td>NaN</td>\n",
       "      <td>NaN</td>\n",
       "    </tr>\n",
       "  </tbody>\n",
       "</table>\n",
       "<p>1310 rows × 14 columns</p>\n",
       "</div>"
      ],
      "text/plain": [
       "      pclass  survived                                             name  \\\n",
       "0        1.0       1.0                    Allen, Miss. Elisabeth Walton   \n",
       "1        1.0       1.0                   Allison, Master. Hudson Trevor   \n",
       "2        1.0       0.0                     Allison, Miss. Helen Loraine   \n",
       "3        1.0       0.0             Allison, Mr. Hudson Joshua Creighton   \n",
       "4        1.0       0.0  Allison, Mrs. Hudson J C (Bessie Waldo Daniels)   \n",
       "...      ...       ...                                              ...   \n",
       "1305     3.0       0.0                            Zabour, Miss. Thamine   \n",
       "1306     3.0       0.0                        Zakarian, Mr. Mapriededer   \n",
       "1307     3.0       0.0                              Zakarian, Mr. Ortin   \n",
       "1308     3.0       0.0                               Zimmerman, Mr. Leo   \n",
       "1309     NaN       NaN                                              NaN   \n",
       "\n",
       "         sex      age  sibsp  parch  ticket      fare    cabin embarked boat  \\\n",
       "0     female  29.0000    0.0    0.0   24160  211.3375       B5        S    2   \n",
       "1       male   0.9167    1.0    2.0  113781  151.5500  C22 C26        S   11   \n",
       "2     female   2.0000    1.0    2.0  113781  151.5500  C22 C26        S  NaN   \n",
       "3       male  30.0000    1.0    2.0  113781  151.5500  C22 C26        S  NaN   \n",
       "4     female  25.0000    1.0    2.0  113781  151.5500  C22 C26        S  NaN   \n",
       "...      ...      ...    ...    ...     ...       ...      ...      ...  ...   \n",
       "1305  female      NaN    1.0    0.0    2665   14.4542      NaN        C  NaN   \n",
       "1306    male  26.5000    0.0    0.0    2656    7.2250      NaN        C  NaN   \n",
       "1307    male  27.0000    0.0    0.0    2670    7.2250      NaN        C  NaN   \n",
       "1308    male  29.0000    0.0    0.0  315082    7.8750      NaN        S  NaN   \n",
       "1309     NaN      NaN    NaN    NaN     NaN       NaN      NaN      NaN  NaN   \n",
       "\n",
       "       body                        home.dest  \n",
       "0       NaN                     St Louis, MO  \n",
       "1       NaN  Montreal, PQ / Chesterville, ON  \n",
       "2       NaN  Montreal, PQ / Chesterville, ON  \n",
       "3     135.0  Montreal, PQ / Chesterville, ON  \n",
       "4       NaN  Montreal, PQ / Chesterville, ON  \n",
       "...     ...                              ...  \n",
       "1305    NaN                              NaN  \n",
       "1306  304.0                              NaN  \n",
       "1307    NaN                              NaN  \n",
       "1308    NaN                              NaN  \n",
       "1309    NaN                              NaN  \n",
       "\n",
       "[1310 rows x 14 columns]"
      ]
     },
     "execution_count": 2,
     "metadata": {},
     "output_type": "execute_result"
    }
   ],
   "source": [
    "df=pd.read_csv('C:\\\\Users\\\\arpit\\\\Downloads\\\\nrippner-titanic-disaster-dataset\\\\titanic.csv')\n",
    "df"
   ]
  },
  {
   "cell_type": "code",
   "execution_count": 3,
   "metadata": {},
   "outputs": [
    {
     "data": {
      "text/plain": [
       "array([['Allen, Miss. Elisabeth Walton'],\n",
       "       ['Allison, Master. Hudson Trevor'],\n",
       "       ['Allison, Miss. Helen Loraine'],\n",
       "       ...,\n",
       "       ['Zakarian, Mr. Ortin'],\n",
       "       ['Zimmerman, Mr. Leo'],\n",
       "       [nan]], dtype=object)"
      ]
     },
     "execution_count": 3,
     "metadata": {},
     "output_type": "execute_result"
    }
   ],
   "source": [
    "X=df[['name']]\n",
    "Y=np.array(X)\n",
    "Y"
   ]
  },
  {
   "cell_type": "code",
   "execution_count": 4,
   "metadata": {},
   "outputs": [
    {
     "data": {
      "text/plain": [
       "2"
      ]
     },
     "execution_count": 4,
     "metadata": {},
     "output_type": "execute_result"
    }
   ],
   "source": [
    "Y.ndim"
   ]
  },
  {
   "cell_type": "code",
   "execution_count": 5,
   "metadata": {},
   "outputs": [
    {
     "data": {
      "text/plain": [
       "(1310, 1)"
      ]
     },
     "execution_count": 5,
     "metadata": {},
     "output_type": "execute_result"
    }
   ],
   "source": [
    "Y.shape"
   ]
  },
  {
   "cell_type": "code",
   "execution_count": 6,
   "metadata": {},
   "outputs": [
    {
     "data": {
      "text/plain": [
       "[array(['Allen, Miss. Elisabeth Walton'], dtype=object),\n",
       " array(['Allison, Master. Hudson Trevor'], dtype=object),\n",
       " array(['Allison, Miss. Helen Loraine'], dtype=object),\n",
       " array(['Allison, Mr. Hudson Joshua Creighton'], dtype=object),\n",
       " array(['Allison, Mrs. Hudson J C (Bessie Waldo Daniels)'], dtype=object),\n",
       " array(['Anderson, Mr. Harry'], dtype=object),\n",
       " array(['Andrews, Miss. Kornelia Theodosia'], dtype=object),\n",
       " array(['Andrews, Mr. Thomas Jr'], dtype=object),\n",
       " array(['Appleton, Mrs. Edward Dale (Charlotte Lamson)'], dtype=object),\n",
       " array(['Artagaveytia, Mr. Ramon'], dtype=object),\n",
       " array(['Astor, Col. John Jacob'], dtype=object),\n",
       " array(['Astor, Mrs. John Jacob (Madeleine Talmadge Force)'], dtype=object),\n",
       " array(['Aubart, Mme. Leontine Pauline'], dtype=object),\n",
       " array(['Barber, Miss. Ellen \"Nellie\"'], dtype=object),\n",
       " array(['Barkworth, Mr. Algernon Henry Wilson'], dtype=object),\n",
       " array(['Baumann, Mr. John D'], dtype=object),\n",
       " array(['Baxter, Mr. Quigg Edmond'], dtype=object),\n",
       " array(['Baxter, Mrs. James (Helene DeLaudeniere Chaput)'], dtype=object),\n",
       " array(['Bazzani, Miss. Albina'], dtype=object),\n",
       " array(['Beattie, Mr. Thomson'], dtype=object),\n",
       " array(['Beckwith, Mr. Richard Leonard'], dtype=object),\n",
       " array(['Beckwith, Mrs. Richard Leonard (Sallie Monypeny)'], dtype=object),\n",
       " array(['Behr, Mr. Karl Howell'], dtype=object),\n",
       " array(['Bidois, Miss. Rosalie'], dtype=object),\n",
       " array(['Bird, Miss. Ellen'], dtype=object),\n",
       " array(['Birnbaum, Mr. Jakob'], dtype=object),\n",
       " array(['Bishop, Mr. Dickinson H'], dtype=object),\n",
       " array(['Bishop, Mrs. Dickinson H (Helen Walton)'], dtype=object),\n",
       " array(['Bissette, Miss. Amelia'], dtype=object),\n",
       " array(['Bjornstrom-Steffansson, Mr. Mauritz Hakan'], dtype=object),\n",
       " array(['Blackwell, Mr. Stephen Weart'], dtype=object),\n",
       " array(['Blank, Mr. Henry'], dtype=object),\n",
       " array(['Bonnell, Miss. Caroline'], dtype=object),\n",
       " array(['Bonnell, Miss. Elizabeth'], dtype=object),\n",
       " array(['Borebank, Mr. John James'], dtype=object),\n",
       " array(['Bowen, Miss. Grace Scott'], dtype=object),\n",
       " array(['Bowerman, Miss. Elsie Edith'], dtype=object),\n",
       " array(['Bradley, Mr. George (\"George Arthur Brayton\")'], dtype=object),\n",
       " array(['Brady, Mr. John Bertram'], dtype=object),\n",
       " array(['Brandeis, Mr. Emil'], dtype=object),\n",
       " array(['Brewe, Dr. Arthur Jackson'], dtype=object),\n",
       " array(['Brown, Mrs. James Joseph (Margaret Tobin)'], dtype=object),\n",
       " array(['Brown, Mrs. John Murray (Caroline Lane Lamson)'], dtype=object),\n",
       " array(['Bucknell, Mrs. William Robert (Emma Eliza Ward)'], dtype=object),\n",
       " array(['Burns, Miss. Elizabeth Margaret'], dtype=object),\n",
       " array(['Butt, Major. Archibald Willingham'], dtype=object),\n",
       " array(['Cairns, Mr. Alexander'], dtype=object),\n",
       " array(['Calderhead, Mr. Edward Pennington'], dtype=object),\n",
       " array(['Candee, Mrs. Edward (Helen Churchill Hungerford)'], dtype=object),\n",
       " array(['Cardeza, Mr. Thomas Drake Martinez'], dtype=object),\n",
       " array(['Cardeza, Mrs. James Warburton Martinez (Charlotte Wardle Drake)'],\n",
       "       dtype=object),\n",
       " array(['Carlsson, Mr. Frans Olof'], dtype=object),\n",
       " array(['Carrau, Mr. Francisco M'], dtype=object),\n",
       " array(['Carrau, Mr. Jose Pedro'], dtype=object),\n",
       " array(['Carter, Master. William Thornton II'], dtype=object),\n",
       " array(['Carter, Miss. Lucile Polk'], dtype=object),\n",
       " array(['Carter, Mr. William Ernest'], dtype=object),\n",
       " array(['Carter, Mrs. William Ernest (Lucile Polk)'], dtype=object),\n",
       " array(['Case, Mr. Howard Brown'], dtype=object),\n",
       " array(['Cassebeer, Mrs. Henry Arthur Jr (Eleanor Genevieve Fosdick)'],\n",
       "       dtype=object),\n",
       " array(['Cavendish, Mr. Tyrell William'], dtype=object),\n",
       " array(['Cavendish, Mrs. Tyrell William (Julia Florence Siegel)'],\n",
       "       dtype=object),\n",
       " array(['Chaffee, Mr. Herbert Fuller'], dtype=object),\n",
       " array(['Chaffee, Mrs. Herbert Fuller (Carrie Constance Toogood)'],\n",
       "       dtype=object),\n",
       " array(['Chambers, Mr. Norman Campbell'], dtype=object),\n",
       " array(['Chambers, Mrs. Norman Campbell (Bertha Griggs)'], dtype=object),\n",
       " array(['Chaudanson, Miss. Victorine'], dtype=object),\n",
       " array(['Cherry, Miss. Gladys'], dtype=object),\n",
       " array(['Chevre, Mr. Paul Romaine'], dtype=object),\n",
       " array(['Chibnall, Mrs. (Edith Martha Bowerman)'], dtype=object),\n",
       " array(['Chisholm, Mr. Roderick Robert Crispin'], dtype=object),\n",
       " array(['Clark, Mr. Walter Miller'], dtype=object),\n",
       " array(['Clark, Mrs. Walter Miller (Virginia McDowell)'], dtype=object),\n",
       " array(['Cleaver, Miss. Alice'], dtype=object),\n",
       " array(['Clifford, Mr. George Quincy'], dtype=object),\n",
       " array(['Colley, Mr. Edward Pomeroy'], dtype=object),\n",
       " array(['Compton, Miss. Sara Rebecca'], dtype=object),\n",
       " array(['Compton, Mr. Alexander Taylor Jr'], dtype=object),\n",
       " array(['Compton, Mrs. Alexander Taylor (Mary Eliza Ingersoll)'],\n",
       "       dtype=object),\n",
       " array(['Cornell, Mrs. Robert Clifford (Malvina Helen Lamson)'],\n",
       "       dtype=object),\n",
       " array(['Crafton, Mr. John Bertram'], dtype=object),\n",
       " array(['Crosby, Capt. Edward Gifford'], dtype=object),\n",
       " array(['Crosby, Miss. Harriet R'], dtype=object),\n",
       " array(['Crosby, Mrs. Edward Gifford (Catherine Elizabeth Halstead)'],\n",
       "       dtype=object),\n",
       " array(['Cumings, Mr. John Bradley'], dtype=object),\n",
       " array(['Cumings, Mrs. John Bradley (Florence Briggs Thayer)'],\n",
       "       dtype=object),\n",
       " array(['Daly, Mr. Peter Denis '], dtype=object),\n",
       " array(['Daniel, Mr. Robert Williams'], dtype=object),\n",
       " array(['Daniels, Miss. Sarah'], dtype=object),\n",
       " array(['Davidson, Mr. Thornton'], dtype=object),\n",
       " array(['Davidson, Mrs. Thornton (Orian Hays)'], dtype=object),\n",
       " array(['Dick, Mr. Albert Adrian'], dtype=object),\n",
       " array(['Dick, Mrs. Albert Adrian (Vera Gillespie)'], dtype=object),\n",
       " array(['Dodge, Dr. Washington'], dtype=object),\n",
       " array(['Dodge, Master. Washington'], dtype=object),\n",
       " array(['Dodge, Mrs. Washington (Ruth Vidaver)'], dtype=object),\n",
       " array(['Douglas, Mr. Walter Donald'], dtype=object),\n",
       " array(['Douglas, Mrs. Frederick Charles (Mary Helene Baxter)'],\n",
       "       dtype=object),\n",
       " array(['Douglas, Mrs. Walter Donald (Mahala Dutton)'], dtype=object),\n",
       " array(['Duff Gordon, Lady. (Lucille Christiana Sutherland) (\"Mrs Morgan\")'],\n",
       "       dtype=object),\n",
       " array(['Duff Gordon, Sir. Cosmo Edmund (\"Mr Morgan\")'], dtype=object),\n",
       " array(['Dulles, Mr. William Crothers'], dtype=object),\n",
       " array(['Earnshaw, Mrs. Boulton (Olive Potter)'], dtype=object),\n",
       " array(['Endres, Miss. Caroline Louise'], dtype=object),\n",
       " array(['Eustis, Miss. Elizabeth Mussey'], dtype=object),\n",
       " array(['Evans, Miss. Edith Corse'], dtype=object),\n",
       " array(['Farthing, Mr. John'], dtype=object),\n",
       " array(['Flegenheim, Mrs. Alfred (Antoinette)'], dtype=object),\n",
       " array(['Fleming, Miss. Margaret'], dtype=object),\n",
       " array(['Flynn, Mr. John Irwin (\"Irving\")'], dtype=object),\n",
       " array(['Foreman, Mr. Benjamin Laventall'], dtype=object),\n",
       " array(['Fortune, Miss. Alice Elizabeth'], dtype=object),\n",
       " array(['Fortune, Miss. Ethel Flora'], dtype=object),\n",
       " array(['Fortune, Miss. Mabel Helen'], dtype=object),\n",
       " array(['Fortune, Mr. Charles Alexander'], dtype=object),\n",
       " array(['Fortune, Mr. Mark'], dtype=object),\n",
       " array(['Fortune, Mrs. Mark (Mary McDougald)'], dtype=object),\n",
       " array(['Francatelli, Miss. Laura Mabel'], dtype=object),\n",
       " array(['Franklin, Mr. Thomas Parham'], dtype=object),\n",
       " array(['Frauenthal, Dr. Henry William'], dtype=object),\n",
       " array(['Frauenthal, Mr. Isaac Gerald'], dtype=object),\n",
       " array(['Frauenthal, Mrs. Henry William (Clara Heinsheimer)'], dtype=object),\n",
       " array(['Frolicher, Miss. Hedwig Margaritha'], dtype=object),\n",
       " array(['Frolicher-Stehli, Mr. Maxmillian'], dtype=object),\n",
       " array(['Frolicher-Stehli, Mrs. Maxmillian (Margaretha Emerentia Stehli)'],\n",
       "       dtype=object),\n",
       " array(['Fry, Mr. Richard'], dtype=object),\n",
       " array(['Futrelle, Mr. Jacques Heath'], dtype=object),\n",
       " array(['Futrelle, Mrs. Jacques Heath (Lily May Peel)'], dtype=object),\n",
       " array(['Gee, Mr. Arthur H'], dtype=object),\n",
       " array(['Geiger, Miss. Amalie'], dtype=object),\n",
       " array(['Gibson, Miss. Dorothy Winifred'], dtype=object),\n",
       " array(['Gibson, Mrs. Leonard (Pauline C Boeson)'], dtype=object),\n",
       " array(['Giglio, Mr. Victor'], dtype=object),\n",
       " array(['Goldenberg, Mr. Samuel L'], dtype=object),\n",
       " array(['Goldenberg, Mrs. Samuel L (Edwiga Grabowska)'], dtype=object),\n",
       " array(['Goldschmidt, Mr. George B'], dtype=object),\n",
       " array(['Gracie, Col. Archibald IV'], dtype=object),\n",
       " array(['Graham, Miss. Margaret Edith'], dtype=object),\n",
       " array(['Graham, Mr. George Edward'], dtype=object),\n",
       " array(['Graham, Mrs. William Thompson (Edith Junkins)'], dtype=object),\n",
       " array(['Greenfield, Mr. William Bertram'], dtype=object),\n",
       " array(['Greenfield, Mrs. Leo David (Blanche Strouse)'], dtype=object),\n",
       " array(['Guggenheim, Mr. Benjamin'], dtype=object),\n",
       " array(['Harder, Mr. George Achilles'], dtype=object),\n",
       " array(['Harder, Mrs. George Achilles (Dorothy Annan)'], dtype=object),\n",
       " array(['Harper, Mr. Henry Sleeper'], dtype=object),\n",
       " array(['Harper, Mrs. Henry Sleeper (Myna Haxtun)'], dtype=object),\n",
       " array(['Harrington, Mr. Charles H'], dtype=object),\n",
       " array(['Harris, Mr. Henry Birkhardt'], dtype=object),\n",
       " array(['Harris, Mrs. Henry Birkhardt (Irene Wallach)'], dtype=object),\n",
       " array(['Harrison, Mr. William'], dtype=object),\n",
       " array(['Hassab, Mr. Hammad'], dtype=object),\n",
       " array(['Hawksford, Mr. Walter James'], dtype=object),\n",
       " array(['Hays, Miss. Margaret Bechstein'], dtype=object),\n",
       " array(['Hays, Mr. Charles Melville'], dtype=object),\n",
       " array(['Hays, Mrs. Charles Melville (Clara Jennings Gregg)'], dtype=object),\n",
       " array(['Head, Mr. Christopher'], dtype=object),\n",
       " array(['Hilliard, Mr. Herbert Henry'], dtype=object),\n",
       " array(['Hipkins, Mr. William Edward'], dtype=object),\n",
       " array(['Hippach, Miss. Jean Gertrude'], dtype=object),\n",
       " array(['Hippach, Mrs. Louis Albert (Ida Sophia Fischer)'], dtype=object),\n",
       " array(['Hogeboom, Mrs. John C (Anna Andrews)'], dtype=object),\n",
       " array(['Holverson, Mr. Alexander Oskar'], dtype=object),\n",
       " array(['Holverson, Mrs. Alexander Oskar (Mary Aline Towner)'],\n",
       "       dtype=object),\n",
       " array(['Homer, Mr. Harry (\"Mr E Haven\")'], dtype=object),\n",
       " array(['Hoyt, Mr. Frederick Maxfield'], dtype=object),\n",
       " array(['Hoyt, Mr. William Fisher'], dtype=object),\n",
       " array(['Hoyt, Mrs. Frederick Maxfield (Jane Anne Forby)'], dtype=object),\n",
       " array(['Icard, Miss. Amelie'], dtype=object),\n",
       " array(['Isham, Miss. Ann Elizabeth'], dtype=object),\n",
       " array(['Ismay, Mr. Joseph Bruce'], dtype=object),\n",
       " array(['Jones, Mr. Charles Cresson'], dtype=object),\n",
       " array(['Julian, Mr. Henry Forbes'], dtype=object),\n",
       " array(['Keeping, Mr. Edwin'], dtype=object),\n",
       " array(['Kent, Mr. Edward Austin'], dtype=object),\n",
       " array(['Kenyon, Mr. Frederick R'], dtype=object),\n",
       " array(['Kenyon, Mrs. Frederick R (Marion)'], dtype=object),\n",
       " array(['Kimball, Mr. Edwin Nelson Jr'], dtype=object),\n",
       " array(['Kimball, Mrs. Edwin Nelson Jr (Gertrude Parsons)'], dtype=object),\n",
       " array(['Klaber, Mr. Herman'], dtype=object),\n",
       " array(['Kreuchen, Miss. Emilie'], dtype=object),\n",
       " array(['Leader, Dr. Alice (Farnham)'], dtype=object),\n",
       " array(['LeRoy, Miss. Bertha'], dtype=object),\n",
       " array(['Lesurer, Mr. Gustave J'], dtype=object),\n",
       " array(['Lewy, Mr. Ervin G'], dtype=object),\n",
       " array(['Lindeberg-Lind, Mr. Erik Gustaf (\"Mr Edward Lingrey\")'],\n",
       "       dtype=object),\n",
       " array(['Lindstrom, Mrs. Carl Johan (Sigrid Posse)'], dtype=object),\n",
       " array(['Lines, Miss. Mary Conover'], dtype=object),\n",
       " array(['Lines, Mrs. Ernest H (Elizabeth Lindsey James)'], dtype=object),\n",
       " array(['Long, Mr. Milton Clyde'], dtype=object),\n",
       " array(['Longley, Miss. Gretchen Fiske'], dtype=object),\n",
       " array(['Loring, Mr. Joseph Holland'], dtype=object),\n",
       " array(['Lurette, Miss. Elise'], dtype=object),\n",
       " array(['Madill, Miss. Georgette Alexandra'], dtype=object),\n",
       " array(['Maguire, Mr. John Edward'], dtype=object),\n",
       " array(['Maioni, Miss. Roberta'], dtype=object),\n",
       " array(['Marechal, Mr. Pierre'], dtype=object),\n",
       " array(['Marvin, Mr. Daniel Warner'], dtype=object),\n",
       " array(['Marvin, Mrs. Daniel Warner (Mary Graham Carmichael Farquarson)'],\n",
       "       dtype=object),\n",
       " array(['Mayne, Mlle. Berthe Antonine (\"Mrs de Villiers\")'], dtype=object),\n",
       " array(['McCaffry, Mr. Thomas Francis'], dtype=object),\n",
       " array(['McCarthy, Mr. Timothy J'], dtype=object),\n",
       " array(['McGough, Mr. James Robert'], dtype=object),\n",
       " array(['Meyer, Mr. Edgar Joseph'], dtype=object),\n",
       " array(['Meyer, Mrs. Edgar Joseph (Leila Saks)'], dtype=object),\n",
       " array(['Millet, Mr. Francis Davis'], dtype=object),\n",
       " array(['Minahan, Dr. William Edward'], dtype=object),\n",
       " array(['Minahan, Miss. Daisy E'], dtype=object),\n",
       " array(['Minahan, Mrs. William Edward (Lillian E Thorpe)'], dtype=object),\n",
       " array(['Mock, Mr. Philipp Edmund'], dtype=object),\n",
       " array(['Molson, Mr. Harry Markland'], dtype=object),\n",
       " array(['Moore, Mr. Clarence Bloomfield'], dtype=object),\n",
       " array(['Natsch, Mr. Charles H'], dtype=object),\n",
       " array(['Newell, Miss. Madeleine'], dtype=object),\n",
       " array(['Newell, Miss. Marjorie'], dtype=object),\n",
       " array(['Newell, Mr. Arthur Webster'], dtype=object),\n",
       " array(['Newsom, Miss. Helen Monypeny'], dtype=object),\n",
       " array(['Nicholson, Mr. Arthur Ernest'], dtype=object),\n",
       " array(['Oliva y Ocana, Dona. Fermina'], dtype=object),\n",
       " array(['Omont, Mr. Alfred Fernand'], dtype=object),\n",
       " array(['Ostby, Miss. Helene Ragnhild'], dtype=object),\n",
       " array(['Ostby, Mr. Engelhart Cornelius'], dtype=object),\n",
       " array(['Ovies y Rodriguez, Mr. Servando'], dtype=object),\n",
       " array(['Parr, Mr. William Henry Marsh'], dtype=object),\n",
       " array(['Partner, Mr. Austen'], dtype=object),\n",
       " array(['Payne, Mr. Vivian Ponsonby'], dtype=object),\n",
       " array(['Pears, Mr. Thomas Clinton'], dtype=object),\n",
       " array(['Pears, Mrs. Thomas (Edith Wearne)'], dtype=object),\n",
       " array(['Penasco y Castellana, Mr. Victor de Satode'], dtype=object),\n",
       " array(['Penasco y Castellana, Mrs. Victor de Satode (Maria Josefa Perez de Soto y Vallejo)'],\n",
       "       dtype=object),\n",
       " array(['Perreault, Miss. Anne'], dtype=object),\n",
       " array(['Peuchen, Major. Arthur Godfrey'], dtype=object),\n",
       " array(['Porter, Mr. Walter Chamberlain'], dtype=object),\n",
       " array(['Potter, Mrs. Thomas Jr (Lily Alexenia Wilson)'], dtype=object),\n",
       " array(['Reuchlin, Jonkheer. John George'], dtype=object),\n",
       " array(['Rheims, Mr. George Alexander Lucien'], dtype=object),\n",
       " array(['Ringhini, Mr. Sante'], dtype=object),\n",
       " array(['Robbins, Mr. Victor'], dtype=object),\n",
       " array(['Robert, Mrs. Edward Scott (Elisabeth Walton McMillan)'],\n",
       "       dtype=object),\n",
       " array(['Roebling, Mr. Washington Augustus II'], dtype=object),\n",
       " array(['Romaine, Mr. Charles Hallace (\"Mr C Rolmane\")'], dtype=object),\n",
       " array(['Rood, Mr. Hugh Roscoe'], dtype=object),\n",
       " array(['Rosenbaum, Miss. Edith Louise'], dtype=object),\n",
       " array(['Rosenshine, Mr. George (\"Mr George Thorne\")'], dtype=object),\n",
       " array(['Ross, Mr. John Hugo'], dtype=object),\n",
       " array(['Rothes, the Countess. of (Lucy Noel Martha Dyer-Edwards)'],\n",
       "       dtype=object),\n",
       " array(['Rothschild, Mr. Martin'], dtype=object),\n",
       " array(['Rothschild, Mrs. Martin (Elizabeth L. Barrett)'], dtype=object),\n",
       " array(['Rowe, Mr. Alfred G'], dtype=object),\n",
       " array(['Ryerson, Master. John Borie'], dtype=object),\n",
       " array(['Ryerson, Miss. Emily Borie'], dtype=object),\n",
       " array(['Ryerson, Miss. Susan Parker \"Suzette\"'], dtype=object),\n",
       " array(['Ryerson, Mr. Arthur Larned'], dtype=object),\n",
       " array(['Ryerson, Mrs. Arthur Larned (Emily Maria Borie)'], dtype=object),\n",
       " array(['Saalfeld, Mr. Adolphe'], dtype=object),\n",
       " array(['Sagesser, Mlle. Emma'], dtype=object),\n",
       " array(['Salomon, Mr. Abraham L'], dtype=object),\n",
       " array(['Schabert, Mrs. Paul (Emma Mock)'], dtype=object),\n",
       " array(['Serepeca, Miss. Augusta'], dtype=object),\n",
       " array(['Seward, Mr. Frederic Kimber'], dtype=object),\n",
       " array(['Shutes, Miss. Elizabeth W'], dtype=object),\n",
       " array(['Silverthorne, Mr. Spencer Victor'], dtype=object),\n",
       " array(['Silvey, Mr. William Baird'], dtype=object),\n",
       " array(['Silvey, Mrs. William Baird (Alice Munger)'], dtype=object),\n",
       " array(['Simonius-Blumer, Col. Oberst Alfons'], dtype=object),\n",
       " array(['Sloper, Mr. William Thompson'], dtype=object),\n",
       " array(['Smart, Mr. John Montgomery'], dtype=object),\n",
       " array(['Smith, Mr. James Clinch'], dtype=object),\n",
       " array(['Smith, Mr. Lucien Philip'], dtype=object),\n",
       " array(['Smith, Mr. Richard William'], dtype=object),\n",
       " array(['Smith, Mrs. Lucien Philip (Mary Eloise Hughes)'], dtype=object),\n",
       " array(['Snyder, Mr. John Pillsbury'], dtype=object),\n",
       " array(['Snyder, Mrs. John Pillsbury (Nelle Stevenson)'], dtype=object),\n",
       " array(['Spedden, Master. Robert Douglas'], dtype=object),\n",
       " array(['Spedden, Mr. Frederic Oakley'], dtype=object),\n",
       " array(['Spedden, Mrs. Frederic Oakley (Margaretta Corning Stone)'],\n",
       "       dtype=object),\n",
       " array(['Spencer, Mr. William Augustus'], dtype=object),\n",
       " array(['Spencer, Mrs. William Augustus (Marie Eugenie)'], dtype=object),\n",
       " array(['Stahelin-Maeglin, Dr. Max'], dtype=object),\n",
       " array(['Stead, Mr. William Thomas'], dtype=object),\n",
       " array(['Stengel, Mr. Charles Emil Henry'], dtype=object),\n",
       " array(['Stengel, Mrs. Charles Emil Henry (Annie May Morris)'],\n",
       "       dtype=object),\n",
       " array(['Stephenson, Mrs. Walter Bertram (Martha Eustis)'], dtype=object),\n",
       " array(['Stewart, Mr. Albert A'], dtype=object),\n",
       " array(['Stone, Mrs. George Nelson (Martha Evelyn)'], dtype=object),\n",
       " array(['Straus, Mr. Isidor'], dtype=object),\n",
       " array(['Straus, Mrs. Isidor (Rosalie Ida Blun)'], dtype=object),\n",
       " array(['Sutton, Mr. Frederick'], dtype=object),\n",
       " array(['Swift, Mrs. Frederick Joel (Margaret Welles Barron)'],\n",
       "       dtype=object),\n",
       " array(['Taussig, Miss. Ruth'], dtype=object),\n",
       " array(['Taussig, Mr. Emil'], dtype=object),\n",
       " array(['Taussig, Mrs. Emil (Tillie Mandelbaum)'], dtype=object),\n",
       " array(['Taylor, Mr. Elmer Zebley'], dtype=object),\n",
       " array(['Taylor, Mrs. Elmer Zebley (Juliet Cummins Wright)'], dtype=object),\n",
       " array(['Thayer, Mr. John Borland'], dtype=object),\n",
       " array(['Thayer, Mr. John Borland Jr'], dtype=object),\n",
       " array(['Thayer, Mrs. John Borland (Marian Longstreth Morris)'],\n",
       "       dtype=object),\n",
       " array(['Thorne, Mrs. Gertrude Maybelle'], dtype=object),\n",
       " array(['Tucker, Mr. Gilbert Milligan Jr'], dtype=object),\n",
       " array(['Uruchurtu, Don. Manuel E'], dtype=object),\n",
       " array(['Van der hoef, Mr. Wyckoff'], dtype=object),\n",
       " array(['Walker, Mr. William Anderson'], dtype=object),\n",
       " array(['Ward, Miss. Anna'], dtype=object),\n",
       " array(['Warren, Mr. Frank Manley'], dtype=object),\n",
       " array(['Warren, Mrs. Frank Manley (Anna Sophia Atkinson)'], dtype=object),\n",
       " array(['Weir, Col. John'], dtype=object),\n",
       " array(['White, Mr. Percival Wayland'], dtype=object),\n",
       " array(['White, Mr. Richard Frasar'], dtype=object),\n",
       " array(['White, Mrs. John Stuart (Ella Holmes)'], dtype=object),\n",
       " array(['Wick, Miss. Mary Natalie'], dtype=object),\n",
       " array(['Wick, Mr. George Dennick'], dtype=object),\n",
       " array(['Wick, Mrs. George Dennick (Mary Hitchcock)'], dtype=object),\n",
       " array(['Widener, Mr. George Dunton'], dtype=object),\n",
       " array(['Widener, Mr. Harry Elkins'], dtype=object),\n",
       " array(['Widener, Mrs. George Dunton (Eleanor Elkins)'], dtype=object),\n",
       " array(['Willard, Miss. Constance'], dtype=object),\n",
       " array(['Williams, Mr. Charles Duane'], dtype=object),\n",
       " array(['Williams, Mr. Richard Norris II'], dtype=object),\n",
       " array(['Williams-Lambert, Mr. Fletcher Fellows'], dtype=object),\n",
       " array(['Wilson, Miss. Helen Alice'], dtype=object),\n",
       " array(['Woolner, Mr. Hugh'], dtype=object),\n",
       " array(['Wright, Mr. George'], dtype=object),\n",
       " array(['Young, Miss. Marie Grice'], dtype=object),\n",
       " array(['Abelson, Mr. Samuel'], dtype=object),\n",
       " array(['Abelson, Mrs. Samuel (Hannah Wizosky)'], dtype=object),\n",
       " array(['Aldworth, Mr. Charles Augustus'], dtype=object),\n",
       " array(['Andrew, Mr. Edgardo Samuel'], dtype=object),\n",
       " array(['Andrew, Mr. Frank Thomas'], dtype=object),\n",
       " array(['Angle, Mr. William A'], dtype=object),\n",
       " array(['Angle, Mrs. William A (Florence \"Mary\" Agnes Hughes)'],\n",
       "       dtype=object),\n",
       " array(['Ashby, Mr. John'], dtype=object),\n",
       " array(['Bailey, Mr. Percy Andrew'], dtype=object),\n",
       " array(['Baimbrigge, Mr. Charles Robert'], dtype=object),\n",
       " array(['Ball, Mrs. (Ada E Hall)'], dtype=object),\n",
       " array(['Banfield, Mr. Frederick James'], dtype=object),\n",
       " array(['Bateman, Rev. Robert James'], dtype=object),\n",
       " array(['Beane, Mr. Edward'], dtype=object),\n",
       " array(['Beane, Mrs. Edward (Ethel Clarke)'], dtype=object),\n",
       " array(['Beauchamp, Mr. Henry James'], dtype=object),\n",
       " array(['Becker, Master. Richard F'], dtype=object),\n",
       " array(['Becker, Miss. Marion Louise'], dtype=object),\n",
       " array(['Becker, Miss. Ruth Elizabeth'], dtype=object),\n",
       " array(['Becker, Mrs. Allen Oliver (Nellie E Baumgardner)'], dtype=object),\n",
       " array(['Beesley, Mr. Lawrence'], dtype=object),\n",
       " array(['Bentham, Miss. Lilian W'], dtype=object),\n",
       " array(['Berriman, Mr. William John'], dtype=object),\n",
       " array(['Botsford, Mr. William Hull'], dtype=object),\n",
       " array(['Bowenur, Mr. Solomon'], dtype=object),\n",
       " array(['Bracken, Mr. James H'], dtype=object),\n",
       " array(['Brown, Miss. Amelia \"Mildred\"'], dtype=object),\n",
       " array(['Brown, Miss. Edith Eileen'], dtype=object),\n",
       " array(['Brown, Mr. Thomas William Solomon'], dtype=object),\n",
       " array(['Brown, Mrs. Thomas William Solomon (Elizabeth Catherine Ford)'],\n",
       "       dtype=object),\n",
       " array(['Bryhl, Miss. Dagmar Jenny Ingeborg '], dtype=object),\n",
       " array(['Bryhl, Mr. Kurt Arnold Gottfrid'], dtype=object),\n",
       " array(['Buss, Miss. Kate'], dtype=object),\n",
       " array(['Butler, Mr. Reginald Fenton'], dtype=object),\n",
       " array(['Byles, Rev. Thomas Roussel Davids'], dtype=object),\n",
       " array(['Bystrom, Mrs. (Karolina)'], dtype=object),\n",
       " array(['Caldwell, Master. Alden Gates'], dtype=object),\n",
       " array(['Caldwell, Mr. Albert Francis'], dtype=object),\n",
       " array(['Caldwell, Mrs. Albert Francis (Sylvia Mae Harbaugh)'],\n",
       "       dtype=object),\n",
       " array(['Cameron, Miss. Clear Annie'], dtype=object),\n",
       " array(['Campbell, Mr. William'], dtype=object),\n",
       " array(['Carbines, Mr. William'], dtype=object),\n",
       " array(['Carter, Mrs. Ernest Courtenay (Lilian Hughes)'], dtype=object),\n",
       " array(['Carter, Rev. Ernest Courtenay'], dtype=object),\n",
       " array(['Chapman, Mr. Charles Henry'], dtype=object),\n",
       " array(['Chapman, Mr. John Henry'], dtype=object),\n",
       " array(['Chapman, Mrs. John Henry (Sara Elizabeth Lawry)'], dtype=object),\n",
       " array(['Christy, Miss. Julie Rachel'], dtype=object),\n",
       " array(['Christy, Mrs. (Alice Frances)'], dtype=object),\n",
       " array(['Clarke, Mr. Charles Valentine'], dtype=object),\n",
       " array(['Clarke, Mrs. Charles V (Ada Maria Winfield)'], dtype=object),\n",
       " array(['Coleridge, Mr. Reginald Charles'], dtype=object),\n",
       " array(['Collander, Mr. Erik Gustaf'], dtype=object),\n",
       " array(['Collett, Mr. Sidney C Stuart'], dtype=object),\n",
       " array(['Collyer, Miss. Marjorie \"Lottie\"'], dtype=object),\n",
       " array(['Collyer, Mr. Harvey'], dtype=object),\n",
       " array(['Collyer, Mrs. Harvey (Charlotte Annie Tate)'], dtype=object),\n",
       " array(['Cook, Mrs. (Selena Rogers)'], dtype=object),\n",
       " array(['Corbett, Mrs. Walter H (Irene Colvin)'], dtype=object),\n",
       " array(['Corey, Mrs. Percy C (Mary Phyllis Elizabeth Miller)'],\n",
       "       dtype=object),\n",
       " array(['Cotterill, Mr. Henry \"Harry\"'], dtype=object),\n",
       " array(['Cunningham, Mr. Alfred Fleming'], dtype=object),\n",
       " array(['Davies, Master. John Morgan Jr'], dtype=object),\n",
       " array(['Davies, Mr. Charles Henry'], dtype=object),\n",
       " array(['Davies, Mrs. John Morgan (Elizabeth Agnes Mary White) '],\n",
       "       dtype=object),\n",
       " array(['Davis, Miss. Mary'], dtype=object),\n",
       " array(['de Brito, Mr. Jose Joaquim'], dtype=object),\n",
       " array(['Deacon, Mr. Percy William'], dtype=object),\n",
       " array(['del Carlo, Mr. Sebastiano'], dtype=object),\n",
       " array(['del Carlo, Mrs. Sebastiano (Argenia Genovesi)'], dtype=object),\n",
       " array(['Denbury, Mr. Herbert'], dtype=object),\n",
       " array(['Dibden, Mr. William'], dtype=object),\n",
       " array(['Doling, Miss. Elsie'], dtype=object),\n",
       " array(['Doling, Mrs. John T (Ada Julia Bone)'], dtype=object),\n",
       " array(['Downton, Mr. William James'], dtype=object),\n",
       " array(['Drew, Master. Marshall Brines'], dtype=object),\n",
       " array(['Drew, Mr. James Vivian'], dtype=object),\n",
       " array(['Drew, Mrs. James Vivian (Lulu Thorne Christian)'], dtype=object),\n",
       " array(['Duran y More, Miss. Asuncion'], dtype=object),\n",
       " array(['Duran y More, Miss. Florentina'], dtype=object),\n",
       " array(['Eitemiller, Mr. George Floyd'], dtype=object),\n",
       " array(['Enander, Mr. Ingvar'], dtype=object),\n",
       " array(['Fahlstrom, Mr. Arne Jonas'], dtype=object),\n",
       " array(['Faunthorpe, Mr. Harry'], dtype=object),\n",
       " array(['Faunthorpe, Mrs. Lizzie (Elizabeth Anne Wilkinson)'], dtype=object),\n",
       " array(['Fillbrook, Mr. Joseph Charles'], dtype=object),\n",
       " array(['Fox, Mr. Stanley Hubert'], dtype=object),\n",
       " array(['Frost, Mr. Anthony Wood \"Archie\"'], dtype=object),\n",
       " array(['Funk, Miss. Annie Clemmer'], dtype=object),\n",
       " array(['Fynney, Mr. Joseph J'], dtype=object),\n",
       " array(['Gale, Mr. Harry'], dtype=object),\n",
       " array(['Gale, Mr. Shadrach'], dtype=object),\n",
       " array(['Garside, Miss. Ethel'], dtype=object),\n",
       " array(['Gaskell, Mr. Alfred'], dtype=object),\n",
       " array(['Gavey, Mr. Lawrence'], dtype=object),\n",
       " array(['Gilbert, Mr. William'], dtype=object),\n",
       " array(['Giles, Mr. Edgar'], dtype=object),\n",
       " array(['Giles, Mr. Frederick Edward'], dtype=object),\n",
       " array(['Giles, Mr. Ralph'], dtype=object),\n",
       " array(['Gill, Mr. John William'], dtype=object),\n",
       " array(['Gillespie, Mr. William Henry'], dtype=object),\n",
       " array(['Givard, Mr. Hans Kristensen'], dtype=object),\n",
       " array(['Greenberg, Mr. Samuel'], dtype=object),\n",
       " array(['Hale, Mr. Reginald'], dtype=object),\n",
       " array(['Hamalainen, Master. Viljo'], dtype=object),\n",
       " array(['Hamalainen, Mrs. William (Anna)'], dtype=object),\n",
       " array(['Harbeck, Mr. William H'], dtype=object),\n",
       " array(['Harper, Miss. Annie Jessie \"Nina\"'], dtype=object),\n",
       " array(['Harper, Rev. John'], dtype=object),\n",
       " array(['Harris, Mr. George'], dtype=object),\n",
       " array(['Harris, Mr. Walter'], dtype=object),\n",
       " array(['Hart, Miss. Eva Miriam'], dtype=object),\n",
       " array(['Hart, Mr. Benjamin'], dtype=object),\n",
       " array(['Hart, Mrs. Benjamin (Esther Ada Bloomfield)'], dtype=object),\n",
       " array(['Herman, Miss. Alice'], dtype=object),\n",
       " array(['Herman, Miss. Kate'], dtype=object),\n",
       " array(['Herman, Mr. Samuel'], dtype=object),\n",
       " array(['Herman, Mrs. Samuel (Jane Laver)'], dtype=object),\n",
       " array(['Hewlett, Mrs. (Mary D Kingcome) '], dtype=object),\n",
       " array(['Hickman, Mr. Leonard Mark'], dtype=object),\n",
       " array(['Hickman, Mr. Lewis'], dtype=object),\n",
       " array(['Hickman, Mr. Stanley George'], dtype=object),\n",
       " array(['Hiltunen, Miss. Marta'], dtype=object),\n",
       " array(['Hocking, Miss. Ellen \"Nellie\"'], dtype=object),\n",
       " array(['Hocking, Mr. Richard George'], dtype=object),\n",
       " array(['Hocking, Mr. Samuel James Metcalfe'], dtype=object),\n",
       " array(['Hocking, Mrs. Elizabeth (Eliza Needs)'], dtype=object),\n",
       " array(['Hodges, Mr. Henry Price'], dtype=object),\n",
       " array(['Hold, Mr. Stephen'], dtype=object),\n",
       " array(['Hold, Mrs. Stephen (Annie Margaret Hill)'], dtype=object),\n",
       " array(['Hood, Mr. Ambrose Jr'], dtype=object),\n",
       " array(['Hosono, Mr. Masabumi'], dtype=object),\n",
       " array(['Howard, Mr. Benjamin'], dtype=object),\n",
       " array(['Howard, Mrs. Benjamin (Ellen Truelove Arman)'], dtype=object),\n",
       " array(['Hunt, Mr. George Henry'], dtype=object),\n",
       " array(['Ilett, Miss. Bertha'], dtype=object),\n",
       " array(['Jacobsohn, Mr. Sidney Samuel'], dtype=object),\n",
       " array(['Jacobsohn, Mrs. Sidney Samuel (Amy Frances Christy)'],\n",
       "       dtype=object),\n",
       " array(['Jarvis, Mr. John Denzil'], dtype=object),\n",
       " array(['Jefferys, Mr. Clifford Thomas'], dtype=object),\n",
       " array(['Jefferys, Mr. Ernest Wilfred'], dtype=object),\n",
       " array(['Jenkin, Mr. Stephen Curnow'], dtype=object),\n",
       " array(['Jerwan, Mrs. Amin S (Marie Marthe Thuillard)'], dtype=object),\n",
       " array(['Kantor, Mr. Sinai'], dtype=object),\n",
       " array(['Kantor, Mrs. Sinai (Miriam Sternin)'], dtype=object),\n",
       " array(['Karnes, Mrs. J Frank (Claire Bennett)'], dtype=object),\n",
       " array(['Keane, Miss. Nora A'], dtype=object),\n",
       " array(['Keane, Mr. Daniel'], dtype=object),\n",
       " array(['Kelly, Mrs. Florence \"Fannie\"'], dtype=object),\n",
       " array(['Kirkland, Rev. Charles Leonard'], dtype=object),\n",
       " array(['Knight, Mr. Robert J'], dtype=object),\n",
       " array(['Kvillner, Mr. Johan Henrik Johannesson'], dtype=object),\n",
       " array(['Lahtinen, Mrs. William (Anna Sylfven)'], dtype=object),\n",
       " array(['Lahtinen, Rev. William'], dtype=object),\n",
       " array(['Lamb, Mr. John Joseph'], dtype=object),\n",
       " array(['Laroche, Miss. Louise'], dtype=object),\n",
       " array(['Laroche, Miss. Simonne Marie Anne Andree'], dtype=object),\n",
       " array(['Laroche, Mr. Joseph Philippe Lemercier'], dtype=object),\n",
       " array(['Laroche, Mrs. Joseph (Juliette Marie Louise Lafargue)'],\n",
       "       dtype=object),\n",
       " array(['Lehmann, Miss. Bertha'], dtype=object),\n",
       " array(['Leitch, Miss. Jessie Wills'], dtype=object),\n",
       " array(['Lemore, Mrs. (Amelia Milley)'], dtype=object),\n",
       " array(['Levy, Mr. Rene Jacques'], dtype=object),\n",
       " array(['Leyson, Mr. Robert William Norman'], dtype=object),\n",
       " array(['Lingane, Mr. John'], dtype=object),\n",
       " array(['Louch, Mr. Charles Alexander'], dtype=object),\n",
       " array(['Louch, Mrs. Charles Alexander (Alice Adelaide Slow)'],\n",
       "       dtype=object),\n",
       " array(['Mack, Mrs. (Mary)'], dtype=object),\n",
       " array(['Malachard, Mr. Noel'], dtype=object),\n",
       " array(['Mallet, Master. Andre'], dtype=object),\n",
       " array(['Mallet, Mr. Albert'], dtype=object),\n",
       " array(['Mallet, Mrs. Albert (Antoinette Magnin)'], dtype=object),\n",
       " array(['Mangiavacchi, Mr. Serafino Emilio'], dtype=object),\n",
       " array(['Matthews, Mr. William John'], dtype=object),\n",
       " array(['Maybery, Mr. Frank Hubert'], dtype=object),\n",
       " array(['McCrae, Mr. Arthur Gordon'], dtype=object),\n",
       " array(['McCrie, Mr. James Matthew'], dtype=object)]"
      ]
     },
     "execution_count": 6,
     "metadata": {},
     "output_type": "execute_result"
    }
   ],
   "source": [
    "Z=Y[0:500]\n",
    "list(Z)"
   ]
  },
  {
   "cell_type": "code",
   "execution_count": 7,
   "metadata": {},
   "outputs": [
    {
     "data": {
      "text/plain": [
       "array([['Abelson, Mr. Samuel'],\n",
       "       ['Abelson, Mrs. Samuel (Hannah Wizosky)'],\n",
       "       ['Aldworth, Mr. Charles Augustus'],\n",
       "       ['Allen, Miss. Elisabeth Walton'],\n",
       "       ['Allison, Master. Hudson Trevor'],\n",
       "       ['Allison, Miss. Helen Loraine'],\n",
       "       ['Allison, Mr. Hudson Joshua Creighton'],\n",
       "       ['Allison, Mrs. Hudson J C (Bessie Waldo Daniels)'],\n",
       "       ['Anderson, Mr. Harry'],\n",
       "       ['Andrew, Mr. Edgardo Samuel'],\n",
       "       ['Andrew, Mr. Frank Thomas'],\n",
       "       ['Andrews, Miss. Kornelia Theodosia'],\n",
       "       ['Andrews, Mr. Thomas Jr'],\n",
       "       ['Angle, Mr. William A'],\n",
       "       ['Angle, Mrs. William A (Florence \"Mary\" Agnes Hughes)'],\n",
       "       ['Appleton, Mrs. Edward Dale (Charlotte Lamson)'],\n",
       "       ['Artagaveytia, Mr. Ramon'],\n",
       "       ['Ashby, Mr. John'],\n",
       "       ['Astor, Col. John Jacob'],\n",
       "       ['Astor, Mrs. John Jacob (Madeleine Talmadge Force)'],\n",
       "       ['Aubart, Mme. Leontine Pauline'],\n",
       "       ['Bailey, Mr. Percy Andrew'],\n",
       "       ['Baimbrigge, Mr. Charles Robert'],\n",
       "       ['Ball, Mrs. (Ada E Hall)'],\n",
       "       ['Banfield, Mr. Frederick James'],\n",
       "       ['Barber, Miss. Ellen \"Nellie\"'],\n",
       "       ['Barkworth, Mr. Algernon Henry Wilson'],\n",
       "       ['Bateman, Rev. Robert James'],\n",
       "       ['Baumann, Mr. John D'],\n",
       "       ['Baxter, Mr. Quigg Edmond'],\n",
       "       ['Baxter, Mrs. James (Helene DeLaudeniere Chaput)'],\n",
       "       ['Bazzani, Miss. Albina'],\n",
       "       ['Beane, Mr. Edward'],\n",
       "       ['Beane, Mrs. Edward (Ethel Clarke)'],\n",
       "       ['Beattie, Mr. Thomson'],\n",
       "       ['Beauchamp, Mr. Henry James'],\n",
       "       ['Becker, Master. Richard F'],\n",
       "       ['Becker, Miss. Marion Louise'],\n",
       "       ['Becker, Miss. Ruth Elizabeth'],\n",
       "       ['Becker, Mrs. Allen Oliver (Nellie E Baumgardner)'],\n",
       "       ['Beckwith, Mr. Richard Leonard'],\n",
       "       ['Beckwith, Mrs. Richard Leonard (Sallie Monypeny)'],\n",
       "       ['Beesley, Mr. Lawrence'],\n",
       "       ['Behr, Mr. Karl Howell'],\n",
       "       ['Bentham, Miss. Lilian W'],\n",
       "       ['Berriman, Mr. William John'],\n",
       "       ['Bidois, Miss. Rosalie'],\n",
       "       ['Bird, Miss. Ellen'],\n",
       "       ['Birnbaum, Mr. Jakob'],\n",
       "       ['Bishop, Mr. Dickinson H'],\n",
       "       ['Bishop, Mrs. Dickinson H (Helen Walton)'],\n",
       "       ['Bissette, Miss. Amelia'],\n",
       "       ['Bjornstrom-Steffansson, Mr. Mauritz Hakan'],\n",
       "       ['Blackwell, Mr. Stephen Weart'],\n",
       "       ['Blank, Mr. Henry'],\n",
       "       ['Bonnell, Miss. Caroline'],\n",
       "       ['Bonnell, Miss. Elizabeth'],\n",
       "       ['Borebank, Mr. John James'],\n",
       "       ['Botsford, Mr. William Hull'],\n",
       "       ['Bowen, Miss. Grace Scott'],\n",
       "       ['Bowenur, Mr. Solomon'],\n",
       "       ['Bowerman, Miss. Elsie Edith'],\n",
       "       ['Bracken, Mr. James H'],\n",
       "       ['Bradley, Mr. George (\"George Arthur Brayton\")'],\n",
       "       ['Brady, Mr. John Bertram'],\n",
       "       ['Brandeis, Mr. Emil'],\n",
       "       ['Brewe, Dr. Arthur Jackson'],\n",
       "       ['Brown, Miss. Amelia \"Mildred\"'],\n",
       "       ['Brown, Miss. Edith Eileen'],\n",
       "       ['Brown, Mr. Thomas William Solomon'],\n",
       "       ['Brown, Mrs. James Joseph (Margaret Tobin)'],\n",
       "       ['Brown, Mrs. John Murray (Caroline Lane Lamson)'],\n",
       "       ['Brown, Mrs. Thomas William Solomon (Elizabeth Catherine Ford)'],\n",
       "       ['Bryhl, Miss. Dagmar Jenny Ingeborg '],\n",
       "       ['Bryhl, Mr. Kurt Arnold Gottfrid'],\n",
       "       ['Bucknell, Mrs. William Robert (Emma Eliza Ward)'],\n",
       "       ['Burns, Miss. Elizabeth Margaret'],\n",
       "       ['Buss, Miss. Kate'],\n",
       "       ['Butler, Mr. Reginald Fenton'],\n",
       "       ['Butt, Major. Archibald Willingham'],\n",
       "       ['Byles, Rev. Thomas Roussel Davids'],\n",
       "       ['Bystrom, Mrs. (Karolina)'],\n",
       "       ['Cairns, Mr. Alexander'],\n",
       "       ['Calderhead, Mr. Edward Pennington'],\n",
       "       ['Caldwell, Master. Alden Gates'],\n",
       "       ['Caldwell, Mr. Albert Francis'],\n",
       "       ['Caldwell, Mrs. Albert Francis (Sylvia Mae Harbaugh)'],\n",
       "       ['Cameron, Miss. Clear Annie'],\n",
       "       ['Campbell, Mr. William'],\n",
       "       ['Candee, Mrs. Edward (Helen Churchill Hungerford)'],\n",
       "       ['Carbines, Mr. William'],\n",
       "       ['Cardeza, Mr. Thomas Drake Martinez'],\n",
       "       ['Cardeza, Mrs. James Warburton Martinez (Charlotte Wardle Drake)'],\n",
       "       ['Carlsson, Mr. Frans Olof'],\n",
       "       ['Carrau, Mr. Francisco M'],\n",
       "       ['Carrau, Mr. Jose Pedro'],\n",
       "       ['Carter, Master. William Thornton II'],\n",
       "       ['Carter, Miss. Lucile Polk'],\n",
       "       ['Carter, Mr. William Ernest'],\n",
       "       ['Carter, Mrs. Ernest Courtenay (Lilian Hughes)'],\n",
       "       ['Carter, Mrs. William Ernest (Lucile Polk)'],\n",
       "       ['Carter, Rev. Ernest Courtenay'],\n",
       "       ['Case, Mr. Howard Brown'],\n",
       "       ['Cassebeer, Mrs. Henry Arthur Jr (Eleanor Genevieve Fosdick)'],\n",
       "       ['Cavendish, Mr. Tyrell William'],\n",
       "       ['Cavendish, Mrs. Tyrell William (Julia Florence Siegel)'],\n",
       "       ['Chaffee, Mr. Herbert Fuller'],\n",
       "       ['Chaffee, Mrs. Herbert Fuller (Carrie Constance Toogood)'],\n",
       "       ['Chambers, Mr. Norman Campbell'],\n",
       "       ['Chambers, Mrs. Norman Campbell (Bertha Griggs)'],\n",
       "       ['Chapman, Mr. Charles Henry'],\n",
       "       ['Chapman, Mr. John Henry'],\n",
       "       ['Chapman, Mrs. John Henry (Sara Elizabeth Lawry)'],\n",
       "       ['Chaudanson, Miss. Victorine'],\n",
       "       ['Cherry, Miss. Gladys'],\n",
       "       ['Chevre, Mr. Paul Romaine'],\n",
       "       ['Chibnall, Mrs. (Edith Martha Bowerman)'],\n",
       "       ['Chisholm, Mr. Roderick Robert Crispin'],\n",
       "       ['Christy, Miss. Julie Rachel'],\n",
       "       ['Christy, Mrs. (Alice Frances)'],\n",
       "       ['Clark, Mr. Walter Miller'],\n",
       "       ['Clark, Mrs. Walter Miller (Virginia McDowell)'],\n",
       "       ['Clarke, Mr. Charles Valentine'],\n",
       "       ['Clarke, Mrs. Charles V (Ada Maria Winfield)'],\n",
       "       ['Cleaver, Miss. Alice'],\n",
       "       ['Clifford, Mr. George Quincy'],\n",
       "       ['Coleridge, Mr. Reginald Charles'],\n",
       "       ['Collander, Mr. Erik Gustaf'],\n",
       "       ['Collett, Mr. Sidney C Stuart'],\n",
       "       ['Colley, Mr. Edward Pomeroy'],\n",
       "       ['Collyer, Miss. Marjorie \"Lottie\"'],\n",
       "       ['Collyer, Mr. Harvey'],\n",
       "       ['Collyer, Mrs. Harvey (Charlotte Annie Tate)'],\n",
       "       ['Compton, Miss. Sara Rebecca'],\n",
       "       ['Compton, Mr. Alexander Taylor Jr'],\n",
       "       ['Compton, Mrs. Alexander Taylor (Mary Eliza Ingersoll)'],\n",
       "       ['Cook, Mrs. (Selena Rogers)'],\n",
       "       ['Corbett, Mrs. Walter H (Irene Colvin)'],\n",
       "       ['Corey, Mrs. Percy C (Mary Phyllis Elizabeth Miller)'],\n",
       "       ['Cornell, Mrs. Robert Clifford (Malvina Helen Lamson)'],\n",
       "       ['Cotterill, Mr. Henry \"Harry\"'],\n",
       "       ['Crafton, Mr. John Bertram'],\n",
       "       ['Crosby, Capt. Edward Gifford'],\n",
       "       ['Crosby, Miss. Harriet R'],\n",
       "       ['Crosby, Mrs. Edward Gifford (Catherine Elizabeth Halstead)'],\n",
       "       ['Cumings, Mr. John Bradley'],\n",
       "       ['Cumings, Mrs. John Bradley (Florence Briggs Thayer)'],\n",
       "       ['Cunningham, Mr. Alfred Fleming'],\n",
       "       ['Daly, Mr. Peter Denis '],\n",
       "       ['Daniel, Mr. Robert Williams'],\n",
       "       ['Daniels, Miss. Sarah'],\n",
       "       ['Davidson, Mr. Thornton'],\n",
       "       ['Davidson, Mrs. Thornton (Orian Hays)'],\n",
       "       ['Davies, Master. John Morgan Jr'],\n",
       "       ['Davies, Mr. Charles Henry'],\n",
       "       ['Davies, Mrs. John Morgan (Elizabeth Agnes Mary White) '],\n",
       "       ['Davis, Miss. Mary'],\n",
       "       ['Deacon, Mr. Percy William'],\n",
       "       ['Denbury, Mr. Herbert'],\n",
       "       ['Dibden, Mr. William'],\n",
       "       ['Dick, Mr. Albert Adrian'],\n",
       "       ['Dick, Mrs. Albert Adrian (Vera Gillespie)'],\n",
       "       ['Dodge, Dr. Washington'],\n",
       "       ['Dodge, Master. Washington'],\n",
       "       ['Dodge, Mrs. Washington (Ruth Vidaver)'],\n",
       "       ['Doling, Miss. Elsie'],\n",
       "       ['Doling, Mrs. John T (Ada Julia Bone)'],\n",
       "       ['Douglas, Mr. Walter Donald'],\n",
       "       ['Douglas, Mrs. Frederick Charles (Mary Helene Baxter)'],\n",
       "       ['Douglas, Mrs. Walter Donald (Mahala Dutton)'],\n",
       "       ['Downton, Mr. William James'],\n",
       "       ['Drew, Master. Marshall Brines'],\n",
       "       ['Drew, Mr. James Vivian'],\n",
       "       ['Drew, Mrs. James Vivian (Lulu Thorne Christian)'],\n",
       "       ['Duff Gordon, Lady. (Lucille Christiana Sutherland) (\"Mrs Morgan\")'],\n",
       "       ['Duff Gordon, Sir. Cosmo Edmund (\"Mr Morgan\")'],\n",
       "       ['Dulles, Mr. William Crothers'],\n",
       "       ['Duran y More, Miss. Asuncion'],\n",
       "       ['Duran y More, Miss. Florentina'],\n",
       "       ['Earnshaw, Mrs. Boulton (Olive Potter)'],\n",
       "       ['Eitemiller, Mr. George Floyd'],\n",
       "       ['Enander, Mr. Ingvar'],\n",
       "       ['Endres, Miss. Caroline Louise'],\n",
       "       ['Eustis, Miss. Elizabeth Mussey'],\n",
       "       ['Evans, Miss. Edith Corse'],\n",
       "       ['Fahlstrom, Mr. Arne Jonas'],\n",
       "       ['Farthing, Mr. John'],\n",
       "       ['Faunthorpe, Mr. Harry'],\n",
       "       ['Faunthorpe, Mrs. Lizzie (Elizabeth Anne Wilkinson)'],\n",
       "       ['Fillbrook, Mr. Joseph Charles'],\n",
       "       ['Flegenheim, Mrs. Alfred (Antoinette)'],\n",
       "       ['Fleming, Miss. Margaret'],\n",
       "       ['Flynn, Mr. John Irwin (\"Irving\")'],\n",
       "       ['Foreman, Mr. Benjamin Laventall'],\n",
       "       ['Fortune, Miss. Alice Elizabeth'],\n",
       "       ['Fortune, Miss. Ethel Flora'],\n",
       "       ['Fortune, Miss. Mabel Helen'],\n",
       "       ['Fortune, Mr. Charles Alexander'],\n",
       "       ['Fortune, Mr. Mark'],\n",
       "       ['Fortune, Mrs. Mark (Mary McDougald)'],\n",
       "       ['Fox, Mr. Stanley Hubert'],\n",
       "       ['Francatelli, Miss. Laura Mabel'],\n",
       "       ['Franklin, Mr. Thomas Parham'],\n",
       "       ['Frauenthal, Dr. Henry William'],\n",
       "       ['Frauenthal, Mr. Isaac Gerald'],\n",
       "       ['Frauenthal, Mrs. Henry William (Clara Heinsheimer)'],\n",
       "       ['Frolicher, Miss. Hedwig Margaritha'],\n",
       "       ['Frolicher-Stehli, Mr. Maxmillian'],\n",
       "       ['Frolicher-Stehli, Mrs. Maxmillian (Margaretha Emerentia Stehli)'],\n",
       "       ['Frost, Mr. Anthony Wood \"Archie\"'],\n",
       "       ['Fry, Mr. Richard'],\n",
       "       ['Funk, Miss. Annie Clemmer'],\n",
       "       ['Futrelle, Mr. Jacques Heath'],\n",
       "       ['Futrelle, Mrs. Jacques Heath (Lily May Peel)'],\n",
       "       ['Fynney, Mr. Joseph J'],\n",
       "       ['Gale, Mr. Harry'],\n",
       "       ['Gale, Mr. Shadrach'],\n",
       "       ['Garside, Miss. Ethel'],\n",
       "       ['Gaskell, Mr. Alfred'],\n",
       "       ['Gavey, Mr. Lawrence'],\n",
       "       ['Gee, Mr. Arthur H'],\n",
       "       ['Geiger, Miss. Amalie'],\n",
       "       ['Gibson, Miss. Dorothy Winifred'],\n",
       "       ['Gibson, Mrs. Leonard (Pauline C Boeson)'],\n",
       "       ['Giglio, Mr. Victor'],\n",
       "       ['Gilbert, Mr. William'],\n",
       "       ['Giles, Mr. Edgar'],\n",
       "       ['Giles, Mr. Frederick Edward'],\n",
       "       ['Giles, Mr. Ralph'],\n",
       "       ['Gill, Mr. John William'],\n",
       "       ['Gillespie, Mr. William Henry'],\n",
       "       ['Givard, Mr. Hans Kristensen'],\n",
       "       ['Goldenberg, Mr. Samuel L'],\n",
       "       ['Goldenberg, Mrs. Samuel L (Edwiga Grabowska)'],\n",
       "       ['Goldschmidt, Mr. George B'],\n",
       "       ['Gracie, Col. Archibald IV'],\n",
       "       ['Graham, Miss. Margaret Edith'],\n",
       "       ['Graham, Mr. George Edward'],\n",
       "       ['Graham, Mrs. William Thompson (Edith Junkins)'],\n",
       "       ['Greenberg, Mr. Samuel'],\n",
       "       ['Greenfield, Mr. William Bertram'],\n",
       "       ['Greenfield, Mrs. Leo David (Blanche Strouse)'],\n",
       "       ['Guggenheim, Mr. Benjamin'],\n",
       "       ['Hale, Mr. Reginald'],\n",
       "       ['Hamalainen, Master. Viljo'],\n",
       "       ['Hamalainen, Mrs. William (Anna)'],\n",
       "       ['Harbeck, Mr. William H'],\n",
       "       ['Harder, Mr. George Achilles'],\n",
       "       ['Harder, Mrs. George Achilles (Dorothy Annan)'],\n",
       "       ['Harper, Miss. Annie Jessie \"Nina\"'],\n",
       "       ['Harper, Mr. Henry Sleeper'],\n",
       "       ['Harper, Mrs. Henry Sleeper (Myna Haxtun)'],\n",
       "       ['Harper, Rev. John'],\n",
       "       ['Harrington, Mr. Charles H'],\n",
       "       ['Harris, Mr. George'],\n",
       "       ['Harris, Mr. Henry Birkhardt'],\n",
       "       ['Harris, Mr. Walter'],\n",
       "       ['Harris, Mrs. Henry Birkhardt (Irene Wallach)'],\n",
       "       ['Harrison, Mr. William'],\n",
       "       ['Hart, Miss. Eva Miriam'],\n",
       "       ['Hart, Mr. Benjamin'],\n",
       "       ['Hart, Mrs. Benjamin (Esther Ada Bloomfield)'],\n",
       "       ['Hassab, Mr. Hammad'],\n",
       "       ['Hawksford, Mr. Walter James'],\n",
       "       ['Hays, Miss. Margaret Bechstein'],\n",
       "       ['Hays, Mr. Charles Melville'],\n",
       "       ['Hays, Mrs. Charles Melville (Clara Jennings Gregg)'],\n",
       "       ['Head, Mr. Christopher'],\n",
       "       ['Herman, Miss. Alice'],\n",
       "       ['Herman, Miss. Kate'],\n",
       "       ['Herman, Mr. Samuel'],\n",
       "       ['Herman, Mrs. Samuel (Jane Laver)'],\n",
       "       ['Hewlett, Mrs. (Mary D Kingcome) '],\n",
       "       ['Hickman, Mr. Leonard Mark'],\n",
       "       ['Hickman, Mr. Lewis'],\n",
       "       ['Hickman, Mr. Stanley George'],\n",
       "       ['Hilliard, Mr. Herbert Henry'],\n",
       "       ['Hiltunen, Miss. Marta'],\n",
       "       ['Hipkins, Mr. William Edward'],\n",
       "       ['Hippach, Miss. Jean Gertrude'],\n",
       "       ['Hippach, Mrs. Louis Albert (Ida Sophia Fischer)'],\n",
       "       ['Hocking, Miss. Ellen \"Nellie\"'],\n",
       "       ['Hocking, Mr. Richard George'],\n",
       "       ['Hocking, Mr. Samuel James Metcalfe'],\n",
       "       ['Hocking, Mrs. Elizabeth (Eliza Needs)'],\n",
       "       ['Hodges, Mr. Henry Price'],\n",
       "       ['Hogeboom, Mrs. John C (Anna Andrews)'],\n",
       "       ['Hold, Mr. Stephen'],\n",
       "       ['Hold, Mrs. Stephen (Annie Margaret Hill)'],\n",
       "       ['Holverson, Mr. Alexander Oskar'],\n",
       "       ['Holverson, Mrs. Alexander Oskar (Mary Aline Towner)'],\n",
       "       ['Homer, Mr. Harry (\"Mr E Haven\")'],\n",
       "       ['Hood, Mr. Ambrose Jr'],\n",
       "       ['Hosono, Mr. Masabumi'],\n",
       "       ['Howard, Mr. Benjamin'],\n",
       "       ['Howard, Mrs. Benjamin (Ellen Truelove Arman)'],\n",
       "       ['Hoyt, Mr. Frederick Maxfield'],\n",
       "       ['Hoyt, Mr. William Fisher'],\n",
       "       ['Hoyt, Mrs. Frederick Maxfield (Jane Anne Forby)'],\n",
       "       ['Hunt, Mr. George Henry'],\n",
       "       ['Icard, Miss. Amelie'],\n",
       "       ['Ilett, Miss. Bertha'],\n",
       "       ['Isham, Miss. Ann Elizabeth'],\n",
       "       ['Ismay, Mr. Joseph Bruce'],\n",
       "       ['Jacobsohn, Mr. Sidney Samuel'],\n",
       "       ['Jacobsohn, Mrs. Sidney Samuel (Amy Frances Christy)'],\n",
       "       ['Jarvis, Mr. John Denzil'],\n",
       "       ['Jefferys, Mr. Clifford Thomas'],\n",
       "       ['Jefferys, Mr. Ernest Wilfred'],\n",
       "       ['Jenkin, Mr. Stephen Curnow'],\n",
       "       ['Jerwan, Mrs. Amin S (Marie Marthe Thuillard)'],\n",
       "       ['Jones, Mr. Charles Cresson'],\n",
       "       ['Julian, Mr. Henry Forbes'],\n",
       "       ['Kantor, Mr. Sinai'],\n",
       "       ['Kantor, Mrs. Sinai (Miriam Sternin)'],\n",
       "       ['Karnes, Mrs. J Frank (Claire Bennett)'],\n",
       "       ['Keane, Miss. Nora A'],\n",
       "       ['Keane, Mr. Daniel'],\n",
       "       ['Keeping, Mr. Edwin'],\n",
       "       ['Kelly, Mrs. Florence \"Fannie\"'],\n",
       "       ['Kent, Mr. Edward Austin'],\n",
       "       ['Kenyon, Mr. Frederick R'],\n",
       "       ['Kenyon, Mrs. Frederick R (Marion)'],\n",
       "       ['Kimball, Mr. Edwin Nelson Jr'],\n",
       "       ['Kimball, Mrs. Edwin Nelson Jr (Gertrude Parsons)'],\n",
       "       ['Kirkland, Rev. Charles Leonard'],\n",
       "       ['Klaber, Mr. Herman'],\n",
       "       ['Knight, Mr. Robert J'],\n",
       "       ['Kreuchen, Miss. Emilie'],\n",
       "       ['Kvillner, Mr. Johan Henrik Johannesson'],\n",
       "       ['Lahtinen, Mrs. William (Anna Sylfven)'],\n",
       "       ['Lahtinen, Rev. William'],\n",
       "       ['Lamb, Mr. John Joseph'],\n",
       "       ['Laroche, Miss. Louise'],\n",
       "       ['Laroche, Miss. Simonne Marie Anne Andree'],\n",
       "       ['Laroche, Mr. Joseph Philippe Lemercier'],\n",
       "       ['Laroche, Mrs. Joseph (Juliette Marie Louise Lafargue)'],\n",
       "       ['LeRoy, Miss. Bertha'],\n",
       "       ['Leader, Dr. Alice (Farnham)'],\n",
       "       ['Lehmann, Miss. Bertha'],\n",
       "       ['Leitch, Miss. Jessie Wills'],\n",
       "       ['Lemore, Mrs. (Amelia Milley)'],\n",
       "       ['Lesurer, Mr. Gustave J'],\n",
       "       ['Levy, Mr. Rene Jacques'],\n",
       "       ['Lewy, Mr. Ervin G'],\n",
       "       ['Leyson, Mr. Robert William Norman'],\n",
       "       ['Lindeberg-Lind, Mr. Erik Gustaf (\"Mr Edward Lingrey\")'],\n",
       "       ['Lindstrom, Mrs. Carl Johan (Sigrid Posse)'],\n",
       "       ['Lines, Miss. Mary Conover'],\n",
       "       ['Lines, Mrs. Ernest H (Elizabeth Lindsey James)'],\n",
       "       ['Lingane, Mr. John'],\n",
       "       ['Long, Mr. Milton Clyde'],\n",
       "       ['Longley, Miss. Gretchen Fiske'],\n",
       "       ['Loring, Mr. Joseph Holland'],\n",
       "       ['Louch, Mr. Charles Alexander'],\n",
       "       ['Louch, Mrs. Charles Alexander (Alice Adelaide Slow)'],\n",
       "       ['Lurette, Miss. Elise'],\n",
       "       ['Mack, Mrs. (Mary)'],\n",
       "       ['Madill, Miss. Georgette Alexandra'],\n",
       "       ['Maguire, Mr. John Edward'],\n",
       "       ['Maioni, Miss. Roberta'],\n",
       "       ['Malachard, Mr. Noel'],\n",
       "       ['Mallet, Master. Andre'],\n",
       "       ['Mallet, Mr. Albert'],\n",
       "       ['Mallet, Mrs. Albert (Antoinette Magnin)'],\n",
       "       ['Mangiavacchi, Mr. Serafino Emilio'],\n",
       "       ['Marechal, Mr. Pierre'],\n",
       "       ['Marvin, Mr. Daniel Warner'],\n",
       "       ['Marvin, Mrs. Daniel Warner (Mary Graham Carmichael Farquarson)'],\n",
       "       ['Matthews, Mr. William John'],\n",
       "       ['Maybery, Mr. Frank Hubert'],\n",
       "       ['Mayne, Mlle. Berthe Antonine (\"Mrs de Villiers\")'],\n",
       "       ['McCaffry, Mr. Thomas Francis'],\n",
       "       ['McCarthy, Mr. Timothy J'],\n",
       "       ['McCrae, Mr. Arthur Gordon'],\n",
       "       ['McCrie, Mr. James Matthew'],\n",
       "       ['McGough, Mr. James Robert'],\n",
       "       ['Meyer, Mr. Edgar Joseph'],\n",
       "       ['Meyer, Mrs. Edgar Joseph (Leila Saks)'],\n",
       "       ['Millet, Mr. Francis Davis'],\n",
       "       ['Minahan, Dr. William Edward'],\n",
       "       ['Minahan, Miss. Daisy E'],\n",
       "       ['Minahan, Mrs. William Edward (Lillian E Thorpe)'],\n",
       "       ['Mock, Mr. Philipp Edmund'],\n",
       "       ['Molson, Mr. Harry Markland'],\n",
       "       ['Moore, Mr. Clarence Bloomfield'],\n",
       "       ['Natsch, Mr. Charles H'],\n",
       "       ['Newell, Miss. Madeleine'],\n",
       "       ['Newell, Miss. Marjorie'],\n",
       "       ['Newell, Mr. Arthur Webster'],\n",
       "       ['Newsom, Miss. Helen Monypeny'],\n",
       "       ['Nicholson, Mr. Arthur Ernest'],\n",
       "       ['Oliva y Ocana, Dona. Fermina'],\n",
       "       ['Omont, Mr. Alfred Fernand'],\n",
       "       ['Ostby, Miss. Helene Ragnhild'],\n",
       "       ['Ostby, Mr. Engelhart Cornelius'],\n",
       "       ['Ovies y Rodriguez, Mr. Servando'],\n",
       "       ['Parr, Mr. William Henry Marsh'],\n",
       "       ['Partner, Mr. Austen'],\n",
       "       ['Payne, Mr. Vivian Ponsonby'],\n",
       "       ['Pears, Mr. Thomas Clinton'],\n",
       "       ['Pears, Mrs. Thomas (Edith Wearne)'],\n",
       "       ['Penasco y Castellana, Mr. Victor de Satode'],\n",
       "       ['Penasco y Castellana, Mrs. Victor de Satode (Maria Josefa Perez de Soto y Vallejo)'],\n",
       "       ['Perreault, Miss. Anne'],\n",
       "       ['Peuchen, Major. Arthur Godfrey'],\n",
       "       ['Porter, Mr. Walter Chamberlain'],\n",
       "       ['Potter, Mrs. Thomas Jr (Lily Alexenia Wilson)'],\n",
       "       ['Reuchlin, Jonkheer. John George'],\n",
       "       ['Rheims, Mr. George Alexander Lucien'],\n",
       "       ['Ringhini, Mr. Sante'],\n",
       "       ['Robbins, Mr. Victor'],\n",
       "       ['Robert, Mrs. Edward Scott (Elisabeth Walton McMillan)'],\n",
       "       ['Roebling, Mr. Washington Augustus II'],\n",
       "       ['Romaine, Mr. Charles Hallace (\"Mr C Rolmane\")'],\n",
       "       ['Rood, Mr. Hugh Roscoe'],\n",
       "       ['Rosenbaum, Miss. Edith Louise'],\n",
       "       ['Rosenshine, Mr. George (\"Mr George Thorne\")'],\n",
       "       ['Ross, Mr. John Hugo'],\n",
       "       ['Rothes, the Countess. of (Lucy Noel Martha Dyer-Edwards)'],\n",
       "       ['Rothschild, Mr. Martin'],\n",
       "       ['Rothschild, Mrs. Martin (Elizabeth L. Barrett)'],\n",
       "       ['Rowe, Mr. Alfred G'],\n",
       "       ['Ryerson, Master. John Borie'],\n",
       "       ['Ryerson, Miss. Emily Borie'],\n",
       "       ['Ryerson, Miss. Susan Parker \"Suzette\"'],\n",
       "       ['Ryerson, Mr. Arthur Larned'],\n",
       "       ['Ryerson, Mrs. Arthur Larned (Emily Maria Borie)'],\n",
       "       ['Saalfeld, Mr. Adolphe'],\n",
       "       ['Sagesser, Mlle. Emma'],\n",
       "       ['Salomon, Mr. Abraham L'],\n",
       "       ['Schabert, Mrs. Paul (Emma Mock)'],\n",
       "       ['Serepeca, Miss. Augusta'],\n",
       "       ['Seward, Mr. Frederic Kimber'],\n",
       "       ['Shutes, Miss. Elizabeth W'],\n",
       "       ['Silverthorne, Mr. Spencer Victor'],\n",
       "       ['Silvey, Mr. William Baird'],\n",
       "       ['Silvey, Mrs. William Baird (Alice Munger)'],\n",
       "       ['Simonius-Blumer, Col. Oberst Alfons'],\n",
       "       ['Sloper, Mr. William Thompson'],\n",
       "       ['Smart, Mr. John Montgomery'],\n",
       "       ['Smith, Mr. James Clinch'],\n",
       "       ['Smith, Mr. Lucien Philip'],\n",
       "       ['Smith, Mr. Richard William'],\n",
       "       ['Smith, Mrs. Lucien Philip (Mary Eloise Hughes)'],\n",
       "       ['Snyder, Mr. John Pillsbury'],\n",
       "       ['Snyder, Mrs. John Pillsbury (Nelle Stevenson)'],\n",
       "       ['Spedden, Master. Robert Douglas'],\n",
       "       ['Spedden, Mr. Frederic Oakley'],\n",
       "       ['Spedden, Mrs. Frederic Oakley (Margaretta Corning Stone)'],\n",
       "       ['Spencer, Mr. William Augustus'],\n",
       "       ['Spencer, Mrs. William Augustus (Marie Eugenie)'],\n",
       "       ['Stahelin-Maeglin, Dr. Max'],\n",
       "       ['Stead, Mr. William Thomas'],\n",
       "       ['Stengel, Mr. Charles Emil Henry'],\n",
       "       ['Stengel, Mrs. Charles Emil Henry (Annie May Morris)'],\n",
       "       ['Stephenson, Mrs. Walter Bertram (Martha Eustis)'],\n",
       "       ['Stewart, Mr. Albert A'],\n",
       "       ['Stone, Mrs. George Nelson (Martha Evelyn)'],\n",
       "       ['Straus, Mr. Isidor'],\n",
       "       ['Straus, Mrs. Isidor (Rosalie Ida Blun)'],\n",
       "       ['Sutton, Mr. Frederick'],\n",
       "       ['Swift, Mrs. Frederick Joel (Margaret Welles Barron)'],\n",
       "       ['Taussig, Miss. Ruth'],\n",
       "       ['Taussig, Mr. Emil'],\n",
       "       ['Taussig, Mrs. Emil (Tillie Mandelbaum)'],\n",
       "       ['Taylor, Mr. Elmer Zebley'],\n",
       "       ['Taylor, Mrs. Elmer Zebley (Juliet Cummins Wright)'],\n",
       "       ['Thayer, Mr. John Borland'],\n",
       "       ['Thayer, Mr. John Borland Jr'],\n",
       "       ['Thayer, Mrs. John Borland (Marian Longstreth Morris)'],\n",
       "       ['Thorne, Mrs. Gertrude Maybelle'],\n",
       "       ['Tucker, Mr. Gilbert Milligan Jr'],\n",
       "       ['Uruchurtu, Don. Manuel E'],\n",
       "       ['Van der hoef, Mr. Wyckoff'],\n",
       "       ['Walker, Mr. William Anderson'],\n",
       "       ['Ward, Miss. Anna'],\n",
       "       ['Warren, Mr. Frank Manley'],\n",
       "       ['Warren, Mrs. Frank Manley (Anna Sophia Atkinson)'],\n",
       "       ['Weir, Col. John'],\n",
       "       ['White, Mr. Percival Wayland'],\n",
       "       ['White, Mr. Richard Frasar'],\n",
       "       ['White, Mrs. John Stuart (Ella Holmes)'],\n",
       "       ['Wick, Miss. Mary Natalie'],\n",
       "       ['Wick, Mr. George Dennick'],\n",
       "       ['Wick, Mrs. George Dennick (Mary Hitchcock)'],\n",
       "       ['Widener, Mr. George Dunton'],\n",
       "       ['Widener, Mr. Harry Elkins'],\n",
       "       ['Widener, Mrs. George Dunton (Eleanor Elkins)'],\n",
       "       ['Willard, Miss. Constance'],\n",
       "       ['Williams, Mr. Charles Duane'],\n",
       "       ['Williams, Mr. Richard Norris II'],\n",
       "       ['Williams-Lambert, Mr. Fletcher Fellows'],\n",
       "       ['Wilson, Miss. Helen Alice'],\n",
       "       ['Woolner, Mr. Hugh'],\n",
       "       ['Wright, Mr. George'],\n",
       "       ['Young, Miss. Marie Grice'],\n",
       "       ['de Brito, Mr. Jose Joaquim'],\n",
       "       ['del Carlo, Mr. Sebastiano'],\n",
       "       ['del Carlo, Mrs. Sebastiano (Argenia Genovesi)']], dtype=object)"
      ]
     },
     "execution_count": 7,
     "metadata": {},
     "output_type": "execute_result"
    }
   ],
   "source": [
    "A=sorted(Z,reverse=False)\n",
    "B=np.array(A)\n",
    "B"
   ]
  },
  {
   "cell_type": "code",
   "execution_count": 8,
   "metadata": {},
   "outputs": [
    {
     "data": {
      "text/plain": [
       "(500, 1)"
      ]
     },
     "execution_count": 8,
     "metadata": {},
     "output_type": "execute_result"
    }
   ],
   "source": [
    "B.shape"
   ]
  },
  {
   "cell_type": "code",
   "execution_count": 9,
   "metadata": {},
   "outputs": [
    {
     "data": {
      "text/html": [
       "<div>\n",
       "<style scoped>\n",
       "    .dataframe tbody tr th:only-of-type {\n",
       "        vertical-align: middle;\n",
       "    }\n",
       "\n",
       "    .dataframe tbody tr th {\n",
       "        vertical-align: top;\n",
       "    }\n",
       "\n",
       "    .dataframe thead th {\n",
       "        text-align: right;\n",
       "    }\n",
       "</style>\n",
       "<table border=\"1\" class=\"dataframe\">\n",
       "  <thead>\n",
       "    <tr style=\"text-align: right;\">\n",
       "      <th></th>\n",
       "      <th>Name</th>\n",
       "    </tr>\n",
       "  </thead>\n",
       "  <tbody>\n",
       "    <tr>\n",
       "      <th>0</th>\n",
       "      <td>Abelson, Mr. Samuel</td>\n",
       "    </tr>\n",
       "    <tr>\n",
       "      <th>1</th>\n",
       "      <td>Abelson, Mrs. Samuel (Hannah Wizosky)</td>\n",
       "    </tr>\n",
       "    <tr>\n",
       "      <th>2</th>\n",
       "      <td>Aldworth, Mr. Charles Augustus</td>\n",
       "    </tr>\n",
       "    <tr>\n",
       "      <th>3</th>\n",
       "      <td>Allen, Miss. Elisabeth Walton</td>\n",
       "    </tr>\n",
       "    <tr>\n",
       "      <th>4</th>\n",
       "      <td>Allison, Master. Hudson Trevor</td>\n",
       "    </tr>\n",
       "    <tr>\n",
       "      <th>...</th>\n",
       "      <td>...</td>\n",
       "    </tr>\n",
       "    <tr>\n",
       "      <th>495</th>\n",
       "      <td>Wright, Mr. George</td>\n",
       "    </tr>\n",
       "    <tr>\n",
       "      <th>496</th>\n",
       "      <td>Young, Miss. Marie Grice</td>\n",
       "    </tr>\n",
       "    <tr>\n",
       "      <th>497</th>\n",
       "      <td>de Brito, Mr. Jose Joaquim</td>\n",
       "    </tr>\n",
       "    <tr>\n",
       "      <th>498</th>\n",
       "      <td>del Carlo, Mr. Sebastiano</td>\n",
       "    </tr>\n",
       "    <tr>\n",
       "      <th>499</th>\n",
       "      <td>del Carlo, Mrs. Sebastiano (Argenia Genovesi)</td>\n",
       "    </tr>\n",
       "  </tbody>\n",
       "</table>\n",
       "<p>500 rows × 1 columns</p>\n",
       "</div>"
      ],
      "text/plain": [
       "                                              Name\n",
       "0                              Abelson, Mr. Samuel\n",
       "1            Abelson, Mrs. Samuel (Hannah Wizosky)\n",
       "2                   Aldworth, Mr. Charles Augustus\n",
       "3                    Allen, Miss. Elisabeth Walton\n",
       "4                   Allison, Master. Hudson Trevor\n",
       "..                                             ...\n",
       "495                             Wright, Mr. George\n",
       "496                       Young, Miss. Marie Grice\n",
       "497                     de Brito, Mr. Jose Joaquim\n",
       "498                      del Carlo, Mr. Sebastiano\n",
       "499  del Carlo, Mrs. Sebastiano (Argenia Genovesi)\n",
       "\n",
       "[500 rows x 1 columns]"
      ]
     },
     "execution_count": 9,
     "metadata": {},
     "output_type": "execute_result"
    }
   ],
   "source": [
    "df1=pd.DataFrame(B)\n",
    "df1.rename({0:'Name'},inplace=True,axis=1)\n",
    "X=df1\n",
    "X"
   ]
  },
  {
   "cell_type": "code",
   "execution_count": 10,
   "metadata": {},
   "outputs": [
    {
     "data": {
      "text/html": [
       "<div>\n",
       "<style scoped>\n",
       "    .dataframe tbody tr th:only-of-type {\n",
       "        vertical-align: middle;\n",
       "    }\n",
       "\n",
       "    .dataframe tbody tr th {\n",
       "        vertical-align: top;\n",
       "    }\n",
       "\n",
       "    .dataframe thead th {\n",
       "        text-align: right;\n",
       "    }\n",
       "</style>\n",
       "<table border=\"1\" class=\"dataframe\">\n",
       "  <thead>\n",
       "    <tr style=\"text-align: right;\">\n",
       "      <th></th>\n",
       "      <th>Name</th>\n",
       "      <th>Name1</th>\n",
       "    </tr>\n",
       "  </thead>\n",
       "  <tbody>\n",
       "    <tr>\n",
       "      <th>0</th>\n",
       "      <td>Abelson, Mr. Samuel</td>\n",
       "      <td>Mr.</td>\n",
       "    </tr>\n",
       "    <tr>\n",
       "      <th>1</th>\n",
       "      <td>Abelson, Mrs. Samuel (Hannah Wizosky)</td>\n",
       "      <td>Mrs.</td>\n",
       "    </tr>\n",
       "    <tr>\n",
       "      <th>2</th>\n",
       "      <td>Aldworth, Mr. Charles Augustus</td>\n",
       "      <td>Mr.</td>\n",
       "    </tr>\n",
       "    <tr>\n",
       "      <th>3</th>\n",
       "      <td>Allen, Miss. Elisabeth Walton</td>\n",
       "      <td>Miss</td>\n",
       "    </tr>\n",
       "    <tr>\n",
       "      <th>4</th>\n",
       "      <td>Allison, Master. Hudson Trevor</td>\n",
       "      <td>Mast</td>\n",
       "    </tr>\n",
       "    <tr>\n",
       "      <th>...</th>\n",
       "      <td>...</td>\n",
       "      <td>...</td>\n",
       "    </tr>\n",
       "    <tr>\n",
       "      <th>495</th>\n",
       "      <td>Wright, Mr. George</td>\n",
       "      <td>Mr.</td>\n",
       "    </tr>\n",
       "    <tr>\n",
       "      <th>496</th>\n",
       "      <td>Young, Miss. Marie Grice</td>\n",
       "      <td>Miss</td>\n",
       "    </tr>\n",
       "    <tr>\n",
       "      <th>497</th>\n",
       "      <td>de Brito, Mr. Jose Joaquim</td>\n",
       "      <td>Mr.</td>\n",
       "    </tr>\n",
       "    <tr>\n",
       "      <th>498</th>\n",
       "      <td>del Carlo, Mr. Sebastiano</td>\n",
       "      <td>Mr.</td>\n",
       "    </tr>\n",
       "    <tr>\n",
       "      <th>499</th>\n",
       "      <td>del Carlo, Mrs. Sebastiano (Argenia Genovesi)</td>\n",
       "      <td>Mrs.</td>\n",
       "    </tr>\n",
       "  </tbody>\n",
       "</table>\n",
       "<p>500 rows × 2 columns</p>\n",
       "</div>"
      ],
      "text/plain": [
       "                                              Name  Name1\n",
       "0                              Abelson, Mr. Samuel   Mr. \n",
       "1            Abelson, Mrs. Samuel (Hannah Wizosky)   Mrs.\n",
       "2                   Aldworth, Mr. Charles Augustus   Mr. \n",
       "3                    Allen, Miss. Elisabeth Walton   Miss\n",
       "4                   Allison, Master. Hudson Trevor   Mast\n",
       "..                                             ...    ...\n",
       "495                             Wright, Mr. George   Mr. \n",
       "496                       Young, Miss. Marie Grice   Miss\n",
       "497                     de Brito, Mr. Jose Joaquim   Mr. \n",
       "498                      del Carlo, Mr. Sebastiano   Mr. \n",
       "499  del Carlo, Mrs. Sebastiano (Argenia Genovesi)   Mrs.\n",
       "\n",
       "[500 rows x 2 columns]"
      ]
     },
     "execution_count": 10,
     "metadata": {},
     "output_type": "execute_result"
    }
   ],
   "source": [
    "def A(data):\n",
    "    data=str(data)\n",
    "    data1=data.split(',')\n",
    "    return data1[1][0:5]\n",
    "X['Name1']=X['Name'].apply(A)\n",
    "X"
   ]
  },
  {
   "cell_type": "code",
   "execution_count": 14,
   "metadata": {},
   "outputs": [
    {
     "data": {
      "text/html": [
       "<div>\n",
       "<style scoped>\n",
       "    .dataframe tbody tr th:only-of-type {\n",
       "        vertical-align: middle;\n",
       "    }\n",
       "\n",
       "    .dataframe tbody tr th {\n",
       "        vertical-align: top;\n",
       "    }\n",
       "\n",
       "    .dataframe thead th {\n",
       "        text-align: right;\n",
       "    }\n",
       "</style>\n",
       "<table border=\"1\" class=\"dataframe\">\n",
       "  <thead>\n",
       "    <tr style=\"text-align: right;\">\n",
       "      <th></th>\n",
       "      <th>Name1</th>\n",
       "    </tr>\n",
       "  </thead>\n",
       "  <tbody>\n",
       "    <tr>\n",
       "      <th>Mr.</th>\n",
       "      <td>0.514</td>\n",
       "    </tr>\n",
       "    <tr>\n",
       "      <th>Mrs.</th>\n",
       "      <td>0.232</td>\n",
       "    </tr>\n",
       "    <tr>\n",
       "      <th>Miss</th>\n",
       "      <td>0.176</td>\n",
       "    </tr>\n",
       "  </tbody>\n",
       "</table>\n",
       "</div>"
      ],
      "text/plain": [
       "       Name1\n",
       " Mr.   0.514\n",
       " Mrs.  0.232\n",
       " Miss  0.176"
      ]
     },
     "execution_count": 14,
     "metadata": {},
     "output_type": "execute_result"
    }
   ],
   "source": [
    "Z=X['Name1'].value_counts(normalize=True)\n",
    "df1=pd.DataFrame(Z)\n",
    "df2=df1[0:3]\n",
    "df2"
   ]
  },
  {
   "cell_type": "markdown",
   "metadata": {},
   "source": [
    "##### Line Plot :-"
   ]
  },
  {
   "cell_type": "code",
   "execution_count": 40,
   "metadata": {},
   "outputs": [
    {
     "data": {
      "image/png": "[encoded data removed]",
      "text/plain": [
       "<Figure size 360x216 with 1 Axes>"
      ]
     },
     "metadata": {
      "needs_background": "light"
     },
     "output_type": "display_data"
    }
   ],
   "source": [
    "fig,ax=plt.subplots(figsize=(5,3))\n",
    "df2['Name1'].plot.line(color=['darkgreen'],ax=ax,label='Married & Unmarried vs Frequency')\n",
    "plt.xlabel('Count')\n",
    "plt.ylabel('Frequency')\n",
    "plt.title('Married & Unmarried vs Frequency')\n",
    "plt.legend()\n",
    "plt.show()"
   ]
  },
  {
   "cell_type": "code",
   "execution_count": 1,
   "metadata": {},
   "outputs": [],
   "source": [
    "#Set :-"
   ]
  },
  {
   "cell_type": "code",
   "execution_count": 2,
   "metadata": {},
   "outputs": [
    {
     "data": {
      "text/plain": [
       "{'Ankit', 'Farzan', 'Piyush', 'Salman', 'Vidit'}"
      ]
     },
     "execution_count": 2,
     "metadata": {},
     "output_type": "execute_result"
    }
   ],
   "source": [
    "#Names of the employees working in the Bristlecone\n",
    "X={\"Vidit\",\"Ankit\",\"Salman\",\"Piyush\",\"Farzan\"}\n",
    "X"
   ]
  },
  {
   "cell_type": "code",
   "execution_count": 4,
   "metadata": {},
   "outputs": [],
   "source": [
    "#Points to remember in Set :-"
   ]
  },
  {
   "cell_type": "markdown",
   "metadata": {},
   "source": [
    "##### Set does not support Indexing and Slicing i.e. neither it supports Positive Indexing and nor it supports Negative Indexing. "
   ]
  },
  {
   "cell_type": "code",
   "execution_count": 9,
   "metadata": {},
   "outputs": [
    {
     "data": {
      "text/plain": [
       "'A'"
      ]
     },
     "execution_count": 9,
     "metadata": {},
     "output_type": "execute_result"
    }
   ],
   "source": [
    "X=[2.2,1,[\"Vidit\",\"Aman\"]]\n",
    "X[2][1][0]"
   ]
  },
  {
   "cell_type": "code",
   "execution_count": 25,
   "metadata": {},
   "outputs": [
    {
     "data": {
      "text/plain": [
       "{'Name': 'Vidit', 'Age': 22}"
      ]
     },
     "execution_count": 25,
     "metadata": {},
     "output_type": "execute_result"
    }
   ],
   "source": [
    "X={'Name':'Vidit','Age':22}\n",
    "X"
   ]
  },
  {
   "cell_type": "code",
   "execution_count": 26,
   "metadata": {},
   "outputs": [
    {
     "data": {
      "text/plain": [
       "{'Name1': 'Ankit', 'Age1': 21}"
      ]
     },
     "execution_count": 26,
     "metadata": {},
     "output_type": "execute_result"
    }
   ],
   "source": [
    "Y={'Name1':'Ankit','Age1':21}\n",
    "Y"
   ]
  },
  {
   "cell_type": "code",
   "execution_count": 31,
   "metadata": {},
   "outputs": [
    {
     "data": {
      "text/plain": [
       "{'Name1': 'Ankit', 'Age1': 21}"
      ]
     },
     "execution_count": 31,
     "metadata": {},
     "output_type": "execute_result"
    }
   ],
   "source": [
    "X=Y.copy()\n",
    "X"
   ]
  },
  {
   "cell_type": "code",
   "execution_count": 35,
   "metadata": {},
   "outputs": [
    {
     "data": {
      "text/plain": [
       "{1: 'Vidit', 2.2: 'Ankit'}"
      ]
     },
     "execution_count": 35,
     "metadata": {},
     "output_type": "execute_result"
    }
   ],
   "source": [
    "Z={1:\"Vidit\",2.2:\"Ankit\"}\n",
    "Z"
   ]
  },
  {
   "cell_type": "code",
   "execution_count": 36,
   "metadata": {},
   "outputs": [],
   "source": [
    "del Z[1]"
   ]
  },
  {
   "cell_type": "code",
   "execution_count": 37,
   "metadata": {},
   "outputs": [
    {
     "data": {
      "text/plain": [
       "{2.2: 'Ankit'}"
      ]
     },
     "execution_count": 37,
     "metadata": {},
     "output_type": "execute_result"
    }
   ],
   "source": [
    "Z"
   ]
  },
  {
   "cell_type": "code",
   "execution_count": 38,
   "metadata": {},
   "outputs": [
    {
     "data": {
      "text/plain": [
       "{2.2: 'Ankit', 1: 'Vishal'}"
      ]
     },
     "execution_count": 38,
     "metadata": {},
     "output_type": "execute_result"
    }
   ],
   "source": [
    "Z[1]=\"Vishal\"\n",
    "Z"
   ]
  },
  {
   "cell_type": "code",
   "execution_count": 39,
   "metadata": {},
   "outputs": [
    {
     "data": {
      "text/plain": [
       "{2.2: 'Ankit', 1: 'Simran'}"
      ]
     },
     "execution_count": 39,
     "metadata": {},
     "output_type": "execute_result"
    }
   ],
   "source": [
    "Z[1]=\"Simran\"\n",
    "Z"
   ]
  },
  {
   "cell_type": "code",
   "execution_count": 41,
   "metadata": {},
   "outputs": [
    {
     "data": {
      "text/plain": [
       "{1: 'Vidit', 2: 'Simran', 3: 'Sippy'}"
      ]
     },
     "execution_count": 41,
     "metadata": {},
     "output_type": "execute_result"
    }
   ],
   "source": [
    "Z={1:\"Vidit\",2:\"Simran\",3:\"Amit\",3:\"Sippy\"}\n",
    "Z"
   ]
  },
  {
   "cell_type": "code",
   "execution_count": 42,
   "metadata": {},
   "outputs": [
    {
     "data": {
      "text/plain": [
       "[1, 2, 2]"
      ]
     },
     "execution_count": 42,
     "metadata": {},
     "output_type": "execute_result"
    }
   ],
   "source": [
    "lis1=[1,2,2]\n",
    "lis1"
   ]
  },
  {
   "cell_type": "code",
   "execution_count": 43,
   "metadata": {},
   "outputs": [
    {
     "data": {
      "text/plain": [
       "['Vidit', 'Ankit', 'Simran']"
      ]
     },
     "execution_count": 43,
     "metadata": {},
     "output_type": "execute_result"
    }
   ],
   "source": [
    "lis2=[\"Vidit\",\"Ankit\",\"Simran\"]\n",
    "lis2"
   ]
  },
  {
   "cell_type": "code",
   "execution_count": 44,
   "metadata": {},
   "outputs": [
    {
     "data": {
      "text/plain": [
       "[1, 2, 2, 'Vidit', 'Ankit', 'Simran']"
      ]
     },
     "execution_count": 44,
     "metadata": {},
     "output_type": "execute_result"
    }
   ],
   "source": [
    "lis1+lis2"
   ]
  },
  {
   "cell_type": "code",
   "execution_count": 258,
   "metadata": {},
   "outputs": [],
   "source": [
    "#Concepts of DataFrame"
   ]
  },
  {
   "cell_type": "code",
   "execution_count": 46,
   "metadata": {},
   "outputs": [],
   "source": [
    "import pandas as pd"
   ]
  },
  {
   "cell_type": "code",
   "execution_count": 48,
   "metadata": {},
   "outputs": [
    {
     "data": {
      "text/html": [
       "<div>\n",
       "<style scoped>\n",
       "    .dataframe tbody tr th:only-of-type {\n",
       "        vertical-align: middle;\n",
       "    }\n",
       "\n",
       "    .dataframe tbody tr th {\n",
       "        vertical-align: top;\n",
       "    }\n",
       "\n",
       "    .dataframe thead th {\n",
       "        text-align: right;\n",
       "    }\n",
       "</style>\n",
       "<table border=\"1\" class=\"dataframe\">\n",
       "  <thead>\n",
       "    <tr style=\"text-align: right;\">\n",
       "      <th></th>\n",
       "      <th>Name</th>\n",
       "      <th>Age</th>\n",
       "      <th>Location</th>\n",
       "    </tr>\n",
       "  </thead>\n",
       "  <tbody>\n",
       "    <tr>\n",
       "      <th>0</th>\n",
       "      <td>Vidit</td>\n",
       "      <td>21</td>\n",
       "      <td>Ranchi</td>\n",
       "    </tr>\n",
       "    <tr>\n",
       "      <th>1</th>\n",
       "      <td>Ankit</td>\n",
       "      <td>22</td>\n",
       "      <td>Bokaro</td>\n",
       "    </tr>\n",
       "  </tbody>\n",
       "</table>\n",
       "</div>"
      ],
      "text/plain": [
       "    Name  Age Location\n",
       "0  Vidit   21   Ranchi\n",
       "1  Ankit   22   Bokaro"
      ]
     },
     "execution_count": 48,
     "metadata": {},
     "output_type": "execute_result"
    }
   ],
   "source": [
    "df=pd.DataFrame([[\"Vidit\",21,\"Ranchi\"],[\"Ankit\",22,\"Bokaro\"]],columns=['Name','Age','Location'])\n",
    "df"
   ]
  },
  {
   "cell_type": "code",
   "execution_count": 68,
   "metadata": {},
   "outputs": [
    {
     "data": {
      "text/plain": [
       "Name    Vidit\n",
       "Name: 0, dtype: object"
      ]
     },
     "execution_count": 68,
     "metadata": {},
     "output_type": "execute_result"
    }
   ],
   "source": [
    "df.loc[0,['Name']]"
   ]
  },
  {
   "cell_type": "code",
   "execution_count": 71,
   "metadata": {},
   "outputs": [
    {
     "data": {
      "text/html": [
       "<div>\n",
       "<style scoped>\n",
       "    .dataframe tbody tr th:only-of-type {\n",
       "        vertical-align: middle;\n",
       "    }\n",
       "\n",
       "    .dataframe tbody tr th {\n",
       "        vertical-align: top;\n",
       "    }\n",
       "\n",
       "    .dataframe thead th {\n",
       "        text-align: right;\n",
       "    }\n",
       "</style>\n",
       "<table border=\"1\" class=\"dataframe\">\n",
       "  <thead>\n",
       "    <tr style=\"text-align: right;\">\n",
       "      <th></th>\n",
       "      <th>Name</th>\n",
       "    </tr>\n",
       "  </thead>\n",
       "  <tbody>\n",
       "    <tr>\n",
       "      <th>0</th>\n",
       "      <td>Vidit</td>\n",
       "    </tr>\n",
       "  </tbody>\n",
       "</table>\n",
       "</div>"
      ],
      "text/plain": [
       "    Name\n",
       "0  Vidit"
      ]
     },
     "execution_count": 71,
     "metadata": {},
     "output_type": "execute_result"
    }
   ],
   "source": [
    "df.loc[[0],['Name']]"
   ]
  },
  {
   "cell_type": "code",
   "execution_count": 49,
   "metadata": {},
   "outputs": [
    {
     "data": {
      "text/html": [
       "<div>\n",
       "<style scoped>\n",
       "    .dataframe tbody tr th:only-of-type {\n",
       "        vertical-align: middle;\n",
       "    }\n",
       "\n",
       "    .dataframe tbody tr th {\n",
       "        vertical-align: top;\n",
       "    }\n",
       "\n",
       "    .dataframe thead th {\n",
       "        text-align: right;\n",
       "    }\n",
       "</style>\n",
       "<table border=\"1\" class=\"dataframe\">\n",
       "  <thead>\n",
       "    <tr style=\"text-align: right;\">\n",
       "      <th></th>\n",
       "      <th>Name</th>\n",
       "      <th>Age</th>\n",
       "      <th>Location</th>\n",
       "    </tr>\n",
       "  </thead>\n",
       "  <tbody>\n",
       "    <tr>\n",
       "      <th>0</th>\n",
       "      <td>Vidit</td>\n",
       "      <td>21</td>\n",
       "      <td>Ranchi</td>\n",
       "    </tr>\n",
       "    <tr>\n",
       "      <th>1</th>\n",
       "      <td>Ankit</td>\n",
       "      <td>22</td>\n",
       "      <td>Bokaro</td>\n",
       "    </tr>\n",
       "  </tbody>\n",
       "</table>\n",
       "</div>"
      ],
      "text/plain": [
       "    Name  Age Location\n",
       "0  Vidit   21   Ranchi\n",
       "1  Ankit   22   Bokaro"
      ]
     },
     "execution_count": 49,
     "metadata": {},
     "output_type": "execute_result"
    }
   ],
   "source": [
    "df1=pd.DataFrame({'Name':['Vidit','Ankit'],'Age':[21,22],'Location':['Ranchi','Bokaro']})\n",
    "df1"
   ]
  },
  {
   "cell_type": "code",
   "execution_count": 57,
   "metadata": {},
   "outputs": [],
   "source": [
    "#### A str inside list and a list inside dict"
   ]
  },
  {
   "cell_type": "code",
   "execution_count": 56,
   "metadata": {},
   "outputs": [
    {
     "data": {
      "text/plain": [
       "'V'"
      ]
     },
     "execution_count": 56,
     "metadata": {},
     "output_type": "execute_result"
    }
   ],
   "source": [
    "dict1={'College':{'Name':['Vidit','Ankit'],'Age':[21,22],'Location':['Ranchi','Bokaro']}}\n",
    "dict1['College']['Name'][0][0:1]"
   ]
  },
  {
   "cell_type": "code",
   "execution_count": 72,
   "metadata": {},
   "outputs": [],
   "source": [
    "# A numpy array :-"
   ]
  },
  {
   "cell_type": "code",
   "execution_count": 74,
   "metadata": {},
   "outputs": [],
   "source": [
    "import numpy as np\n",
    "import pandas as pd"
   ]
  },
  {
   "cell_type": "code",
   "execution_count": 82,
   "metadata": {},
   "outputs": [],
   "source": [
    "#A array with a nested list :-"
   ]
  },
  {
   "cell_type": "code",
   "execution_count": 99,
   "metadata": {},
   "outputs": [
    {
     "data": {
      "text/plain": [
       "array([['2', 'Vidit', '3.3']], dtype='<U11')"
      ]
     },
     "execution_count": 99,
     "metadata": {},
     "output_type": "execute_result"
    }
   ],
   "source": [
    "X=np.array([[2,\"Vidit\",3.3]])\n",
    "X"
   ]
  },
  {
   "cell_type": "code",
   "execution_count": 100,
   "metadata": {},
   "outputs": [],
   "source": [
    "#NOTE :- We can only insert a element in array by just updating the previous element with current one and size of array will remain same."
   ]
  },
  {
   "cell_type": "code",
   "execution_count": 101,
   "metadata": {},
   "outputs": [],
   "source": [
    "#Item Assignment:- Updation & Insertion"
   ]
  },
  {
   "cell_type": "code",
   "execution_count": 81,
   "metadata": {},
   "outputs": [
    {
     "data": {
      "text/plain": [
       "array([['3', 'Vidit', '3.3']], dtype='<U11')"
      ]
     },
     "execution_count": 81,
     "metadata": {},
     "output_type": "execute_result"
    }
   ],
   "source": [
    "X[0][0]='3'\n",
    "X"
   ]
  },
  {
   "cell_type": "code",
   "execution_count": 83,
   "metadata": {},
   "outputs": [],
   "source": [
    "#Delete an element from the array :-"
   ]
  },
  {
   "cell_type": "code",
   "execution_count": 84,
   "metadata": {},
   "outputs": [
    {
     "data": {
      "text/plain": [
       "array(['3', '3.3'], dtype='<U11')"
      ]
     },
     "execution_count": 84,
     "metadata": {},
     "output_type": "execute_result"
    }
   ],
   "source": [
    "np.delete(X,1)"
   ]
  },
  {
   "cell_type": "code",
   "execution_count": 102,
   "metadata": {},
   "outputs": [],
   "source": [
    "#Concatenate two array :-"
   ]
  },
  {
   "cell_type": "code",
   "execution_count": 119,
   "metadata": {},
   "outputs": [
    {
     "data": {
      "text/plain": [
       "array([['Rohit', '1022', '12'],\n",
       "       ['Kohli', '907', '10'],\n",
       "       ['Dhoni', '1100', '17']], dtype='<U5')"
      ]
     },
     "execution_count": 119,
     "metadata": {},
     "output_type": "execute_result"
    }
   ],
   "source": [
    "X=np.array([[\"Rohit\",1022,12],[\"Kohli\",907,10],[\"Dhoni\",1100,17]])\n",
    "X"
   ]
  },
  {
   "cell_type": "code",
   "execution_count": 106,
   "metadata": {},
   "outputs": [],
   "source": [
    "#Note :- If we pass more than one list in an array then we will have to pass in the form of nested list."
   ]
  },
  {
   "cell_type": "code",
   "execution_count": 107,
   "metadata": {},
   "outputs": [],
   "source": [
    "#Note :- A array does not contain dict inside it."
   ]
  },
  {
   "cell_type": "code",
   "execution_count": 113,
   "metadata": {},
   "outputs": [
    {
     "data": {
      "text/plain": [
       "array([['Vishal'],\n",
       "       ['Aman'],\n",
       "       ['Ashish']], dtype='<U6')"
      ]
     },
     "execution_count": 113,
     "metadata": {},
     "output_type": "execute_result"
    }
   ],
   "source": [
    "Y=np.array([[\"Vishal\"],[\"Aman\"],[\"Ashish\"]])\n",
    "Y"
   ]
  },
  {
   "cell_type": "code",
   "execution_count": 120,
   "metadata": {},
   "outputs": [
    {
     "data": {
      "text/plain": [
       "array([['Vishal', 'Aman', 'Ashish']], dtype='<U6')"
      ]
     },
     "execution_count": 120,
     "metadata": {},
     "output_type": "execute_result"
    }
   ],
   "source": [
    "Z=Y.T\n",
    "Z"
   ]
  },
  {
   "cell_type": "code",
   "execution_count": 121,
   "metadata": {},
   "outputs": [
    {
     "data": {
      "text/plain": [
       "array([['Rohit', '1022', '12'],\n",
       "       ['Kohli', '907', '10'],\n",
       "       ['Dhoni', '1100', '17'],\n",
       "       ['Vishal', 'Aman', 'Ashish']], dtype='<U6')"
      ]
     },
     "execution_count": 121,
     "metadata": {},
     "output_type": "execute_result"
    }
   ],
   "source": [
    "Conc=np.concatenate((X,Z),axis=0)\n",
    "Conc"
   ]
  },
  {
   "cell_type": "code",
   "execution_count": 122,
   "metadata": {},
   "outputs": [],
   "source": [
    "#Dictionary :-"
   ]
  },
  {
   "cell_type": "code",
   "execution_count": 123,
   "metadata": {},
   "outputs": [
    {
     "data": {
      "text/plain": [
       "{'Name': ['Vidit', 'Ankit', 'Shivam'],\n",
       " 'Age': [21, 22, 23],\n",
       " 'Location': ['Ranchi', 'Bokaro', 'kolkata']}"
      ]
     },
     "execution_count": 123,
     "metadata": {},
     "output_type": "execute_result"
    }
   ],
   "source": [
    "X={'Name':['Vidit','Ankit','Shivam'],'Age':[21,22,23],'Location':['Ranchi','Bokaro','kolkata']}\n",
    "X"
   ]
  },
  {
   "cell_type": "code",
   "execution_count": 128,
   "metadata": {},
   "outputs": [],
   "source": [
    "#Subset in dict :- Using Indexing & Slicing(Positive Slicing and Negative Slicing)"
   ]
  },
  {
   "cell_type": "code",
   "execution_count": 125,
   "metadata": {},
   "outputs": [
    {
     "data": {
      "text/plain": [
       "'Vidit'"
      ]
     },
     "execution_count": 125,
     "metadata": {},
     "output_type": "execute_result"
    }
   ],
   "source": [
    "X['Name'][0]"
   ]
  },
  {
   "cell_type": "code",
   "execution_count": 127,
   "metadata": {},
   "outputs": [
    {
     "data": {
      "text/plain": [
       "['Vidit', 'Ankit', 'Shivam']"
      ]
     },
     "execution_count": 127,
     "metadata": {},
     "output_type": "execute_result"
    }
   ],
   "source": [
    "X['Name'][0:3]"
   ]
  },
  {
   "cell_type": "code",
   "execution_count": 129,
   "metadata": {},
   "outputs": [
    {
     "data": {
      "text/plain": [
       "['Vidit', 'Ankit']"
      ]
     },
     "execution_count": 129,
     "metadata": {},
     "output_type": "execute_result"
    }
   ],
   "source": [
    "X['Name'][-3:-1]"
   ]
  },
  {
   "cell_type": "code",
   "execution_count": 130,
   "metadata": {},
   "outputs": [],
   "source": [
    "#Jumping in list present inside a dict using negative indexing"
   ]
  },
  {
   "cell_type": "code",
   "execution_count": 131,
   "metadata": {},
   "outputs": [
    {
     "data": {
      "text/plain": [
       "['Shivam', 'Ankit', 'Vidit']"
      ]
     },
     "execution_count": 131,
     "metadata": {},
     "output_type": "execute_result"
    }
   ],
   "source": [
    "X['Name'][-1:-4:-1]"
   ]
  },
  {
   "cell_type": "code",
   "execution_count": 132,
   "metadata": {},
   "outputs": [],
   "source": [
    "#Jumping in list present inside a dict using postive indexing"
   ]
  },
  {
   "cell_type": "code",
   "execution_count": 133,
   "metadata": {},
   "outputs": [
    {
     "data": {
      "text/plain": [
       "['Shivam', 'Ankit', 'Vidit']"
      ]
     },
     "execution_count": 133,
     "metadata": {},
     "output_type": "execute_result"
    }
   ],
   "source": [
    "X['Name'][3::-1]"
   ]
  },
  {
   "cell_type": "code",
   "execution_count": 134,
   "metadata": {},
   "outputs": [],
   "source": [
    "#Note:-In dict keys can't be a mutable data structure i.e. list,array or dataframe etc."
   ]
  },
  {
   "cell_type": "code",
   "execution_count": 135,
   "metadata": {},
   "outputs": [],
   "source": [
    "#How to join two dictionary :-"
   ]
  },
  {
   "cell_type": "code",
   "execution_count": 67,
   "metadata": {},
   "outputs": [
    {
     "data": {
      "text/plain": [
       "{'University1': {'Std_Name': ['Vidit', 'Ankit', 'Farzan'],\n",
       "  'Age': [23, 24, 24],\n",
       "  'Location': ['Ranchi', 'Bokaro1', 'Bokaro2']}}"
      ]
     },
     "execution_count": 67,
     "metadata": {},
     "output_type": "execute_result"
    }
   ],
   "source": [
    "X={'University1':{'Std_Name':['Vidit','Ankit','Farzan'],'Age':[23,24,24],'Location':[\"Ranchi\",\"Bokaro1\",\"Bokaro2\"]}}\n",
    "X"
   ]
  },
  {
   "cell_type": "code",
   "execution_count": 68,
   "metadata": {},
   "outputs": [
    {
     "data": {
      "text/plain": [
       "{'University2': {'Std_Name': ['Piyush', 'Abdullah', 'Salman'],\n",
       "  'Age': [23, 25, 24],\n",
       "  'Location': ['Ranchi1', 'Bokaro3', 'Ranchi2']}}"
      ]
     },
     "execution_count": 68,
     "metadata": {},
     "output_type": "execute_result"
    }
   ],
   "source": [
    "Y={'University2':{'Std_Name':['Piyush','Abdullah','Salman'],'Age':[23,25,24],'Location':[\"Ranchi1\",\"Bokaro3\",\"Ranchi2\"]}}\n",
    "Y"
   ]
  },
  {
   "cell_type": "code",
   "execution_count": 69,
   "metadata": {},
   "outputs": [
    {
     "name": "stdout",
     "output_type": "stream",
     "text": [
      "None\n",
      "{'University1': {'Std_Name': ['Vidit', 'Ankit', 'Farzan'], 'Age': [23, 24, 24], 'Location': ['Ranchi', 'Bokaro1', 'Bokaro2']}, 'University2': {'Std_Name': ['Piyush', 'Abdullah', 'Salman'], 'Age': [23, 25, 24], 'Location': ['Ranchi1', 'Bokaro3', 'Ranchi2']}}\n"
     ]
    }
   ],
   "source": [
    "def Z(dict1,dict2):\n",
    "    print(dict1.update(dict2))\n",
    "    print(dict1)\n",
    "Z(X,Y)"
   ]
  },
  {
   "cell_type": "code",
   "execution_count": 163,
   "metadata": {},
   "outputs": [
    {
     "data": {
      "text/plain": [
       "array([{'Name': ['Vidit', 'Ankit'], 'Location': ['Ranchi', 'Bokaro']}],\n",
       "      dtype=object)"
      ]
     },
     "execution_count": 163,
     "metadata": {},
     "output_type": "execute_result"
    }
   ],
   "source": [
    "X=np.array([{'Name':['Vidit','Ankit'],'Location':['Ranchi','Bokaro']}])\n",
    "X"
   ]
  },
  {
   "cell_type": "code",
   "execution_count": 168,
   "metadata": {},
   "outputs": [],
   "source": [
    "#Note :- So we want to keep dict inside a array then always keep dict inside a list and list inside a array."
   ]
  },
  {
   "cell_type": "code",
   "execution_count": 167,
   "metadata": {},
   "outputs": [
    {
     "data": {
      "text/plain": [
       "'V'"
      ]
     },
     "execution_count": 167,
     "metadata": {},
     "output_type": "execute_result"
    }
   ],
   "source": [
    "X[0]['Name'][0][0]"
   ]
  },
  {
   "cell_type": "code",
   "execution_count": 173,
   "metadata": {},
   "outputs": [],
   "source": [
    "#loc and iloc concept :-"
   ]
  },
  {
   "cell_type": "code",
   "execution_count": 174,
   "metadata": {},
   "outputs": [
    {
     "data": {
      "text/html": [
       "<div>\n",
       "<style scoped>\n",
       "    .dataframe tbody tr th:only-of-type {\n",
       "        vertical-align: middle;\n",
       "    }\n",
       "\n",
       "    .dataframe tbody tr th {\n",
       "        vertical-align: top;\n",
       "    }\n",
       "\n",
       "    .dataframe thead th {\n",
       "        text-align: right;\n",
       "    }\n",
       "</style>\n",
       "<table border=\"1\" class=\"dataframe\">\n",
       "  <thead>\n",
       "    <tr style=\"text-align: right;\">\n",
       "      <th></th>\n",
       "      <th>Name</th>\n",
       "      <th>Rank</th>\n",
       "    </tr>\n",
       "  </thead>\n",
       "  <tbody>\n",
       "    <tr>\n",
       "      <th>0</th>\n",
       "      <td>[Vidit, Farzan, Ankit]</td>\n",
       "      <td>[II, III, I]</td>\n",
       "    </tr>\n",
       "  </tbody>\n",
       "</table>\n",
       "</div>"
      ],
      "text/plain": [
       "                     Name          Rank\n",
       "0  [Vidit, Farzan, Ankit]  [II, III, I]"
      ]
     },
     "execution_count": 174,
     "metadata": {},
     "output_type": "execute_result"
    }
   ],
   "source": [
    "X=pd.DataFrame([{'Name':['Vidit','Farzan','Ankit'],'Rank':['II','III','I']}])\n",
    "X"
   ]
  },
  {
   "cell_type": "code",
   "execution_count": 198,
   "metadata": {},
   "outputs": [
    {
     "data": {
      "text/html": [
       "<div>\n",
       "<style scoped>\n",
       "    .dataframe tbody tr th:only-of-type {\n",
       "        vertical-align: middle;\n",
       "    }\n",
       "\n",
       "    .dataframe tbody tr th {\n",
       "        vertical-align: top;\n",
       "    }\n",
       "\n",
       "    .dataframe thead th {\n",
       "        text-align: right;\n",
       "    }\n",
       "</style>\n",
       "<table border=\"1\" class=\"dataframe\">\n",
       "  <thead>\n",
       "    <tr style=\"text-align: right;\">\n",
       "      <th></th>\n",
       "      <th>Name</th>\n",
       "    </tr>\n",
       "  </thead>\n",
       "  <tbody>\n",
       "    <tr>\n",
       "      <th>0</th>\n",
       "      <td>[Vidit, Farzan, Ankit]</td>\n",
       "    </tr>\n",
       "  </tbody>\n",
       "</table>\n",
       "</div>"
      ],
      "text/plain": [
       "                     Name\n",
       "0  [Vidit, Farzan, Ankit]"
      ]
     },
     "execution_count": 198,
     "metadata": {},
     "output_type": "execute_result"
    }
   ],
   "source": [
    "X[['Name']]"
   ]
  },
  {
   "cell_type": "code",
   "execution_count": 196,
   "metadata": {},
   "outputs": [
    {
     "data": {
      "text/html": [
       "<div>\n",
       "<style scoped>\n",
       "    .dataframe tbody tr th:only-of-type {\n",
       "        vertical-align: middle;\n",
       "    }\n",
       "\n",
       "    .dataframe tbody tr th {\n",
       "        vertical-align: top;\n",
       "    }\n",
       "\n",
       "    .dataframe thead th {\n",
       "        text-align: right;\n",
       "    }\n",
       "</style>\n",
       "<table border=\"1\" class=\"dataframe\">\n",
       "  <thead>\n",
       "    <tr style=\"text-align: right;\">\n",
       "      <th></th>\n",
       "      <th>Name</th>\n",
       "      <th>Rank</th>\n",
       "    </tr>\n",
       "  </thead>\n",
       "  <tbody>\n",
       "    <tr>\n",
       "      <th>0</th>\n",
       "      <td>[Vidit, Farzan, Ankit]</td>\n",
       "      <td>[II, III, I]</td>\n",
       "    </tr>\n",
       "  </tbody>\n",
       "</table>\n",
       "</div>"
      ],
      "text/plain": [
       "                     Name          Rank\n",
       "0  [Vidit, Farzan, Ankit]  [II, III, I]"
      ]
     },
     "execution_count": 196,
     "metadata": {},
     "output_type": "execute_result"
    }
   ],
   "source": [
    "X.loc[[0],['Name','Rank']]"
   ]
  },
  {
   "cell_type": "code",
   "execution_count": 197,
   "metadata": {},
   "outputs": [
    {
     "data": {
      "text/html": [
       "<div>\n",
       "<style scoped>\n",
       "    .dataframe tbody tr th:only-of-type {\n",
       "        vertical-align: middle;\n",
       "    }\n",
       "\n",
       "    .dataframe tbody tr th {\n",
       "        vertical-align: top;\n",
       "    }\n",
       "\n",
       "    .dataframe thead th {\n",
       "        text-align: right;\n",
       "    }\n",
       "</style>\n",
       "<table border=\"1\" class=\"dataframe\">\n",
       "  <thead>\n",
       "    <tr style=\"text-align: right;\">\n",
       "      <th></th>\n",
       "      <th>Rank</th>\n",
       "    </tr>\n",
       "  </thead>\n",
       "  <tbody>\n",
       "    <tr>\n",
       "      <th>0</th>\n",
       "      <td>[II, III, I]</td>\n",
       "    </tr>\n",
       "  </tbody>\n",
       "</table>\n",
       "</div>"
      ],
      "text/plain": [
       "           Rank\n",
       "0  [II, III, I]"
      ]
     },
     "execution_count": 197,
     "metadata": {},
     "output_type": "execute_result"
    }
   ],
   "source": [
    "X.iloc[:,1:]"
   ]
  },
  {
   "cell_type": "code",
   "execution_count": 9,
   "metadata": {},
   "outputs": [],
   "source": [
    "#DataFrame :-Concept of Nested Dictionaries in DataFrame."
   ]
  },
  {
   "cell_type": "code",
   "execution_count": 2,
   "metadata": {},
   "outputs": [],
   "source": [
    "import pandas as pd\n",
    "import numpy as np"
   ]
  },
  {
   "cell_type": "code",
   "execution_count": 4,
   "metadata": {},
   "outputs": [
    {
     "data": {
      "text/html": [
       "<div>\n",
       "<style scoped>\n",
       "    .dataframe tbody tr th:only-of-type {\n",
       "        vertical-align: middle;\n",
       "    }\n",
       "\n",
       "    .dataframe tbody tr th {\n",
       "        vertical-align: top;\n",
       "    }\n",
       "\n",
       "    .dataframe thead th {\n",
       "        text-align: right;\n",
       "    }\n",
       "</style>\n",
       "<table border=\"1\" class=\"dataframe\">\n",
       "  <thead>\n",
       "    <tr style=\"text-align: right;\">\n",
       "      <th></th>\n",
       "      <th>University1</th>\n",
       "    </tr>\n",
       "  </thead>\n",
       "  <tbody>\n",
       "    <tr>\n",
       "      <th>University2</th>\n",
       "      <td>[Various Colleges, Rank of Colleges]</td>\n",
       "    </tr>\n",
       "  </tbody>\n",
       "</table>\n",
       "</div>"
      ],
      "text/plain": [
       "                                      University1\n",
       "University2  [Various Colleges, Rank of Colleges]"
      ]
     },
     "execution_count": 4,
     "metadata": {},
     "output_type": "execute_result"
    }
   ],
   "source": [
    "df=pd.DataFrame({'University1':{'University2':['Various Colleges','Rank of Colleges']}})\n",
    "df"
   ]
  },
  {
   "cell_type": "code",
   "execution_count": 12,
   "metadata": {},
   "outputs": [
    {
     "data": {
      "text/html": [
       "<div>\n",
       "<style scoped>\n",
       "    .dataframe tbody tr th:only-of-type {\n",
       "        vertical-align: middle;\n",
       "    }\n",
       "\n",
       "    .dataframe tbody tr th {\n",
       "        vertical-align: top;\n",
       "    }\n",
       "\n",
       "    .dataframe thead th {\n",
       "        text-align: right;\n",
       "    }\n",
       "</style>\n",
       "<table border=\"1\" class=\"dataframe\">\n",
       "  <thead>\n",
       "    <tr style=\"text-align: right;\">\n",
       "      <th></th>\n",
       "      <th>University1</th>\n",
       "    </tr>\n",
       "  </thead>\n",
       "  <tbody>\n",
       "    <tr>\n",
       "      <th>University2</th>\n",
       "      <td>[Various Colleges, Rank of Colleges]</td>\n",
       "    </tr>\n",
       "  </tbody>\n",
       "</table>\n",
       "</div>"
      ],
      "text/plain": [
       "                                      University1\n",
       "University2  [Various Colleges, Rank of Colleges]"
      ]
     },
     "execution_count": 12,
     "metadata": {},
     "output_type": "execute_result"
    }
   ],
   "source": [
    "df.loc[['University2'],['University1']]"
   ]
  },
  {
   "cell_type": "markdown",
   "metadata": {},
   "source": [
    "#### Series :-"
   ]
  },
  {
   "cell_type": "code",
   "execution_count": 13,
   "metadata": {},
   "outputs": [],
   "source": [
    "# Make a Series using a array."
   ]
  },
  {
   "cell_type": "code",
   "execution_count": 20,
   "metadata": {},
   "outputs": [
    {
     "data": {
      "text/plain": [
       "array(['India', 'Australia', 'South Africa', 'West Indies'], dtype='<U12')"
      ]
     },
     "execution_count": 20,
     "metadata": {},
     "output_type": "execute_result"
    }
   ],
   "source": [
    "X=np.array(['India','Australia','South Africa','West Indies'])\n",
    "X"
   ]
  },
  {
   "cell_type": "code",
   "execution_count": 17,
   "metadata": {},
   "outputs": [],
   "source": [
    "#Note :- A array does not contain labels neither it contains row labels nor it contains column labels."
   ]
  },
  {
   "cell_type": "code",
   "execution_count": 23,
   "metadata": {},
   "outputs": [
    {
     "data": {
      "text/plain": [
       "IN            India\n",
       "AUS       Australia\n",
       "SA     South Africa\n",
       "WI      West Indies\n",
       "dtype: object"
      ]
     },
     "execution_count": 23,
     "metadata": {},
     "output_type": "execute_result"
    }
   ],
   "source": [
    "Y=pd.Series(X,index=['IN','AUS','SA','WI'])\n",
    "Y"
   ]
  },
  {
   "cell_type": "code",
   "execution_count": 22,
   "metadata": {},
   "outputs": [],
   "source": [
    "# A Series is always be of 1-Dimensional with some row labels."
   ]
  },
  {
   "cell_type": "markdown",
   "metadata": {},
   "source": [
    "##### Make a Series using a list."
   ]
  },
  {
   "cell_type": "code",
   "execution_count": 24,
   "metadata": {},
   "outputs": [
    {
     "data": {
      "text/plain": [
       "[100, False, 'Vidit', 2.2]"
      ]
     },
     "execution_count": 24,
     "metadata": {},
     "output_type": "execute_result"
    }
   ],
   "source": [
    "X=[100,False,'Vidit',2.2]\n",
    "X"
   ]
  },
  {
   "cell_type": "code",
   "execution_count": 26,
   "metadata": {},
   "outputs": [
    {
     "data": {
      "text/plain": [
       "int1        100\n",
       "bool1     False\n",
       "Str1      Vidit\n",
       "float1      2.2\n",
       "dtype: object"
      ]
     },
     "execution_count": 26,
     "metadata": {},
     "output_type": "execute_result"
    }
   ],
   "source": [
    "Y=pd.Series(X,index=['int1','bool1','Str1','float1'])\n",
    "Y"
   ]
  },
  {
   "cell_type": "markdown",
   "metadata": {},
   "source": [
    "##### Make a Series using Dict."
   ]
  },
  {
   "cell_type": "code",
   "execution_count": 40,
   "metadata": {},
   "outputs": [
    {
     "data": {
      "text/plain": [
       "{'Scores': {'Matches': [100, 200, 300], 'Runs': [13000, 12900, 14000]}}"
      ]
     },
     "execution_count": 40,
     "metadata": {},
     "output_type": "execute_result"
    }
   ],
   "source": [
    "X={'Scores':{'Matches':[100,200,300],'Runs':[13000,12900,14000]}}\n",
    "X"
   ]
  },
  {
   "cell_type": "code",
   "execution_count": 45,
   "metadata": {},
   "outputs": [
    {
     "data": {
      "text/plain": [
       "Scores    {'Matches': [100, 200, 300], 'Runs': [13000, 1...\n",
       "dtype: object"
      ]
     },
     "execution_count": 45,
     "metadata": {},
     "output_type": "execute_result"
    }
   ],
   "source": [
    "Y=pd.Series(X)\n",
    "Y"
   ]
  },
  {
   "cell_type": "code",
   "execution_count": 46,
   "metadata": {},
   "outputs": [
    {
     "data": {
      "text/plain": [
       "100"
      ]
     },
     "execution_count": 46,
     "metadata": {},
     "output_type": "execute_result"
    }
   ],
   "source": [
    "Y['Scores']['Matches'][0]"
   ]
  },
  {
   "cell_type": "code",
   "execution_count": 31,
   "metadata": {},
   "outputs": [],
   "source": [
    "# A Simple Dict."
   ]
  },
  {
   "cell_type": "code",
   "execution_count": 32,
   "metadata": {},
   "outputs": [
    {
     "data": {
      "text/plain": [
       "{'Name': ['Vidit', 'Ankit'], 'Rollno': [160, 140], 'Age': [22, 24]}"
      ]
     },
     "execution_count": 32,
     "metadata": {},
     "output_type": "execute_result"
    }
   ],
   "source": [
    "X={'Name':['Vidit','Ankit'],'Rollno':[160,140],'Age':[22,24]}\n",
    "X"
   ]
  },
  {
   "cell_type": "code",
   "execution_count": 33,
   "metadata": {},
   "outputs": [
    {
     "data": {
      "text/plain": [
       "Name      [Vidit, Ankit]\n",
       "Rollno        [160, 140]\n",
       "Age             [22, 24]\n",
       "dtype: object"
      ]
     },
     "execution_count": 33,
     "metadata": {},
     "output_type": "execute_result"
    }
   ],
   "source": [
    "Y=pd.Series(X)\n",
    "Y"
   ]
  },
  {
   "cell_type": "code",
   "execution_count": 37,
   "metadata": {},
   "outputs": [],
   "source": [
    "#Subset in a Series using []."
   ]
  },
  {
   "cell_type": "code",
   "execution_count": 36,
   "metadata": {},
   "outputs": [
    {
     "data": {
      "text/plain": [
       "'V'"
      ]
     },
     "execution_count": 36,
     "metadata": {},
     "output_type": "execute_result"
    }
   ],
   "source": [
    "Y['Name'][0][0:1]"
   ]
  },
  {
   "cell_type": "markdown",
   "metadata": {},
   "source": [
    "##### Make a Series using DataFrame. "
   ]
  },
  {
   "cell_type": "code",
   "execution_count": 49,
   "metadata": {},
   "outputs": [
    {
     "data": {
      "text/html": [
       "<div>\n",
       "<style scoped>\n",
       "    .dataframe tbody tr th:only-of-type {\n",
       "        vertical-align: middle;\n",
       "    }\n",
       "\n",
       "    .dataframe tbody tr th {\n",
       "        vertical-align: top;\n",
       "    }\n",
       "\n",
       "    .dataframe thead th {\n",
       "        text-align: right;\n",
       "    }\n",
       "</style>\n",
       "<table border=\"1\" class=\"dataframe\">\n",
       "  <thead>\n",
       "    <tr style=\"text-align: right;\">\n",
       "      <th></th>\n",
       "      <th>Runs_Scored</th>\n",
       "      <th>Matches_Played</th>\n",
       "    </tr>\n",
       "  </thead>\n",
       "  <tbody>\n",
       "    <tr>\n",
       "      <th>Sachin</th>\n",
       "      <td>1300</td>\n",
       "      <td>12</td>\n",
       "    </tr>\n",
       "    <tr>\n",
       "      <th>Yuvraj</th>\n",
       "      <td>1480</td>\n",
       "      <td>11</td>\n",
       "    </tr>\n",
       "    <tr>\n",
       "      <th>Ganguly</th>\n",
       "      <td>1200</td>\n",
       "      <td>17</td>\n",
       "    </tr>\n",
       "  </tbody>\n",
       "</table>\n",
       "</div>"
      ],
      "text/plain": [
       "         Runs_Scored  Matches_Played\n",
       "Sachin          1300              12\n",
       "Yuvraj          1480              11\n",
       "Ganguly         1200              17"
      ]
     },
     "execution_count": 49,
     "metadata": {},
     "output_type": "execute_result"
    }
   ],
   "source": [
    "df=pd.DataFrame({'Runs_Scored':[1300,1480,1200],'Matches_Played':[12,11,17]},index=['Sachin','Yuvraj','Ganguly'])\n",
    "df"
   ]
  },
  {
   "cell_type": "code",
   "execution_count": 52,
   "metadata": {},
   "outputs": [
    {
     "data": {
      "text/plain": [
       "Sachin     1300\n",
       "Yuvraj     1480\n",
       "Ganguly    1200\n",
       "Name: Runs_Scored, dtype: int64"
      ]
     },
     "execution_count": 52,
     "metadata": {},
     "output_type": "execute_result"
    }
   ],
   "source": [
    "X=pd.Series(df['Runs_Scored'])\n",
    "X"
   ]
  },
  {
   "cell_type": "markdown",
   "metadata": {},
   "source": [
    "##### Make a Series using Scalar Value."
   ]
  },
  {
   "cell_type": "code",
   "execution_count": 59,
   "metadata": {},
   "outputs": [
    {
     "data": {
      "text/plain": [
       "A    1000\n",
       "B    1000\n",
       "C    1000\n",
       "dtype: int64"
      ]
     },
     "execution_count": 59,
     "metadata": {},
     "output_type": "execute_result"
    }
   ],
   "source": [
    "X=pd.Series(1000,index=['A','B','C'])\n",
    "X"
   ]
  },
  {
   "cell_type": "markdown",
   "metadata": {},
   "source": [
    "##### Concept of Tuples :-"
   ]
  },
  {
   "cell_type": "code",
   "execution_count": 60,
   "metadata": {},
   "outputs": [
    {
     "data": {
      "text/plain": [
       "(1, 2.2, True, 1)"
      ]
     },
     "execution_count": 60,
     "metadata": {},
     "output_type": "execute_result"
    }
   ],
   "source": [
    "X=(1,2.2,True,1)\n",
    "X"
   ]
  },
  {
   "cell_type": "code",
   "execution_count": 63,
   "metadata": {},
   "outputs": [],
   "source": [
    "# Create a Single tuple."
   ]
  },
  {
   "cell_type": "code",
   "execution_count": 64,
   "metadata": {},
   "outputs": [
    {
     "data": {
      "text/plain": [
       "(True,)"
      ]
     },
     "execution_count": 64,
     "metadata": {},
     "output_type": "execute_result"
    }
   ],
   "source": [
    "X=(True,)\n",
    "X"
   ]
  },
  {
   "cell_type": "code",
   "execution_count": 65,
   "metadata": {},
   "outputs": [
    {
     "data": {
      "text/plain": [
       "(True,)"
      ]
     },
     "execution_count": 65,
     "metadata": {},
     "output_type": "execute_result"
    }
   ],
   "source": [
    "X=True,\n",
    "X"
   ]
  },
  {
   "cell_type": "code",
   "execution_count": 66,
   "metadata": {},
   "outputs": [],
   "source": [
    "#Subset in Tuples :-"
   ]
  },
  {
   "cell_type": "code",
   "execution_count": 67,
   "metadata": {},
   "outputs": [
    {
     "data": {
      "text/plain": [
       "100.0"
      ]
     },
     "execution_count": 67,
     "metadata": {},
     "output_type": "execute_result"
    }
   ],
   "source": [
    "X=(100.0,200.0,300.0)\n",
    "X[0]"
   ]
  },
  {
   "cell_type": "markdown",
   "metadata": {},
   "source": [
    "##### Create a dict using tuple. "
   ]
  },
  {
   "cell_type": "code",
   "execution_count": 68,
   "metadata": {},
   "outputs": [
    {
     "data": {
      "text/plain": [
       "{('Std_Name', 'Age'): ['Vidit', 22]}"
      ]
     },
     "execution_count": 68,
     "metadata": {},
     "output_type": "execute_result"
    }
   ],
   "source": [
    "X={('Std_Name','Age'):['Vidit',22]}\n",
    "X"
   ]
  },
  {
   "cell_type": "code",
   "execution_count": 73,
   "metadata": {},
   "outputs": [],
   "source": [
    "#Subset in dict when we use tuple."
   ]
  },
  {
   "cell_type": "code",
   "execution_count": 72,
   "metadata": {},
   "outputs": [
    {
     "data": {
      "text/plain": [
       "'Vidit'"
      ]
     },
     "execution_count": 72,
     "metadata": {},
     "output_type": "execute_result"
    }
   ],
   "source": [
    "X['Std_Name','Age'][0]"
   ]
  },
  {
   "cell_type": "markdown",
   "metadata": {},
   "source": [
    "##### Item Assignment :-"
   ]
  },
  {
   "cell_type": "code",
   "execution_count": 1,
   "metadata": {},
   "outputs": [
    {
     "data": {
      "text/plain": [
       "(1.1, 1, 2.2, 1)"
      ]
     },
     "execution_count": 1,
     "metadata": {},
     "output_type": "execute_result"
    }
   ],
   "source": [
    "X=(1.1,1,2.2,1)\n",
    "X"
   ]
  },
  {
   "cell_type": "code",
   "execution_count": 3,
   "metadata": {},
   "outputs": [],
   "source": [
    "# In tuple item assignment is not possible which means that tuple is immutable."
   ]
  },
  {
   "cell_type": "code",
   "execution_count": 4,
   "metadata": {},
   "outputs": [
    {
     "data": {
      "text/plain": [
       "{('Name', 'Age', 'Location'): [['Vidit', 'Ankit'],\n",
       "  [23, 24],\n",
       "  ['Ranchi', 'Bokaro']]}"
      ]
     },
     "execution_count": 4,
     "metadata": {},
     "output_type": "execute_result"
    }
   ],
   "source": [
    "X={('Name','Age','Location'):[['Vidit','Ankit'],[23,24],['Ranchi','Bokaro']]}\n",
    "X"
   ]
  },
  {
   "cell_type": "code",
   "execution_count": 11,
   "metadata": {},
   "outputs": [
    {
     "data": {
      "text/plain": [
       "[['Vidit', 'Ankit'], [23, 24], ['Ranchi', 'Bokaro']]"
      ]
     },
     "execution_count": 11,
     "metadata": {},
     "output_type": "execute_result"
    }
   ],
   "source": [
    "X['Name','Age','Location']"
   ]
  },
  {
   "cell_type": "code",
   "execution_count": 12,
   "metadata": {},
   "outputs": [],
   "source": [
    "# Create a Simple Dict."
   ]
  },
  {
   "cell_type": "code",
   "execution_count": 13,
   "metadata": {},
   "outputs": [
    {
     "data": {
      "text/plain": [
       "{'Name': 'Vidit', 'Age': 23, 'Location': 'Ranchi'}"
      ]
     },
     "execution_count": 13,
     "metadata": {},
     "output_type": "execute_result"
    }
   ],
   "source": [
    "X={'Name':'Vidit','Age':23,'Location':'Ranchi'}\n",
    "X"
   ]
  },
  {
   "cell_type": "code",
   "execution_count": 14,
   "metadata": {},
   "outputs": [
    {
     "data": {
      "text/plain": [
       "{'Name': 'Ankit', 'Age': 23, 'Location': 'Ranchi'}"
      ]
     },
     "execution_count": 14,
     "metadata": {},
     "output_type": "execute_result"
    }
   ],
   "source": [
    "X['Name']='Ankit'\n",
    "X"
   ]
  },
  {
   "cell_type": "code",
   "execution_count": 15,
   "metadata": {},
   "outputs": [],
   "source": [
    "#Note :- In dict item assignment is possible at any position."
   ]
  },
  {
   "cell_type": "code",
   "execution_count": 16,
   "metadata": {},
   "outputs": [
    {
     "data": {
      "text/plain": [
       "{'Name': 'Ankit', 'Age': 23, 'Location': 'Ranchi', 'Address': 'Bokaro'}"
      ]
     },
     "execution_count": 16,
     "metadata": {},
     "output_type": "execute_result"
    }
   ],
   "source": [
    "X['Address']='Bokaro'\n",
    "X"
   ]
  },
  {
   "cell_type": "code",
   "execution_count": 17,
   "metadata": {},
   "outputs": [],
   "source": [
    "# Item assignment in list."
   ]
  },
  {
   "cell_type": "code",
   "execution_count": 18,
   "metadata": {},
   "outputs": [
    {
     "data": {
      "text/plain": [
       "[100, 2.2, True, 17]"
      ]
     },
     "execution_count": 18,
     "metadata": {},
     "output_type": "execute_result"
    }
   ],
   "source": [
    "X=[100,2.2,True,17]\n",
    "X"
   ]
  },
  {
   "cell_type": "code",
   "execution_count": 19,
   "metadata": {},
   "outputs": [
    {
     "data": {
      "text/plain": [
       "[3, 2.2, True, 17]"
      ]
     },
     "execution_count": 19,
     "metadata": {},
     "output_type": "execute_result"
    }
   ],
   "source": [
    "X[0]=3\n",
    "X"
   ]
  },
  {
   "cell_type": "markdown",
   "metadata": {},
   "source": [
    "##### Create a DataFrame with list inside a dict and dict inside another dict."
   ]
  },
  {
   "cell_type": "code",
   "execution_count": 23,
   "metadata": {},
   "outputs": [],
   "source": [
    "import pandas as pd"
   ]
  },
  {
   "cell_type": "code",
   "execution_count": 33,
   "metadata": {},
   "outputs": [
    {
     "data": {
      "text/html": [
       "<div>\n",
       "<style scoped>\n",
       "    .dataframe tbody tr th:only-of-type {\n",
       "        vertical-align: middle;\n",
       "    }\n",
       "\n",
       "    .dataframe tbody tr th {\n",
       "        vertical-align: top;\n",
       "    }\n",
       "\n",
       "    .dataframe thead th {\n",
       "        text-align: right;\n",
       "    }\n",
       "</style>\n",
       "<table border=\"1\" class=\"dataframe\">\n",
       "  <thead>\n",
       "    <tr style=\"text-align: right;\">\n",
       "      <th></th>\n",
       "      <th>Career_Analysis</th>\n",
       "      <th>Actor_Names</th>\n",
       "      <th>Total_Films</th>\n",
       "      <th>Blockbuster_Cinema</th>\n",
       "    </tr>\n",
       "  </thead>\n",
       "  <tbody>\n",
       "    <tr>\n",
       "      <th>0</th>\n",
       "      <td>[Flop]</td>\n",
       "      <td>[NUTAN]</td>\n",
       "      <td>[400]</td>\n",
       "      <td>{'Nutan': 25}</td>\n",
       "    </tr>\n",
       "    <tr>\n",
       "      <th>1</th>\n",
       "      <td>[Semi-hit]</td>\n",
       "      <td>[NARGIS]</td>\n",
       "      <td>[270]</td>\n",
       "      <td>{'Nargis': 23}</td>\n",
       "    </tr>\n",
       "    <tr>\n",
       "      <th>2</th>\n",
       "      <td>[Hit]</td>\n",
       "      <td>[SHAMMI]</td>\n",
       "      <td>[340]</td>\n",
       "      <td>{'Shammi': 14}</td>\n",
       "    </tr>\n",
       "    <tr>\n",
       "      <th>3</th>\n",
       "      <td>[Flop]</td>\n",
       "      <td>[RAJ]</td>\n",
       "      <td>[200]</td>\n",
       "      <td>{'Raj': 45}</td>\n",
       "    </tr>\n",
       "  </tbody>\n",
       "</table>\n",
       "</div>"
      ],
      "text/plain": [
       "  Career_Analysis Actor_Names Total_Films Blockbuster_Cinema\n",
       "0          [Flop]     [NUTAN]       [400]      {'Nutan': 25}\n",
       "1      [Semi-hit]    [NARGIS]       [270]     {'Nargis': 23}\n",
       "2           [Hit]    [SHAMMI]       [340]     {'Shammi': 14}\n",
       "3          [Flop]       [RAJ]       [200]        {'Raj': 45}"
      ]
     },
     "execution_count": 33,
     "metadata": {},
     "output_type": "execute_result"
    }
   ],
   "source": [
    "X=pd.DataFrame({'Career_Analysis':[['Flop'],['Semi-hit'],['Hit'],['Flop']],'Actor_Names':[['NUTAN'],['NARGIS'],['SHAMMI'],['RAJ']],'Total_Films':[[400],[270],[340],[200]],'Blockbuster_Cinema':[{'Nutan':25},{'Nargis':23},{'Shammi':14},{'Raj':45}]})\n",
    "X"
   ]
  },
  {
   "cell_type": "code",
   "execution_count": 34,
   "metadata": {},
   "outputs": [],
   "source": [
    "#Subsetting the dataframe :-"
   ]
  },
  {
   "cell_type": "code",
   "execution_count": 37,
   "metadata": {},
   "outputs": [
    {
     "data": {
      "text/plain": [
       "25"
      ]
     },
     "execution_count": 37,
     "metadata": {},
     "output_type": "execute_result"
    }
   ],
   "source": [
    "X['Blockbuster_Cinema'][0]['Nutan']"
   ]
  },
  {
   "cell_type": "code",
   "execution_count": 28,
   "metadata": {},
   "outputs": [
    {
     "data": {
      "text/html": [
       "<div>\n",
       "<style scoped>\n",
       "    .dataframe tbody tr th:only-of-type {\n",
       "        vertical-align: middle;\n",
       "    }\n",
       "\n",
       "    .dataframe tbody tr th {\n",
       "        vertical-align: top;\n",
       "    }\n",
       "\n",
       "    .dataframe thead th {\n",
       "        text-align: right;\n",
       "    }\n",
       "</style>\n",
       "<table border=\"1\" class=\"dataframe\">\n",
       "  <thead>\n",
       "    <tr style=\"text-align: right;\">\n",
       "      <th></th>\n",
       "      <th>Career_Analysis</th>\n",
       "      <th>Actor_Names</th>\n",
       "      <th>Total_Films</th>\n",
       "    </tr>\n",
       "  </thead>\n",
       "  <tbody>\n",
       "    <tr>\n",
       "      <th>0</th>\n",
       "      <td>Flop</td>\n",
       "      <td>NUTAN</td>\n",
       "      <td>400</td>\n",
       "    </tr>\n",
       "    <tr>\n",
       "      <th>1</th>\n",
       "      <td>Semi-hit</td>\n",
       "      <td>NARGIS</td>\n",
       "      <td>270</td>\n",
       "    </tr>\n",
       "    <tr>\n",
       "      <th>2</th>\n",
       "      <td>Hit</td>\n",
       "      <td>SHAMMI</td>\n",
       "      <td>340</td>\n",
       "    </tr>\n",
       "    <tr>\n",
       "      <th>3</th>\n",
       "      <td>Flop</td>\n",
       "      <td>RAJ</td>\n",
       "      <td>200</td>\n",
       "    </tr>\n",
       "  </tbody>\n",
       "</table>\n",
       "</div>"
      ],
      "text/plain": [
       "  Career_Analysis Actor_Names  Total_Films\n",
       "0            Flop       NUTAN          400\n",
       "1        Semi-hit      NARGIS          270\n",
       "2             Hit      SHAMMI          340\n",
       "3            Flop         RAJ          200"
      ]
     },
     "execution_count": 28,
     "metadata": {},
     "output_type": "execute_result"
    }
   ],
   "source": [
    "X=pd.DataFrame({'Career_Analysis':['Flop','Semi-hit','Hit','Flop'],'Actor_Names':['NUTAN','NARGIS','SHAMMI','RAJ'],'Total_Films':[400,270,340,200]})\n",
    "X"
   ]
  },
  {
   "cell_type": "code",
   "execution_count": 30,
   "metadata": {},
   "outputs": [],
   "source": [
    "# There are many ways to create a dataframe but these are two different ways to create a dataframe with the help of list and dict."
   ]
  },
  {
   "cell_type": "code",
   "execution_count": 42,
   "metadata": {},
   "outputs": [],
   "source": [
    "#Create a DataFrame using Nested Dictinaries and list."
   ]
  },
  {
   "cell_type": "code",
   "execution_count": 41,
   "metadata": {},
   "outputs": [
    {
     "data": {
      "text/html": [
       "<div>\n",
       "<style scoped>\n",
       "    .dataframe tbody tr th:only-of-type {\n",
       "        vertical-align: middle;\n",
       "    }\n",
       "\n",
       "    .dataframe tbody tr th {\n",
       "        vertical-align: top;\n",
       "    }\n",
       "\n",
       "    .dataframe thead th {\n",
       "        text-align: right;\n",
       "    }\n",
       "</style>\n",
       "<table border=\"1\" class=\"dataframe\">\n",
       "  <thead>\n",
       "    <tr style=\"text-align: right;\">\n",
       "      <th></th>\n",
       "      <th>STD_NAME</th>\n",
       "      <th>AGE</th>\n",
       "      <th>CITY</th>\n",
       "    </tr>\n",
       "  </thead>\n",
       "  <tbody>\n",
       "    <tr>\n",
       "      <th>0</th>\n",
       "      <td>{Vidit}</td>\n",
       "      <td>{23}</td>\n",
       "      <td>{Ranchi}</td>\n",
       "    </tr>\n",
       "    <tr>\n",
       "      <th>1</th>\n",
       "      <td>{Ankit}</td>\n",
       "      <td>{24}</td>\n",
       "      <td>{Bokaro}</td>\n",
       "    </tr>\n",
       "    <tr>\n",
       "      <th>2</th>\n",
       "      <td>{Farzan}</td>\n",
       "      <td>{25}</td>\n",
       "      <td>{Bokaro}</td>\n",
       "    </tr>\n",
       "    <tr>\n",
       "      <th>3</th>\n",
       "      <td>{Piyush}</td>\n",
       "      <td>{24}</td>\n",
       "      <td>{Ramgarh}</td>\n",
       "    </tr>\n",
       "  </tbody>\n",
       "</table>\n",
       "</div>"
      ],
      "text/plain": [
       "   STD_NAME   AGE       CITY\n",
       "0   {Vidit}  {23}   {Ranchi}\n",
       "1   {Ankit}  {24}   {Bokaro}\n",
       "2  {Farzan}  {25}   {Bokaro}\n",
       "3  {Piyush}  {24}  {Ramgarh}"
      ]
     },
     "execution_count": 41,
     "metadata": {},
     "output_type": "execute_result"
    }
   ],
   "source": [
    "X=pd.DataFrame({'STD_NAME':[{'Vidit'},{'Ankit'},{'Farzan'},{'Piyush'}],'AGE':[{23},{24},{25},{24}],'CITY':[{'Ranchi'},{'Bokaro'},{'Bokaro'},{'Ramgarh'}]})\n",
    "X"
   ]
  },
  {
   "cell_type": "markdown",
   "metadata": {},
   "source": [
    "##### Creating a dataframe using double dictionaries."
   ]
  },
  {
   "cell_type": "code",
   "execution_count": 259,
   "metadata": {},
   "outputs": [],
   "source": [
    "import pandas as pd"
   ]
  },
  {
   "cell_type": "code",
   "execution_count": 266,
   "metadata": {},
   "outputs": [
    {
     "data": {
      "text/html": [
       "<div>\n",
       "<style scoped>\n",
       "    .dataframe tbody tr th:only-of-type {\n",
       "        vertical-align: middle;\n",
       "    }\n",
       "\n",
       "    .dataframe tbody tr th {\n",
       "        vertical-align: top;\n",
       "    }\n",
       "\n",
       "    .dataframe thead th {\n",
       "        text-align: right;\n",
       "    }\n",
       "</style>\n",
       "<table border=\"1\" class=\"dataframe\">\n",
       "  <thead>\n",
       "    <tr style=\"text-align: right;\">\n",
       "      <th></th>\n",
       "      <th>Information</th>\n",
       "    </tr>\n",
       "  </thead>\n",
       "  <tbody>\n",
       "    <tr>\n",
       "      <th>Std_Info</th>\n",
       "      <td>[Vidit, 22, Ranchi]</td>\n",
       "    </tr>\n",
       "    <tr>\n",
       "      <th>Std_Marks</th>\n",
       "      <td>[78, 68, 85]</td>\n",
       "    </tr>\n",
       "    <tr>\n",
       "      <th>Std_Perfomance</th>\n",
       "      <td>[B+, C, A]</td>\n",
       "    </tr>\n",
       "  </tbody>\n",
       "</table>\n",
       "</div>"
      ],
      "text/plain": [
       "                        Information\n",
       "Std_Info        [Vidit, 22, Ranchi]\n",
       "Std_Marks              [78, 68, 85]\n",
       "Std_Perfomance           [B+, C, A]"
      ]
     },
     "execution_count": 266,
     "metadata": {},
     "output_type": "execute_result"
    }
   ],
   "source": [
    "X=pd.DataFrame({'Information':{'Std_Info':['Vidit',22,'Ranchi'],'Std_Marks':[78,68,85],'Std_Perfomance':['B+','C','A']}})\n",
    "X"
   ]
  },
  {
   "cell_type": "code",
   "execution_count": 71,
   "metadata": {},
   "outputs": [],
   "source": [
    "# NOTE :- 1. In a dataframe use list or use list inside a dict or use nested list or use dict inside list and list inside dict but in an appropriate manner."
   ]
  },
  {
   "cell_type": "code",
   "execution_count": 72,
   "metadata": {},
   "outputs": [],
   "source": [
    "# NOTE :- 1. In a dataframe always use columns with some unique identity which means that those columns should show or reflect some information about the data."
   ]
  },
  {
   "cell_type": "code",
   "execution_count": 73,
   "metadata": {},
   "outputs": [],
   "source": [
    "import pandas as pd"
   ]
  },
  {
   "cell_type": "code",
   "execution_count": 75,
   "metadata": {},
   "outputs": [
    {
     "data": {
      "text/html": [
       "<div>\n",
       "<style scoped>\n",
       "    .dataframe tbody tr th:only-of-type {\n",
       "        vertical-align: middle;\n",
       "    }\n",
       "\n",
       "    .dataframe tbody tr th {\n",
       "        vertical-align: top;\n",
       "    }\n",
       "\n",
       "    .dataframe thead th {\n",
       "        text-align: right;\n",
       "    }\n",
       "</style>\n",
       "<table border=\"1\" class=\"dataframe\">\n",
       "  <thead>\n",
       "    <tr style=\"text-align: right;\">\n",
       "      <th></th>\n",
       "      <th>Name</th>\n",
       "      <th>Age</th>\n",
       "      <th>Location</th>\n",
       "    </tr>\n",
       "  </thead>\n",
       "  <tbody>\n",
       "    <tr>\n",
       "      <th>0</th>\n",
       "      <td>Vidit</td>\n",
       "      <td>22</td>\n",
       "      <td>Ranchi</td>\n",
       "    </tr>\n",
       "    <tr>\n",
       "      <th>1</th>\n",
       "      <td>Ankit</td>\n",
       "      <td>24</td>\n",
       "      <td>Bokaro</td>\n",
       "    </tr>\n",
       "  </tbody>\n",
       "</table>\n",
       "</div>"
      ],
      "text/plain": [
       "    Name Age Location\n",
       "0  Vidit  22   Ranchi\n",
       "1  Ankit  24   Bokaro"
      ]
     },
     "execution_count": 75,
     "metadata": {},
     "output_type": "execute_result"
    }
   ],
   "source": [
    "X=pd.DataFrame([['Vidit',22,'Ranchi'],['Ankit','24','Bokaro']],columns=['Name','Age','Location'])\n",
    "X"
   ]
  },
  {
   "cell_type": "code",
   "execution_count": 76,
   "metadata": {},
   "outputs": [
    {
     "data": {
      "text/html": [
       "<div>\n",
       "<style scoped>\n",
       "    .dataframe tbody tr th:only-of-type {\n",
       "        vertical-align: middle;\n",
       "    }\n",
       "\n",
       "    .dataframe tbody tr th {\n",
       "        vertical-align: top;\n",
       "    }\n",
       "\n",
       "    .dataframe thead th {\n",
       "        text-align: right;\n",
       "    }\n",
       "</style>\n",
       "<table border=\"1\" class=\"dataframe\">\n",
       "  <thead>\n",
       "    <tr style=\"text-align: right;\">\n",
       "      <th></th>\n",
       "      <th>Name</th>\n",
       "      <th>Age</th>\n",
       "      <th>Location</th>\n",
       "    </tr>\n",
       "  </thead>\n",
       "  <tbody>\n",
       "    <tr>\n",
       "      <th>0</th>\n",
       "      <td>Vidit</td>\n",
       "      <td>22</td>\n",
       "      <td>Ranchi</td>\n",
       "    </tr>\n",
       "    <tr>\n",
       "      <th>1</th>\n",
       "      <td>Ankit</td>\n",
       "      <td>24</td>\n",
       "      <td>Bokaro</td>\n",
       "    </tr>\n",
       "    <tr>\n",
       "      <th>2</th>\n",
       "      <td>Piyush</td>\n",
       "      <td>25</td>\n",
       "      <td>Ramgarh</td>\n",
       "    </tr>\n",
       "  </tbody>\n",
       "</table>\n",
       "</div>"
      ],
      "text/plain": [
       "     Name  Age Location\n",
       "0   Vidit   22   Ranchi\n",
       "1   Ankit   24   Bokaro\n",
       "2  Piyush   25  Ramgarh"
      ]
     },
     "execution_count": 76,
     "metadata": {},
     "output_type": "execute_result"
    }
   ],
   "source": [
    "X=pd.DataFrame({'Name':['Vidit','Ankit','Piyush'],'Age':[22,24,25],'Location':['Ranchi','Bokaro','Ramgarh']})\n",
    "X"
   ]
  },
  {
   "cell_type": "code",
   "execution_count": 78,
   "metadata": {},
   "outputs": [
    {
     "data": {
      "text/html": [
       "<div>\n",
       "<style scoped>\n",
       "    .dataframe tbody tr th:only-of-type {\n",
       "        vertical-align: middle;\n",
       "    }\n",
       "\n",
       "    .dataframe tbody tr th {\n",
       "        vertical-align: top;\n",
       "    }\n",
       "\n",
       "    .dataframe thead th {\n",
       "        text-align: right;\n",
       "    }\n",
       "</style>\n",
       "<table border=\"1\" class=\"dataframe\">\n",
       "  <thead>\n",
       "    <tr style=\"text-align: right;\">\n",
       "      <th></th>\n",
       "      <th>Career_Analysis</th>\n",
       "      <th>Actors_Name</th>\n",
       "      <th>Total_Films</th>\n",
       "      <th>No_of_Blockbuster_Films</th>\n",
       "    </tr>\n",
       "  </thead>\n",
       "  <tbody>\n",
       "    <tr>\n",
       "      <th>0</th>\n",
       "      <td>[Flop]</td>\n",
       "      <td>[Nutan]</td>\n",
       "      <td>400</td>\n",
       "      <td>25</td>\n",
       "    </tr>\n",
       "    <tr>\n",
       "      <th>1</th>\n",
       "      <td>[Semi-Hit]</td>\n",
       "      <td>[Nargis]</td>\n",
       "      <td>290</td>\n",
       "      <td>78</td>\n",
       "    </tr>\n",
       "    <tr>\n",
       "      <th>2</th>\n",
       "      <td>[Hit]</td>\n",
       "      <td>[Shaami]</td>\n",
       "      <td>300</td>\n",
       "      <td>33</td>\n",
       "    </tr>\n",
       "    <tr>\n",
       "      <th>3</th>\n",
       "      <td>[Flop]</td>\n",
       "      <td>[Raj]</td>\n",
       "      <td>345</td>\n",
       "      <td>76</td>\n",
       "    </tr>\n",
       "  </tbody>\n",
       "</table>\n",
       "</div>"
      ],
      "text/plain": [
       "  Career_Analysis Actors_Name  Total_Films  No_of_Blockbuster_Films\n",
       "0          [Flop]     [Nutan]          400                       25\n",
       "1      [Semi-Hit]    [Nargis]          290                       78\n",
       "2           [Hit]    [Shaami]          300                       33\n",
       "3          [Flop]       [Raj]          345                       76"
      ]
     },
     "execution_count": 78,
     "metadata": {},
     "output_type": "execute_result"
    }
   ],
   "source": [
    "X=pd.DataFrame({'Career_Analysis':[['Flop'],['Semi-Hit'],['Hit'],['Flop']],'Actors_Name':[['Nutan'],['Nargis'],['Shaami'],['Raj']],'Total_Films':[400,290,300,345],'No_of_Blockbuster_Films':[25,78,33,76]})\n",
    "X"
   ]
  },
  {
   "cell_type": "code",
   "execution_count": 1,
   "metadata": {},
   "outputs": [],
   "source": [
    "import pandas as pd\n",
    "import numpy as np"
   ]
  },
  {
   "cell_type": "code",
   "execution_count": 2,
   "metadata": {},
   "outputs": [
    {
     "data": {
      "text/html": [
       "<div>\n",
       "<style scoped>\n",
       "    .dataframe tbody tr th:only-of-type {\n",
       "        vertical-align: middle;\n",
       "    }\n",
       "\n",
       "    .dataframe tbody tr th {\n",
       "        vertical-align: top;\n",
       "    }\n",
       "\n",
       "    .dataframe thead th {\n",
       "        text-align: right;\n",
       "    }\n",
       "</style>\n",
       "<table border=\"1\" class=\"dataframe\">\n",
       "  <thead>\n",
       "    <tr style=\"text-align: right;\">\n",
       "      <th></th>\n",
       "      <th>Total_Matches</th>\n",
       "      <th>Players_Name</th>\n",
       "      <th>Career_Analysis</th>\n",
       "      <th>Total_Runs</th>\n",
       "    </tr>\n",
       "  </thead>\n",
       "  <tbody>\n",
       "    <tr>\n",
       "      <th>0</th>\n",
       "      <td>424</td>\n",
       "      <td>[S-a-c-h-i-n]</td>\n",
       "      <td>[Outstanding]</td>\n",
       "      <td>18400</td>\n",
       "    </tr>\n",
       "    <tr>\n",
       "      <th>1</th>\n",
       "      <td>360</td>\n",
       "      <td>[Y-u-v-r-a-j]</td>\n",
       "      <td>[Hit]</td>\n",
       "      <td>9800</td>\n",
       "    </tr>\n",
       "    <tr>\n",
       "      <th>2</th>\n",
       "      <td>280</td>\n",
       "      <td>[D-h-o-n-i]</td>\n",
       "      <td>[Semi-Hit]</td>\n",
       "      <td>11300</td>\n",
       "    </tr>\n",
       "    <tr>\n",
       "      <th>3</th>\n",
       "      <td>180</td>\n",
       "      <td>[R-a-i-n-a]</td>\n",
       "      <td>[Flop]</td>\n",
       "      <td>8800</td>\n",
       "    </tr>\n",
       "    <tr>\n",
       "      <th>4</th>\n",
       "      <td>230</td>\n",
       "      <td>[G-a-u-t-a-m]</td>\n",
       "      <td>[Semi-Hit]</td>\n",
       "      <td>13400</td>\n",
       "    </tr>\n",
       "    <tr>\n",
       "      <th>5</th>\n",
       "      <td>150</td>\n",
       "      <td>[S-e-h-w-a-g]</td>\n",
       "      <td>[Flop]</td>\n",
       "      <td>6540</td>\n",
       "    </tr>\n",
       "    <tr>\n",
       "      <th>6</th>\n",
       "      <td>340</td>\n",
       "      <td>[D-r-a-v-i-d]</td>\n",
       "      <td>[Hit]</td>\n",
       "      <td>17900</td>\n",
       "    </tr>\n",
       "    <tr>\n",
       "      <th>7</th>\n",
       "      <td>400</td>\n",
       "      <td>[G-a-n-g-u-l-y]</td>\n",
       "      <td>[Outstanding]</td>\n",
       "      <td>8766</td>\n",
       "    </tr>\n",
       "    <tr>\n",
       "      <th>8</th>\n",
       "      <td>245</td>\n",
       "      <td>[K-o-h-l-i]</td>\n",
       "      <td>[Semi-Hit]</td>\n",
       "      <td>13450</td>\n",
       "    </tr>\n",
       "    <tr>\n",
       "      <th>9</th>\n",
       "      <td>130</td>\n",
       "      <td>[R-o-h-i-t]</td>\n",
       "      <td>[Flop]</td>\n",
       "      <td>13009</td>\n",
       "    </tr>\n",
       "  </tbody>\n",
       "</table>\n",
       "</div>"
      ],
      "text/plain": [
       "   Total_Matches     Players_Name Career_Analysis  Total_Runs\n",
       "0            424    [S-a-c-h-i-n]   [Outstanding]       18400\n",
       "1            360    [Y-u-v-r-a-j]           [Hit]        9800\n",
       "2            280      [D-h-o-n-i]      [Semi-Hit]       11300\n",
       "3            180      [R-a-i-n-a]          [Flop]        8800\n",
       "4            230    [G-a-u-t-a-m]      [Semi-Hit]       13400\n",
       "5            150    [S-e-h-w-a-g]          [Flop]        6540\n",
       "6            340    [D-r-a-v-i-d]           [Hit]       17900\n",
       "7            400  [G-a-n-g-u-l-y]   [Outstanding]        8766\n",
       "8            245      [K-o-h-l-i]      [Semi-Hit]       13450\n",
       "9            130      [R-o-h-i-t]          [Flop]       13009"
      ]
     },
     "execution_count": 2,
     "metadata": {},
     "output_type": "execute_result"
    }
   ],
   "source": [
    "X=pd.DataFrame({'Total_Matches':[424,360,280,180,230,150,340,400,245,130],'Players_Name':[['S-a-c-h-i-n'],['Y-u-v-r-a-j'],['D-h-o-n-i'],['R-a-i-n-a'],['G-a-u-t-a-m'],['S-e-h-w-a-g'],['D-r-a-v-i-d'],['G-a-n-g-u-l-y'],['K-o-h-l-i'],['R-o-h-i-t']],'Career_Analysis':[['Outstanding'],['Hit'],['Semi-Hit'],['Flop'],['Semi-Hit'],['Flop'],['Hit'],['Outstanding'],['Semi-Hit'],['Flop']],'Total_Runs':[18400,9800,11300,8800,13400,6540,17900,8766,13450,13009]})\n",
    "X"
   ]
  },
  {
   "cell_type": "markdown",
   "metadata": {},
   "source": [
    "##### Data Cleaning :-"
   ]
  },
  {
   "cell_type": "code",
   "execution_count": 78,
   "metadata": {},
   "outputs": [
    {
     "data": {
      "text/html": [
       "<div>\n",
       "<style scoped>\n",
       "    .dataframe tbody tr th:only-of-type {\n",
       "        vertical-align: middle;\n",
       "    }\n",
       "\n",
       "    .dataframe tbody tr th {\n",
       "        vertical-align: top;\n",
       "    }\n",
       "\n",
       "    .dataframe thead th {\n",
       "        text-align: right;\n",
       "    }\n",
       "</style>\n",
       "<table border=\"1\" class=\"dataframe\">\n",
       "  <thead>\n",
       "    <tr style=\"text-align: right;\">\n",
       "      <th></th>\n",
       "      <th>Total_Matches</th>\n",
       "      <th>Players_Name</th>\n",
       "      <th>Career_Analysis</th>\n",
       "      <th>Total_Runs</th>\n",
       "    </tr>\n",
       "  </thead>\n",
       "  <tbody>\n",
       "    <tr>\n",
       "      <th>0</th>\n",
       "      <td>424</td>\n",
       "      <td>S-a-c-h-i-n</td>\n",
       "      <td>[Outstanding]</td>\n",
       "      <td>18400</td>\n",
       "    </tr>\n",
       "    <tr>\n",
       "      <th>1</th>\n",
       "      <td>360</td>\n",
       "      <td>Y-u-v-r-a-j</td>\n",
       "      <td>[Hit]</td>\n",
       "      <td>9800</td>\n",
       "    </tr>\n",
       "    <tr>\n",
       "      <th>2</th>\n",
       "      <td>280</td>\n",
       "      <td>D-h-o-n-i</td>\n",
       "      <td>[Semi-Hit]</td>\n",
       "      <td>11300</td>\n",
       "    </tr>\n",
       "    <tr>\n",
       "      <th>3</th>\n",
       "      <td>180</td>\n",
       "      <td>R-a-i-n-a</td>\n",
       "      <td>[Flop]</td>\n",
       "      <td>8800</td>\n",
       "    </tr>\n",
       "    <tr>\n",
       "      <th>4</th>\n",
       "      <td>230</td>\n",
       "      <td>G-a-u-t-a-m</td>\n",
       "      <td>[Semi-Hit]</td>\n",
       "      <td>13400</td>\n",
       "    </tr>\n",
       "    <tr>\n",
       "      <th>5</th>\n",
       "      <td>150</td>\n",
       "      <td>S-e-h-w-a-g</td>\n",
       "      <td>[Flop]</td>\n",
       "      <td>6540</td>\n",
       "    </tr>\n",
       "    <tr>\n",
       "      <th>6</th>\n",
       "      <td>340</td>\n",
       "      <td>D-r-a-v-i-d</td>\n",
       "      <td>[Hit]</td>\n",
       "      <td>17900</td>\n",
       "    </tr>\n",
       "    <tr>\n",
       "      <th>7</th>\n",
       "      <td>400</td>\n",
       "      <td>G-a-n-g-u-l-y</td>\n",
       "      <td>[Outstanding]</td>\n",
       "      <td>8766</td>\n",
       "    </tr>\n",
       "    <tr>\n",
       "      <th>8</th>\n",
       "      <td>245</td>\n",
       "      <td>K-o-h-l-i</td>\n",
       "      <td>[Semi-Hit]</td>\n",
       "      <td>13450</td>\n",
       "    </tr>\n",
       "    <tr>\n",
       "      <th>9</th>\n",
       "      <td>130</td>\n",
       "      <td>R-o-h-i-t</td>\n",
       "      <td>[Flop]</td>\n",
       "      <td>13009</td>\n",
       "    </tr>\n",
       "  </tbody>\n",
       "</table>\n",
       "</div>"
      ],
      "text/plain": [
       "   Total_Matches   Players_Name Career_Analysis  Total_Runs\n",
       "0            424    S-a-c-h-i-n   [Outstanding]       18400\n",
       "1            360    Y-u-v-r-a-j           [Hit]        9800\n",
       "2            280      D-h-o-n-i      [Semi-Hit]       11300\n",
       "3            180      R-a-i-n-a          [Flop]        8800\n",
       "4            230    G-a-u-t-a-m      [Semi-Hit]       13400\n",
       "5            150    S-e-h-w-a-g          [Flop]        6540\n",
       "6            340    D-r-a-v-i-d           [Hit]       17900\n",
       "7            400  G-a-n-g-u-l-y   [Outstanding]        8766\n",
       "8            245      K-o-h-l-i      [Semi-Hit]       13450\n",
       "9            130      R-o-h-i-t          [Flop]       13009"
      ]
     },
     "execution_count": 78,
     "metadata": {},
     "output_type": "execute_result"
    }
   ],
   "source": [
    "def A(Y):\n",
    "    data1=Y['Players_Name'].values.tolist()\n",
    "    data2=pd.DataFrame(data1)\n",
    "    return data2\n",
    "X['Players_Name']=A(X)\n",
    "X"
   ]
  },
  {
   "cell_type": "code",
   "execution_count": 79,
   "metadata": {},
   "outputs": [
    {
     "data": {
      "text/html": [
       "<div>\n",
       "<style scoped>\n",
       "    .dataframe tbody tr th:only-of-type {\n",
       "        vertical-align: middle;\n",
       "    }\n",
       "\n",
       "    .dataframe tbody tr th {\n",
       "        vertical-align: top;\n",
       "    }\n",
       "\n",
       "    .dataframe thead th {\n",
       "        text-align: right;\n",
       "    }\n",
       "</style>\n",
       "<table border=\"1\" class=\"dataframe\">\n",
       "  <thead>\n",
       "    <tr style=\"text-align: right;\">\n",
       "      <th></th>\n",
       "      <th>Total_Matches</th>\n",
       "      <th>Players_Name</th>\n",
       "      <th>Career_Analysis</th>\n",
       "      <th>Total_Runs</th>\n",
       "    </tr>\n",
       "  </thead>\n",
       "  <tbody>\n",
       "    <tr>\n",
       "      <th>0</th>\n",
       "      <td>424</td>\n",
       "      <td>S-a-c-h-i-n</td>\n",
       "      <td>Outstanding</td>\n",
       "      <td>18400</td>\n",
       "    </tr>\n",
       "    <tr>\n",
       "      <th>1</th>\n",
       "      <td>360</td>\n",
       "      <td>Y-u-v-r-a-j</td>\n",
       "      <td>Hit</td>\n",
       "      <td>9800</td>\n",
       "    </tr>\n",
       "    <tr>\n",
       "      <th>2</th>\n",
       "      <td>280</td>\n",
       "      <td>D-h-o-n-i</td>\n",
       "      <td>Semi-Hit</td>\n",
       "      <td>11300</td>\n",
       "    </tr>\n",
       "    <tr>\n",
       "      <th>3</th>\n",
       "      <td>180</td>\n",
       "      <td>R-a-i-n-a</td>\n",
       "      <td>Flop</td>\n",
       "      <td>8800</td>\n",
       "    </tr>\n",
       "    <tr>\n",
       "      <th>4</th>\n",
       "      <td>230</td>\n",
       "      <td>G-a-u-t-a-m</td>\n",
       "      <td>Semi-Hit</td>\n",
       "      <td>13400</td>\n",
       "    </tr>\n",
       "    <tr>\n",
       "      <th>5</th>\n",
       "      <td>150</td>\n",
       "      <td>S-e-h-w-a-g</td>\n",
       "      <td>Flop</td>\n",
       "      <td>6540</td>\n",
       "    </tr>\n",
       "    <tr>\n",
       "      <th>6</th>\n",
       "      <td>340</td>\n",
       "      <td>D-r-a-v-i-d</td>\n",
       "      <td>Hit</td>\n",
       "      <td>17900</td>\n",
       "    </tr>\n",
       "    <tr>\n",
       "      <th>7</th>\n",
       "      <td>400</td>\n",
       "      <td>G-a-n-g-u-l-y</td>\n",
       "      <td>Outstanding</td>\n",
       "      <td>8766</td>\n",
       "    </tr>\n",
       "    <tr>\n",
       "      <th>8</th>\n",
       "      <td>245</td>\n",
       "      <td>K-o-h-l-i</td>\n",
       "      <td>Semi-Hit</td>\n",
       "      <td>13450</td>\n",
       "    </tr>\n",
       "    <tr>\n",
       "      <th>9</th>\n",
       "      <td>130</td>\n",
       "      <td>R-o-h-i-t</td>\n",
       "      <td>Flop</td>\n",
       "      <td>13009</td>\n",
       "    </tr>\n",
       "  </tbody>\n",
       "</table>\n",
       "</div>"
      ],
      "text/plain": [
       "   Total_Matches   Players_Name Career_Analysis  Total_Runs\n",
       "0            424    S-a-c-h-i-n     Outstanding       18400\n",
       "1            360    Y-u-v-r-a-j             Hit        9800\n",
       "2            280      D-h-o-n-i        Semi-Hit       11300\n",
       "3            180      R-a-i-n-a            Flop        8800\n",
       "4            230    G-a-u-t-a-m        Semi-Hit       13400\n",
       "5            150    S-e-h-w-a-g            Flop        6540\n",
       "6            340    D-r-a-v-i-d             Hit       17900\n",
       "7            400  G-a-n-g-u-l-y     Outstanding        8766\n",
       "8            245      K-o-h-l-i        Semi-Hit       13450\n",
       "9            130      R-o-h-i-t            Flop       13009"
      ]
     },
     "execution_count": 79,
     "metadata": {},
     "output_type": "execute_result"
    }
   ],
   "source": [
    "def A(Y):\n",
    "    data1=Y['Career_Analysis'].values.tolist()\n",
    "    data2=pd.DataFrame(data1)\n",
    "    return data2\n",
    "X['Career_Analysis']=A(X)\n",
    "X"
   ]
  },
  {
   "cell_type": "markdown",
   "metadata": {},
   "source": [
    "##### Add an Extra column."
   ]
  },
  {
   "cell_type": "code",
   "execution_count": 50,
   "metadata": {},
   "outputs": [],
   "source": [
    "# Want to check the average of each player."
   ]
  },
  {
   "cell_type": "code",
   "execution_count": 80,
   "metadata": {},
   "outputs": [
    {
     "data": {
      "text/html": [
       "<div>\n",
       "<style scoped>\n",
       "    .dataframe tbody tr th:only-of-type {\n",
       "        vertical-align: middle;\n",
       "    }\n",
       "\n",
       "    .dataframe tbody tr th {\n",
       "        vertical-align: top;\n",
       "    }\n",
       "\n",
       "    .dataframe thead th {\n",
       "        text-align: right;\n",
       "    }\n",
       "</style>\n",
       "<table border=\"1\" class=\"dataframe\">\n",
       "  <thead>\n",
       "    <tr style=\"text-align: right;\">\n",
       "      <th></th>\n",
       "      <th>Total_Matches</th>\n",
       "      <th>Players_Name</th>\n",
       "      <th>Career_Analysis</th>\n",
       "      <th>Total_Runs</th>\n",
       "      <th>Avearge</th>\n",
       "    </tr>\n",
       "  </thead>\n",
       "  <tbody>\n",
       "    <tr>\n",
       "      <th>0</th>\n",
       "      <td>424</td>\n",
       "      <td>S-a-c-h-i-n</td>\n",
       "      <td>Outstanding</td>\n",
       "      <td>18400</td>\n",
       "      <td>43.396226</td>\n",
       "    </tr>\n",
       "    <tr>\n",
       "      <th>1</th>\n",
       "      <td>360</td>\n",
       "      <td>Y-u-v-r-a-j</td>\n",
       "      <td>Hit</td>\n",
       "      <td>9800</td>\n",
       "      <td>27.222222</td>\n",
       "    </tr>\n",
       "    <tr>\n",
       "      <th>2</th>\n",
       "      <td>280</td>\n",
       "      <td>D-h-o-n-i</td>\n",
       "      <td>Semi-Hit</td>\n",
       "      <td>11300</td>\n",
       "      <td>40.357143</td>\n",
       "    </tr>\n",
       "    <tr>\n",
       "      <th>3</th>\n",
       "      <td>180</td>\n",
       "      <td>R-a-i-n-a</td>\n",
       "      <td>Flop</td>\n",
       "      <td>8800</td>\n",
       "      <td>48.888889</td>\n",
       "    </tr>\n",
       "    <tr>\n",
       "      <th>4</th>\n",
       "      <td>230</td>\n",
       "      <td>G-a-u-t-a-m</td>\n",
       "      <td>Semi-Hit</td>\n",
       "      <td>13400</td>\n",
       "      <td>58.260870</td>\n",
       "    </tr>\n",
       "    <tr>\n",
       "      <th>5</th>\n",
       "      <td>150</td>\n",
       "      <td>S-e-h-w-a-g</td>\n",
       "      <td>Flop</td>\n",
       "      <td>6540</td>\n",
       "      <td>43.600000</td>\n",
       "    </tr>\n",
       "    <tr>\n",
       "      <th>6</th>\n",
       "      <td>340</td>\n",
       "      <td>D-r-a-v-i-d</td>\n",
       "      <td>Hit</td>\n",
       "      <td>17900</td>\n",
       "      <td>52.647059</td>\n",
       "    </tr>\n",
       "    <tr>\n",
       "      <th>7</th>\n",
       "      <td>400</td>\n",
       "      <td>G-a-n-g-u-l-y</td>\n",
       "      <td>Outstanding</td>\n",
       "      <td>8766</td>\n",
       "      <td>21.915000</td>\n",
       "    </tr>\n",
       "    <tr>\n",
       "      <th>8</th>\n",
       "      <td>245</td>\n",
       "      <td>K-o-h-l-i</td>\n",
       "      <td>Semi-Hit</td>\n",
       "      <td>13450</td>\n",
       "      <td>54.897959</td>\n",
       "    </tr>\n",
       "    <tr>\n",
       "      <th>9</th>\n",
       "      <td>130</td>\n",
       "      <td>R-o-h-i-t</td>\n",
       "      <td>Flop</td>\n",
       "      <td>13009</td>\n",
       "      <td>100.069231</td>\n",
       "    </tr>\n",
       "  </tbody>\n",
       "</table>\n",
       "</div>"
      ],
      "text/plain": [
       "   Total_Matches   Players_Name Career_Analysis  Total_Runs     Avearge\n",
       "0            424    S-a-c-h-i-n     Outstanding       18400   43.396226\n",
       "1            360    Y-u-v-r-a-j             Hit        9800   27.222222\n",
       "2            280      D-h-o-n-i        Semi-Hit       11300   40.357143\n",
       "3            180      R-a-i-n-a            Flop        8800   48.888889\n",
       "4            230    G-a-u-t-a-m        Semi-Hit       13400   58.260870\n",
       "5            150    S-e-h-w-a-g            Flop        6540   43.600000\n",
       "6            340    D-r-a-v-i-d             Hit       17900   52.647059\n",
       "7            400  G-a-n-g-u-l-y     Outstanding        8766   21.915000\n",
       "8            245      K-o-h-l-i        Semi-Hit       13450   54.897959\n",
       "9            130      R-o-h-i-t            Flop       13009  100.069231"
      ]
     },
     "execution_count": 80,
     "metadata": {},
     "output_type": "execute_result"
    }
   ],
   "source": [
    "X['Avearge']=X['Total_Runs']/X['Total_Matches']\n",
    "X"
   ]
  },
  {
   "cell_type": "code",
   "execution_count": 66,
   "metadata": {},
   "outputs": [],
   "source": [
    "#Check its datatype :-"
   ]
  },
  {
   "cell_type": "code",
   "execution_count": 67,
   "metadata": {},
   "outputs": [
    {
     "data": {
      "text/plain": [
       "dtype('O')"
      ]
     },
     "execution_count": 67,
     "metadata": {},
     "output_type": "execute_result"
    }
   ],
   "source": [
    "X.Players_Name.dtype"
   ]
  },
  {
   "cell_type": "code",
   "execution_count": 63,
   "metadata": {},
   "outputs": [],
   "source": [
    "# Remove special character from the player's name:-"
   ]
  },
  {
   "cell_type": "code",
   "execution_count": 81,
   "metadata": {},
   "outputs": [
    {
     "data": {
      "text/html": [
       "<div>\n",
       "<style scoped>\n",
       "    .dataframe tbody tr th:only-of-type {\n",
       "        vertical-align: middle;\n",
       "    }\n",
       "\n",
       "    .dataframe tbody tr th {\n",
       "        vertical-align: top;\n",
       "    }\n",
       "\n",
       "    .dataframe thead th {\n",
       "        text-align: right;\n",
       "    }\n",
       "</style>\n",
       "<table border=\"1\" class=\"dataframe\">\n",
       "  <thead>\n",
       "    <tr style=\"text-align: right;\">\n",
       "      <th></th>\n",
       "      <th>Total_Matches</th>\n",
       "      <th>Players_Name</th>\n",
       "      <th>Career_Analysis</th>\n",
       "      <th>Total_Runs</th>\n",
       "      <th>Avearge</th>\n",
       "    </tr>\n",
       "  </thead>\n",
       "  <tbody>\n",
       "    <tr>\n",
       "      <th>0</th>\n",
       "      <td>424</td>\n",
       "      <td>Sachin</td>\n",
       "      <td>Outstanding</td>\n",
       "      <td>18400</td>\n",
       "      <td>43.396226</td>\n",
       "    </tr>\n",
       "    <tr>\n",
       "      <th>1</th>\n",
       "      <td>360</td>\n",
       "      <td>Yuvraj</td>\n",
       "      <td>Hit</td>\n",
       "      <td>9800</td>\n",
       "      <td>27.222222</td>\n",
       "    </tr>\n",
       "    <tr>\n",
       "      <th>2</th>\n",
       "      <td>280</td>\n",
       "      <td>Dhoni</td>\n",
       "      <td>Semi-Hit</td>\n",
       "      <td>11300</td>\n",
       "      <td>40.357143</td>\n",
       "    </tr>\n",
       "    <tr>\n",
       "      <th>3</th>\n",
       "      <td>180</td>\n",
       "      <td>Raina</td>\n",
       "      <td>Flop</td>\n",
       "      <td>8800</td>\n",
       "      <td>48.888889</td>\n",
       "    </tr>\n",
       "    <tr>\n",
       "      <th>4</th>\n",
       "      <td>230</td>\n",
       "      <td>Gautam</td>\n",
       "      <td>Semi-Hit</td>\n",
       "      <td>13400</td>\n",
       "      <td>58.260870</td>\n",
       "    </tr>\n",
       "    <tr>\n",
       "      <th>5</th>\n",
       "      <td>150</td>\n",
       "      <td>Sehwag</td>\n",
       "      <td>Flop</td>\n",
       "      <td>6540</td>\n",
       "      <td>43.600000</td>\n",
       "    </tr>\n",
       "    <tr>\n",
       "      <th>6</th>\n",
       "      <td>340</td>\n",
       "      <td>Dravid</td>\n",
       "      <td>Hit</td>\n",
       "      <td>17900</td>\n",
       "      <td>52.647059</td>\n",
       "    </tr>\n",
       "    <tr>\n",
       "      <th>7</th>\n",
       "      <td>400</td>\n",
       "      <td>Ganguly</td>\n",
       "      <td>Outstanding</td>\n",
       "      <td>8766</td>\n",
       "      <td>21.915000</td>\n",
       "    </tr>\n",
       "    <tr>\n",
       "      <th>8</th>\n",
       "      <td>245</td>\n",
       "      <td>Kohli</td>\n",
       "      <td>Semi-Hit</td>\n",
       "      <td>13450</td>\n",
       "      <td>54.897959</td>\n",
       "    </tr>\n",
       "    <tr>\n",
       "      <th>9</th>\n",
       "      <td>130</td>\n",
       "      <td>Rohit</td>\n",
       "      <td>Flop</td>\n",
       "      <td>13009</td>\n",
       "      <td>100.069231</td>\n",
       "    </tr>\n",
       "  </tbody>\n",
       "</table>\n",
       "</div>"
      ],
      "text/plain": [
       "   Total_Matches Players_Name Career_Analysis  Total_Runs     Avearge\n",
       "0            424       Sachin     Outstanding       18400   43.396226\n",
       "1            360       Yuvraj             Hit        9800   27.222222\n",
       "2            280        Dhoni        Semi-Hit       11300   40.357143\n",
       "3            180        Raina            Flop        8800   48.888889\n",
       "4            230       Gautam        Semi-Hit       13400   58.260870\n",
       "5            150       Sehwag            Flop        6540   43.600000\n",
       "6            340       Dravid             Hit       17900   52.647059\n",
       "7            400      Ganguly     Outstanding        8766   21.915000\n",
       "8            245        Kohli        Semi-Hit       13450   54.897959\n",
       "9            130        Rohit            Flop       13009  100.069231"
      ]
     },
     "execution_count": 81,
     "metadata": {},
     "output_type": "execute_result"
    }
   ],
   "source": [
    "def B(data):\n",
    "    data1=str(data)\n",
    "    data2=data1.replace('-','')\n",
    "    return data2\n",
    "X['Players_Name']=X['Players_Name'].apply(B)\n",
    "X"
   ]
  },
  {
   "cell_type": "markdown",
   "metadata": {},
   "source": [
    "##### Data Exploration :-"
   ]
  },
  {
   "cell_type": "code",
   "execution_count": 83,
   "metadata": {},
   "outputs": [
    {
     "data": {
      "text/plain": [
       "(10, 5)"
      ]
     },
     "execution_count": 83,
     "metadata": {},
     "output_type": "execute_result"
    }
   ],
   "source": [
    "X.shape"
   ]
  },
  {
   "cell_type": "code",
   "execution_count": 84,
   "metadata": {},
   "outputs": [
    {
     "data": {
      "text/plain": [
       "Index(['Total_Matches', 'Players_Name', 'Career_Analysis', 'Total_Runs',\n",
       "       'Avearge'],\n",
       "      dtype='object')"
      ]
     },
     "execution_count": 84,
     "metadata": {},
     "output_type": "execute_result"
    }
   ],
   "source": [
    "X.columns"
   ]
  },
  {
   "cell_type": "code",
   "execution_count": 85,
   "metadata": {},
   "outputs": [
    {
     "data": {
      "text/plain": [
       "Total_Matches        int64\n",
       "Players_Name        object\n",
       "Career_Analysis     object\n",
       "Total_Runs           int64\n",
       "Avearge            float64\n",
       "dtype: object"
      ]
     },
     "execution_count": 85,
     "metadata": {},
     "output_type": "execute_result"
    }
   ],
   "source": [
    "X.dtypes"
   ]
  },
  {
   "cell_type": "code",
   "execution_count": 86,
   "metadata": {},
   "outputs": [
    {
     "data": {
      "text/plain": [
       "RangeIndex(start=0, stop=10, step=1)"
      ]
     },
     "execution_count": 86,
     "metadata": {},
     "output_type": "execute_result"
    }
   ],
   "source": [
    "X.index"
   ]
  },
  {
   "cell_type": "code",
   "execution_count": 87,
   "metadata": {},
   "outputs": [
    {
     "data": {
      "text/plain": [
       "9"
      ]
     },
     "execution_count": 87,
     "metadata": {},
     "output_type": "execute_result"
    }
   ],
   "source": [
    "X.index.max()"
   ]
  },
  {
   "cell_type": "code",
   "execution_count": 88,
   "metadata": {},
   "outputs": [
    {
     "data": {
      "text/plain": [
       "0"
      ]
     },
     "execution_count": 88,
     "metadata": {},
     "output_type": "execute_result"
    }
   ],
   "source": [
    "X.index.min()"
   ]
  },
  {
   "cell_type": "code",
   "execution_count": 89,
   "metadata": {},
   "outputs": [],
   "source": [
    "#Find total null value :-"
   ]
  },
  {
   "cell_type": "code",
   "execution_count": 102,
   "metadata": {},
   "outputs": [],
   "source": [
    "# Two different methods to find out the null value in each row and then find the sum of null value in each columns."
   ]
  },
  {
   "cell_type": "code",
   "execution_count": 97,
   "metadata": {},
   "outputs": [
    {
     "data": {
      "text/plain": [
       "Total_Matches      0\n",
       "Players_Name       0\n",
       "Career_Analysis    0\n",
       "Total_Runs         0\n",
       "Avearge            0\n",
       "dtype: int64"
      ]
     },
     "execution_count": 97,
     "metadata": {},
     "output_type": "execute_result"
    }
   ],
   "source": [
    "Y=X.isnull()\n",
    "Y.sum()"
   ]
  },
  {
   "cell_type": "code",
   "execution_count": 98,
   "metadata": {},
   "outputs": [
    {
     "data": {
      "text/plain": [
       "Total_Matches      0\n",
       "Players_Name       0\n",
       "Career_Analysis    0\n",
       "Total_Runs         0\n",
       "Avearge            0\n",
       "dtype: int64"
      ]
     },
     "execution_count": 98,
     "metadata": {},
     "output_type": "execute_result"
    }
   ],
   "source": [
    "Y=X.apply(lambda x:sum(x.isnull()),axis=0)\n",
    "Y"
   ]
  },
  {
   "cell_type": "markdown",
   "metadata": {},
   "source": [
    "##### Subsetting :-"
   ]
  },
  {
   "cell_type": "code",
   "execution_count": 103,
   "metadata": {},
   "outputs": [],
   "source": [
    "# Let's find out whether which sports personality have average more than 50."
   ]
  },
  {
   "cell_type": "code",
   "execution_count": 107,
   "metadata": {},
   "outputs": [
    {
     "data": {
      "text/html": [
       "<div>\n",
       "<style scoped>\n",
       "    .dataframe tbody tr th:only-of-type {\n",
       "        vertical-align: middle;\n",
       "    }\n",
       "\n",
       "    .dataframe tbody tr th {\n",
       "        vertical-align: top;\n",
       "    }\n",
       "\n",
       "    .dataframe thead th {\n",
       "        text-align: right;\n",
       "    }\n",
       "</style>\n",
       "<table border=\"1\" class=\"dataframe\">\n",
       "  <thead>\n",
       "    <tr style=\"text-align: right;\">\n",
       "      <th></th>\n",
       "      <th>Players_Name</th>\n",
       "    </tr>\n",
       "  </thead>\n",
       "  <tbody>\n",
       "    <tr>\n",
       "      <th>4</th>\n",
       "      <td>Gautam</td>\n",
       "    </tr>\n",
       "    <tr>\n",
       "      <th>6</th>\n",
       "      <td>Dravid</td>\n",
       "    </tr>\n",
       "    <tr>\n",
       "      <th>8</th>\n",
       "      <td>Kohli</td>\n",
       "    </tr>\n",
       "    <tr>\n",
       "      <th>9</th>\n",
       "      <td>Rohit</td>\n",
       "    </tr>\n",
       "  </tbody>\n",
       "</table>\n",
       "</div>"
      ],
      "text/plain": [
       "  Players_Name\n",
       "4       Gautam\n",
       "6       Dravid\n",
       "8        Kohli\n",
       "9        Rohit"
      ]
     },
     "execution_count": 107,
     "metadata": {},
     "output_type": "execute_result"
    }
   ],
   "source": [
    "Z=X[['Players_Name']][X['Avearge']>50.0]\n",
    "Z"
   ]
  },
  {
   "cell_type": "code",
   "execution_count": 108,
   "metadata": {},
   "outputs": [],
   "source": [
    "# Find out all the index of those player which have average more than 50.0"
   ]
  },
  {
   "cell_type": "code",
   "execution_count": 109,
   "metadata": {},
   "outputs": [
    {
     "data": {
      "text/plain": [
       "Int64Index([4, 6, 8, 9], dtype='int64')"
      ]
     },
     "execution_count": 109,
     "metadata": {},
     "output_type": "execute_result"
    }
   ],
   "source": [
    "Z=X[['Players_Name']][X['Avearge']>50.0].index\n",
    "Z"
   ]
  },
  {
   "cell_type": "code",
   "execution_count": 110,
   "metadata": {},
   "outputs": [],
   "source": [
    "# Find out all the players whose avearge is less than 50 but comes under outstanding category."
   ]
  },
  {
   "cell_type": "code",
   "execution_count": 113,
   "metadata": {},
   "outputs": [
    {
     "data": {
      "text/html": [
       "<div>\n",
       "<style scoped>\n",
       "    .dataframe tbody tr th:only-of-type {\n",
       "        vertical-align: middle;\n",
       "    }\n",
       "\n",
       "    .dataframe tbody tr th {\n",
       "        vertical-align: top;\n",
       "    }\n",
       "\n",
       "    .dataframe thead th {\n",
       "        text-align: right;\n",
       "    }\n",
       "</style>\n",
       "<table border=\"1\" class=\"dataframe\">\n",
       "  <thead>\n",
       "    <tr style=\"text-align: right;\">\n",
       "      <th></th>\n",
       "      <th>Players_Name</th>\n",
       "    </tr>\n",
       "  </thead>\n",
       "  <tbody>\n",
       "    <tr>\n",
       "      <th>0</th>\n",
       "      <td>Sachin</td>\n",
       "    </tr>\n",
       "    <tr>\n",
       "      <th>7</th>\n",
       "      <td>Ganguly</td>\n",
       "    </tr>\n",
       "  </tbody>\n",
       "</table>\n",
       "</div>"
      ],
      "text/plain": [
       "  Players_Name\n",
       "0       Sachin\n",
       "7      Ganguly"
      ]
     },
     "execution_count": 113,
     "metadata": {},
     "output_type": "execute_result"
    }
   ],
   "source": [
    "Z=X[['Players_Name']][(X['Avearge']<50.0)&(X['Career_Analysis']=='Outstanding')]\n",
    "Z"
   ]
  },
  {
   "cell_type": "code",
   "execution_count": 114,
   "metadata": {},
   "outputs": [],
   "source": [
    "# More Exploration on columns :-"
   ]
  },
  {
   "cell_type": "code",
   "execution_count": 115,
   "metadata": {},
   "outputs": [
    {
     "data": {
      "text/html": [
       "<div>\n",
       "<style scoped>\n",
       "    .dataframe tbody tr th:only-of-type {\n",
       "        vertical-align: middle;\n",
       "    }\n",
       "\n",
       "    .dataframe tbody tr th {\n",
       "        vertical-align: top;\n",
       "    }\n",
       "\n",
       "    .dataframe thead th {\n",
       "        text-align: right;\n",
       "    }\n",
       "</style>\n",
       "<table border=\"1\" class=\"dataframe\">\n",
       "  <thead>\n",
       "    <tr style=\"text-align: right;\">\n",
       "      <th></th>\n",
       "      <th>Players_Name</th>\n",
       "      <th>Career_Analysis</th>\n",
       "    </tr>\n",
       "  </thead>\n",
       "  <tbody>\n",
       "    <tr>\n",
       "      <th>count</th>\n",
       "      <td>10</td>\n",
       "      <td>10</td>\n",
       "    </tr>\n",
       "    <tr>\n",
       "      <th>unique</th>\n",
       "      <td>10</td>\n",
       "      <td>4</td>\n",
       "    </tr>\n",
       "    <tr>\n",
       "      <th>top</th>\n",
       "      <td>Kohli</td>\n",
       "      <td>Semi-Hit</td>\n",
       "    </tr>\n",
       "    <tr>\n",
       "      <th>freq</th>\n",
       "      <td>1</td>\n",
       "      <td>3</td>\n",
       "    </tr>\n",
       "  </tbody>\n",
       "</table>\n",
       "</div>"
      ],
      "text/plain": [
       "       Players_Name Career_Analysis\n",
       "count            10              10\n",
       "unique           10               4\n",
       "top           Kohli        Semi-Hit\n",
       "freq              1               3"
      ]
     },
     "execution_count": 115,
     "metadata": {},
     "output_type": "execute_result"
    }
   ],
   "source": [
    "X.describe(include='object')"
   ]
  },
  {
   "cell_type": "code",
   "execution_count": 122,
   "metadata": {},
   "outputs": [
    {
     "data": {
      "text/html": [
       "<div>\n",
       "<style scoped>\n",
       "    .dataframe tbody tr th:only-of-type {\n",
       "        vertical-align: middle;\n",
       "    }\n",
       "\n",
       "    .dataframe tbody tr th {\n",
       "        vertical-align: top;\n",
       "    }\n",
       "\n",
       "    .dataframe thead th {\n",
       "        text-align: right;\n",
       "    }\n",
       "</style>\n",
       "<table border=\"1\" class=\"dataframe\">\n",
       "  <thead>\n",
       "    <tr style=\"text-align: right;\">\n",
       "      <th></th>\n",
       "      <th>Total_Matches</th>\n",
       "      <th>Total_Runs</th>\n",
       "      <th>Avearge</th>\n",
       "    </tr>\n",
       "  </thead>\n",
       "  <tbody>\n",
       "    <tr>\n",
       "      <th>count</th>\n",
       "      <td>10.000000</td>\n",
       "      <td>10.000000</td>\n",
       "      <td>10.000000</td>\n",
       "    </tr>\n",
       "    <tr>\n",
       "      <th>mean</th>\n",
       "      <td>273.900000</td>\n",
       "      <td>12136.500000</td>\n",
       "      <td>49.125460</td>\n",
       "    </tr>\n",
       "    <tr>\n",
       "      <th>std</th>\n",
       "      <td>104.290673</td>\n",
       "      <td>3894.506309</td>\n",
       "      <td>21.304413</td>\n",
       "    </tr>\n",
       "    <tr>\n",
       "      <th>min</th>\n",
       "      <td>130.000000</td>\n",
       "      <td>6540.000000</td>\n",
       "      <td>21.915000</td>\n",
       "    </tr>\n",
       "    <tr>\n",
       "      <th>25%</th>\n",
       "      <td>192.500000</td>\n",
       "      <td>9050.000000</td>\n",
       "      <td>41.116914</td>\n",
       "    </tr>\n",
       "    <tr>\n",
       "      <th>50%</th>\n",
       "      <td>262.500000</td>\n",
       "      <td>12154.500000</td>\n",
       "      <td>46.244444</td>\n",
       "    </tr>\n",
       "    <tr>\n",
       "      <th>75%</th>\n",
       "      <td>355.000000</td>\n",
       "      <td>13437.500000</td>\n",
       "      <td>54.335234</td>\n",
       "    </tr>\n",
       "    <tr>\n",
       "      <th>max</th>\n",
       "      <td>424.000000</td>\n",
       "      <td>18400.000000</td>\n",
       "      <td>100.069231</td>\n",
       "    </tr>\n",
       "  </tbody>\n",
       "</table>\n",
       "</div>"
      ],
      "text/plain": [
       "       Total_Matches    Total_Runs     Avearge\n",
       "count      10.000000     10.000000   10.000000\n",
       "mean      273.900000  12136.500000   49.125460\n",
       "std       104.290673   3894.506309   21.304413\n",
       "min       130.000000   6540.000000   21.915000\n",
       "25%       192.500000   9050.000000   41.116914\n",
       "50%       262.500000  12154.500000   46.244444\n",
       "75%       355.000000  13437.500000   54.335234\n",
       "max       424.000000  18400.000000  100.069231"
      ]
     },
     "execution_count": 122,
     "metadata": {},
     "output_type": "execute_result"
    }
   ],
   "source": [
    "X.describe(include=['int64','Float64'])"
   ]
  },
  {
   "cell_type": "code",
   "execution_count": 123,
   "metadata": {},
   "outputs": [],
   "source": [
    "#Let's explore more using groupby :-"
   ]
  },
  {
   "cell_type": "code",
   "execution_count": 124,
   "metadata": {},
   "outputs": [],
   "source": [
    "# Find out the mean on the basis of Career_Analysis :-"
   ]
  },
  {
   "cell_type": "code",
   "execution_count": 134,
   "metadata": {},
   "outputs": [
    {
     "data": {
      "text/html": [
       "<div>\n",
       "<style scoped>\n",
       "    .dataframe tbody tr th:only-of-type {\n",
       "        vertical-align: middle;\n",
       "    }\n",
       "\n",
       "    .dataframe tbody tr th {\n",
       "        vertical-align: top;\n",
       "    }\n",
       "\n",
       "    .dataframe thead th {\n",
       "        text-align: right;\n",
       "    }\n",
       "</style>\n",
       "<table border=\"1\" class=\"dataframe\">\n",
       "  <thead>\n",
       "    <tr style=\"text-align: right;\">\n",
       "      <th></th>\n",
       "      <th>Players_Name</th>\n",
       "      <th>Total_Runs</th>\n",
       "      <th>Avearge</th>\n",
       "    </tr>\n",
       "    <tr>\n",
       "      <th>Career_Analysis</th>\n",
       "      <th></th>\n",
       "      <th></th>\n",
       "      <th></th>\n",
       "    </tr>\n",
       "  </thead>\n",
       "  <tbody>\n",
       "    <tr>\n",
       "      <th>Flop</th>\n",
       "      <td>3</td>\n",
       "      <td>28349</td>\n",
       "      <td>192.558120</td>\n",
       "    </tr>\n",
       "    <tr>\n",
       "      <th>Hit</th>\n",
       "      <td>2</td>\n",
       "      <td>27700</td>\n",
       "      <td>79.869281</td>\n",
       "    </tr>\n",
       "    <tr>\n",
       "      <th>Outstanding</th>\n",
       "      <td>2</td>\n",
       "      <td>27166</td>\n",
       "      <td>65.311226</td>\n",
       "    </tr>\n",
       "    <tr>\n",
       "      <th>Semi-Hit</th>\n",
       "      <td>3</td>\n",
       "      <td>38150</td>\n",
       "      <td>153.515972</td>\n",
       "    </tr>\n",
       "  </tbody>\n",
       "</table>\n",
       "</div>"
      ],
      "text/plain": [
       "                 Players_Name  Total_Runs     Avearge\n",
       "Career_Analysis                                      \n",
       "Flop                        3       28349  192.558120\n",
       "Hit                         2       27700   79.869281\n",
       "Outstanding                 2       27166   65.311226\n",
       "Semi-Hit                    3       38150  153.515972"
      ]
     },
     "execution_count": 134,
     "metadata": {},
     "output_type": "execute_result"
    }
   ],
   "source": [
    "X.groupby(['Career_Analysis']).agg({'Players_Name':'count','Total_Runs':'sum','Avearge':'sum'})"
   ]
  },
  {
   "cell_type": "markdown",
   "metadata": {},
   "source": [
    "##### Numpy Arrays :-"
   ]
  },
  {
   "cell_type": "code",
   "execution_count": 1,
   "metadata": {},
   "outputs": [],
   "source": [
    "import numpy as np"
   ]
  },
  {
   "cell_type": "code",
   "execution_count": 6,
   "metadata": {},
   "outputs": [
    {
     "data": {
      "text/plain": [
       "array([{'College_Data': {'Name': 'Vidit'}}], dtype=object)"
      ]
     },
     "execution_count": 6,
     "metadata": {},
     "output_type": "execute_result"
    }
   ],
   "source": [
    "X=np.array([{'College_Data':{'Name':'Vidit'}}])\n",
    "X"
   ]
  },
  {
   "cell_type": "code",
   "execution_count": 7,
   "metadata": {},
   "outputs": [
    {
     "data": {
      "text/plain": [
       "{'Name': 'Vidit'}"
      ]
     },
     "execution_count": 7,
     "metadata": {},
     "output_type": "execute_result"
    }
   ],
   "source": [
    "X[0]['College_Data']"
   ]
  },
  {
   "cell_type": "code",
   "execution_count": 11,
   "metadata": {},
   "outputs": [
    {
     "data": {
      "text/plain": [
       "array([list(['Vidit', 22, 'Ranchi']), ('Ankit', 24, 'Bokaro1'),\n",
       "       {25, 'Farzan', 'Bokaro2'}], dtype=object)"
      ]
     },
     "execution_count": 11,
     "metadata": {},
     "output_type": "execute_result"
    }
   ],
   "source": [
    "X=np.array([['Vidit',22,'Ranchi'],('Ankit',24,'Bokaro1'),{'Farzan',25,'Bokaro2'}])\n",
    "X"
   ]
  },
  {
   "cell_type": "code",
   "execution_count": 17,
   "metadata": {},
   "outputs": [
    {
     "data": {
      "text/plain": [
       "array([['Vidit', '22', 'Ranchi'],\n",
       "       ['Ankit', '23', 'Bokaro']], dtype='<U6')"
      ]
     },
     "execution_count": 17,
     "metadata": {},
     "output_type": "execute_result"
    }
   ],
   "source": [
    "X=np.array([['Vidit',22,'Ranchi'],['Ankit',23,'Bokaro']])\n",
    "X"
   ]
  },
  {
   "cell_type": "code",
   "execution_count": 18,
   "metadata": {},
   "outputs": [
    {
     "data": {
      "text/plain": [
       "array([['Vidit'],\n",
       "       ['Ankit']], dtype='<U6')"
      ]
     },
     "execution_count": 18,
     "metadata": {},
     "output_type": "execute_result"
    }
   ],
   "source": [
    "X[:,0:1]"
   ]
  },
  {
   "cell_type": "code",
   "execution_count": 20,
   "metadata": {},
   "outputs": [
    {
     "data": {
      "text/plain": [
       "array(['Vidit', 'Ankit'], dtype='<U6')"
      ]
     },
     "execution_count": 20,
     "metadata": {},
     "output_type": "execute_result"
    }
   ],
   "source": [
    "X[[0,1],[0]]"
   ]
  },
  {
   "cell_type": "code",
   "execution_count": 32,
   "metadata": {},
   "outputs": [
    {
     "data": {
      "text/plain": [
       "1"
      ]
     },
     "execution_count": 32,
     "metadata": {},
     "output_type": "execute_result"
    }
   ],
   "source": [
    "X=[1.1,2,'3',True,{'Name':'Vidit'},{'111',2.2},(2.2,[1,True])]\n",
    "X[6][1][0]"
   ]
  },
  {
   "cell_type": "code",
   "execution_count": 22,
   "metadata": {},
   "outputs": [
    {
     "data": {
      "text/plain": [
       "(1, 2, 3)"
      ]
     },
     "execution_count": 22,
     "metadata": {},
     "output_type": "execute_result"
    }
   ],
   "source": [
    "X=(1,2,3)\n",
    "X"
   ]
  },
  {
   "cell_type": "code",
   "execution_count": 23,
   "metadata": {},
   "outputs": [
    {
     "data": {
      "text/plain": [
       "(1, 2, 3, [1, ['True']])"
      ]
     },
     "execution_count": 23,
     "metadata": {},
     "output_type": "execute_result"
    }
   ],
   "source": [
    "Y=X+([1,['True']],)\n",
    "Y"
   ]
  },
  {
   "cell_type": "markdown",
   "metadata": {},
   "source": [
    "##### DataFrames"
   ]
  },
  {
   "cell_type": "markdown",
   "metadata": {},
   "source": [
    "##### Task-I"
   ]
  },
  {
   "cell_type": "code",
   "execution_count": 1,
   "metadata": {},
   "outputs": [],
   "source": [
    "import pandas as pd\n",
    "import numpy as np"
   ]
  },
  {
   "cell_type": "code",
   "execution_count": 9,
   "metadata": {},
   "outputs": [],
   "source": [
    "# Export to a csv file."
   ]
  },
  {
   "cell_type": "code",
   "execution_count": 8,
   "metadata": {},
   "outputs": [],
   "source": [
    "X.to_csv('Match.csv',index=False)"
   ]
  },
  {
   "cell_type": "code",
   "execution_count": 10,
   "metadata": {},
   "outputs": [],
   "source": [
    "#Import from a csv file."
   ]
  },
  {
   "cell_type": "code",
   "execution_count": 98,
   "metadata": {},
   "outputs": [
    {
     "data": {
      "text/html": [
       "<div>\n",
       "<style scoped>\n",
       "    .dataframe tbody tr th:only-of-type {\n",
       "        vertical-align: middle;\n",
       "    }\n",
       "\n",
       "    .dataframe tbody tr th {\n",
       "        vertical-align: top;\n",
       "    }\n",
       "\n",
       "    .dataframe thead th {\n",
       "        text-align: right;\n",
       "    }\n",
       "</style>\n",
       "<table border=\"1\" class=\"dataframe\">\n",
       "  <thead>\n",
       "    <tr style=\"text-align: right;\">\n",
       "      <th></th>\n",
       "      <th>Total_Matches</th>\n",
       "      <th>Players_Name</th>\n",
       "      <th>Career_Analysis</th>\n",
       "      <th>Total_Runs</th>\n",
       "    </tr>\n",
       "  </thead>\n",
       "  <tbody>\n",
       "    <tr>\n",
       "      <th>0</th>\n",
       "      <td>424</td>\n",
       "      <td>['S-a-c-h-i-n']</td>\n",
       "      <td>['Outstanding']</td>\n",
       "      <td>18400</td>\n",
       "    </tr>\n",
       "    <tr>\n",
       "      <th>1</th>\n",
       "      <td>360</td>\n",
       "      <td>['Y-u-v-r-a-j']</td>\n",
       "      <td>['Hit']</td>\n",
       "      <td>9800</td>\n",
       "    </tr>\n",
       "    <tr>\n",
       "      <th>2</th>\n",
       "      <td>280</td>\n",
       "      <td>['D-h-o-n-i']</td>\n",
       "      <td>['Semi-Hit']</td>\n",
       "      <td>11300</td>\n",
       "    </tr>\n",
       "    <tr>\n",
       "      <th>3</th>\n",
       "      <td>180</td>\n",
       "      <td>['R-a-i-n-a']</td>\n",
       "      <td>['Flop']</td>\n",
       "      <td>8800</td>\n",
       "    </tr>\n",
       "    <tr>\n",
       "      <th>4</th>\n",
       "      <td>230</td>\n",
       "      <td>['G-a-u-t-a-m']</td>\n",
       "      <td>['Semi-Hit']</td>\n",
       "      <td>13400</td>\n",
       "    </tr>\n",
       "    <tr>\n",
       "      <th>5</th>\n",
       "      <td>150</td>\n",
       "      <td>['S-e-h-w-a-g']</td>\n",
       "      <td>['Flop']</td>\n",
       "      <td>6540</td>\n",
       "    </tr>\n",
       "    <tr>\n",
       "      <th>6</th>\n",
       "      <td>340</td>\n",
       "      <td>['D-r-a-v-i-d']</td>\n",
       "      <td>['Hit']</td>\n",
       "      <td>17900</td>\n",
       "    </tr>\n",
       "    <tr>\n",
       "      <th>7</th>\n",
       "      <td>400</td>\n",
       "      <td>['G-a-n-g-u-l-y']</td>\n",
       "      <td>['Outstanding']</td>\n",
       "      <td>8766</td>\n",
       "    </tr>\n",
       "    <tr>\n",
       "      <th>8</th>\n",
       "      <td>245</td>\n",
       "      <td>['K-o-h-l-i']</td>\n",
       "      <td>['Semi-Hit']</td>\n",
       "      <td>13450</td>\n",
       "    </tr>\n",
       "    <tr>\n",
       "      <th>9</th>\n",
       "      <td>130</td>\n",
       "      <td>['R-o-h-i-t']</td>\n",
       "      <td>['Flop']</td>\n",
       "      <td>13009</td>\n",
       "    </tr>\n",
       "  </tbody>\n",
       "</table>\n",
       "</div>"
      ],
      "text/plain": [
       "   Total_Matches       Players_Name  Career_Analysis  Total_Runs\n",
       "0            424    ['S-a-c-h-i-n']  ['Outstanding']       18400\n",
       "1            360    ['Y-u-v-r-a-j']          ['Hit']        9800\n",
       "2            280      ['D-h-o-n-i']     ['Semi-Hit']       11300\n",
       "3            180      ['R-a-i-n-a']         ['Flop']        8800\n",
       "4            230    ['G-a-u-t-a-m']     ['Semi-Hit']       13400\n",
       "5            150    ['S-e-h-w-a-g']         ['Flop']        6540\n",
       "6            340    ['D-r-a-v-i-d']          ['Hit']       17900\n",
       "7            400  ['G-a-n-g-u-l-y']  ['Outstanding']        8766\n",
       "8            245      ['K-o-h-l-i']     ['Semi-Hit']       13450\n",
       "9            130      ['R-o-h-i-t']         ['Flop']       13009"
      ]
     },
     "execution_count": 98,
     "metadata": {},
     "output_type": "execute_result"
    }
   ],
   "source": [
    "df1=pd.read_csv('C:\\\\Users\\\\arpit\\\\Match.csv')\n",
    "df1"
   ]
  },
  {
   "cell_type": "code",
   "execution_count": 12,
   "metadata": {},
   "outputs": [],
   "source": [
    "# Create a dataframe so that we could just separate the data into different columns."
   ]
  },
  {
   "cell_type": "code",
   "execution_count": 99,
   "metadata": {},
   "outputs": [
    {
     "data": {
      "text/html": [
       "<div>\n",
       "<style scoped>\n",
       "    .dataframe tbody tr th:only-of-type {\n",
       "        vertical-align: middle;\n",
       "    }\n",
       "\n",
       "    .dataframe tbody tr th {\n",
       "        vertical-align: top;\n",
       "    }\n",
       "\n",
       "    .dataframe thead th {\n",
       "        text-align: right;\n",
       "    }\n",
       "</style>\n",
       "<table border=\"1\" class=\"dataframe\">\n",
       "  <thead>\n",
       "    <tr style=\"text-align: right;\">\n",
       "      <th></th>\n",
       "      <th>Players_Runs</th>\n",
       "      <th>Total_Matches</th>\n",
       "      <th>Career_Analysis</th>\n",
       "    </tr>\n",
       "  </thead>\n",
       "  <tbody>\n",
       "    <tr>\n",
       "      <th>0</th>\n",
       "      <td>[Sachin-18400]</td>\n",
       "      <td>424</td>\n",
       "      <td>[Outstanding]</td>\n",
       "    </tr>\n",
       "    <tr>\n",
       "      <th>1</th>\n",
       "      <td>[Yuvraj-9800]</td>\n",
       "      <td>360</td>\n",
       "      <td>[Hit]</td>\n",
       "    </tr>\n",
       "    <tr>\n",
       "      <th>2</th>\n",
       "      <td>[Dhoni-11300]</td>\n",
       "      <td>280</td>\n",
       "      <td>[Semi-Hit]</td>\n",
       "    </tr>\n",
       "    <tr>\n",
       "      <th>3</th>\n",
       "      <td>[Raina-8800]</td>\n",
       "      <td>180</td>\n",
       "      <td>[Flop]</td>\n",
       "    </tr>\n",
       "    <tr>\n",
       "      <th>4</th>\n",
       "      <td>[Gautam-13400]</td>\n",
       "      <td>230</td>\n",
       "      <td>[Semi-Hit]</td>\n",
       "    </tr>\n",
       "    <tr>\n",
       "      <th>5</th>\n",
       "      <td>[Sehwag-6540]</td>\n",
       "      <td>150</td>\n",
       "      <td>[Flop]</td>\n",
       "    </tr>\n",
       "    <tr>\n",
       "      <th>6</th>\n",
       "      <td>[Dravid-17900]</td>\n",
       "      <td>340</td>\n",
       "      <td>[Hit]</td>\n",
       "    </tr>\n",
       "    <tr>\n",
       "      <th>7</th>\n",
       "      <td>[Ganguly-8766]</td>\n",
       "      <td>400</td>\n",
       "      <td>[Outstanding]</td>\n",
       "    </tr>\n",
       "    <tr>\n",
       "      <th>8</th>\n",
       "      <td>[Kohli-13450]</td>\n",
       "      <td>245</td>\n",
       "      <td>[Semi-Hit]</td>\n",
       "    </tr>\n",
       "    <tr>\n",
       "      <th>9</th>\n",
       "      <td>[Rohit-13009]</td>\n",
       "      <td>130</td>\n",
       "      <td>[Flop]</td>\n",
       "    </tr>\n",
       "  </tbody>\n",
       "</table>\n",
       "</div>"
      ],
      "text/plain": [
       "     Players_Runs  Total_Matches Career_Analysis\n",
       "0  [Sachin-18400]            424   [Outstanding]\n",
       "1   [Yuvraj-9800]            360           [Hit]\n",
       "2   [Dhoni-11300]            280      [Semi-Hit]\n",
       "3    [Raina-8800]            180          [Flop]\n",
       "4  [Gautam-13400]            230      [Semi-Hit]\n",
       "5   [Sehwag-6540]            150          [Flop]\n",
       "6  [Dravid-17900]            340           [Hit]\n",
       "7  [Ganguly-8766]            400   [Outstanding]\n",
       "8   [Kohli-13450]            245      [Semi-Hit]\n",
       "9   [Rohit-13009]            130          [Flop]"
      ]
     },
     "execution_count": 99,
     "metadata": {},
     "output_type": "execute_result"
    }
   ],
   "source": [
    "df1=pd.DataFrame({'Players_Runs':[['Sachin-18400'],['Yuvraj-9800'],['Dhoni-11300'],['Raina-8800'],['Gautam-13400'],['Sehwag-6540'],['Dravid-17900'],['Ganguly-8766'],['Kohli-13450'],['Rohit-13009']],'Total_Matches':[424,360,280,180,230,150,340,400,245,130],'Career_Analysis':[['Outstanding'],['Hit'],['Semi-Hit'],['Flop'],['Semi-Hit'],['Flop'],['Hit'],['Outstanding'],['Semi-Hit'],['Flop']]})\n",
    "df1"
   ]
  },
  {
   "cell_type": "code",
   "execution_count": 18,
   "metadata": {},
   "outputs": [],
   "source": [
    "#How we could just do it using Data Cleaning  :-"
   ]
  },
  {
   "cell_type": "code",
   "execution_count": 100,
   "metadata": {},
   "outputs": [
    {
     "data": {
      "text/html": [
       "<div>\n",
       "<style scoped>\n",
       "    .dataframe tbody tr th:only-of-type {\n",
       "        vertical-align: middle;\n",
       "    }\n",
       "\n",
       "    .dataframe tbody tr th {\n",
       "        vertical-align: top;\n",
       "    }\n",
       "\n",
       "    .dataframe thead th {\n",
       "        text-align: right;\n",
       "    }\n",
       "</style>\n",
       "<table border=\"1\" class=\"dataframe\">\n",
       "  <thead>\n",
       "    <tr style=\"text-align: right;\">\n",
       "      <th></th>\n",
       "      <th>Players_Runs</th>\n",
       "      <th>Total_Matches</th>\n",
       "      <th>Career_Analysis</th>\n",
       "    </tr>\n",
       "  </thead>\n",
       "  <tbody>\n",
       "    <tr>\n",
       "      <th>0</th>\n",
       "      <td>Sachin-18400</td>\n",
       "      <td>424</td>\n",
       "      <td>[Outstanding]</td>\n",
       "    </tr>\n",
       "    <tr>\n",
       "      <th>1</th>\n",
       "      <td>Yuvraj-9800</td>\n",
       "      <td>360</td>\n",
       "      <td>[Hit]</td>\n",
       "    </tr>\n",
       "    <tr>\n",
       "      <th>2</th>\n",
       "      <td>Dhoni-11300</td>\n",
       "      <td>280</td>\n",
       "      <td>[Semi-Hit]</td>\n",
       "    </tr>\n",
       "    <tr>\n",
       "      <th>3</th>\n",
       "      <td>Raina-8800</td>\n",
       "      <td>180</td>\n",
       "      <td>[Flop]</td>\n",
       "    </tr>\n",
       "    <tr>\n",
       "      <th>4</th>\n",
       "      <td>Gautam-13400</td>\n",
       "      <td>230</td>\n",
       "      <td>[Semi-Hit]</td>\n",
       "    </tr>\n",
       "    <tr>\n",
       "      <th>5</th>\n",
       "      <td>Sehwag-6540</td>\n",
       "      <td>150</td>\n",
       "      <td>[Flop]</td>\n",
       "    </tr>\n",
       "    <tr>\n",
       "      <th>6</th>\n",
       "      <td>Dravid-17900</td>\n",
       "      <td>340</td>\n",
       "      <td>[Hit]</td>\n",
       "    </tr>\n",
       "    <tr>\n",
       "      <th>7</th>\n",
       "      <td>Ganguly-8766</td>\n",
       "      <td>400</td>\n",
       "      <td>[Outstanding]</td>\n",
       "    </tr>\n",
       "    <tr>\n",
       "      <th>8</th>\n",
       "      <td>Kohli-13450</td>\n",
       "      <td>245</td>\n",
       "      <td>[Semi-Hit]</td>\n",
       "    </tr>\n",
       "    <tr>\n",
       "      <th>9</th>\n",
       "      <td>Rohit-13009</td>\n",
       "      <td>130</td>\n",
       "      <td>[Flop]</td>\n",
       "    </tr>\n",
       "  </tbody>\n",
       "</table>\n",
       "</div>"
      ],
      "text/plain": [
       "   Players_Runs  Total_Matches Career_Analysis\n",
       "0  Sachin-18400            424   [Outstanding]\n",
       "1   Yuvraj-9800            360           [Hit]\n",
       "2   Dhoni-11300            280      [Semi-Hit]\n",
       "3    Raina-8800            180          [Flop]\n",
       "4  Gautam-13400            230      [Semi-Hit]\n",
       "5   Sehwag-6540            150          [Flop]\n",
       "6  Dravid-17900            340           [Hit]\n",
       "7  Ganguly-8766            400   [Outstanding]\n",
       "8   Kohli-13450            245      [Semi-Hit]\n",
       "9   Rohit-13009            130          [Flop]"
      ]
     },
     "execution_count": 100,
     "metadata": {},
     "output_type": "execute_result"
    }
   ],
   "source": [
    "def A(Y):\n",
    "    data1=Y.values.tolist()\n",
    "    data2=pd.DataFrame(data1)\n",
    "    return data2\n",
    "df1['Players_Runs']=A(df1['Players_Runs'])\n",
    "df1"
   ]
  },
  {
   "cell_type": "code",
   "execution_count": 29,
   "metadata": {},
   "outputs": [],
   "source": [
    "# Now change the whole Players_Runs column into str."
   ]
  },
  {
   "cell_type": "code",
   "execution_count": 101,
   "metadata": {},
   "outputs": [
    {
     "data": {
      "text/html": [
       "<div>\n",
       "<style scoped>\n",
       "    .dataframe tbody tr th:only-of-type {\n",
       "        vertical-align: middle;\n",
       "    }\n",
       "\n",
       "    .dataframe tbody tr th {\n",
       "        vertical-align: top;\n",
       "    }\n",
       "\n",
       "    .dataframe thead th {\n",
       "        text-align: right;\n",
       "    }\n",
       "</style>\n",
       "<table border=\"1\" class=\"dataframe\">\n",
       "  <thead>\n",
       "    <tr style=\"text-align: right;\">\n",
       "      <th></th>\n",
       "      <th>Players_Runs</th>\n",
       "      <th>Total_Matches</th>\n",
       "      <th>Career_Analysis</th>\n",
       "    </tr>\n",
       "  </thead>\n",
       "  <tbody>\n",
       "    <tr>\n",
       "      <th>0</th>\n",
       "      <td>[Sachin, 18400]</td>\n",
       "      <td>424</td>\n",
       "      <td>[Outstanding]</td>\n",
       "    </tr>\n",
       "    <tr>\n",
       "      <th>1</th>\n",
       "      <td>[Yuvraj, 9800]</td>\n",
       "      <td>360</td>\n",
       "      <td>[Hit]</td>\n",
       "    </tr>\n",
       "    <tr>\n",
       "      <th>2</th>\n",
       "      <td>[Dhoni, 11300]</td>\n",
       "      <td>280</td>\n",
       "      <td>[Semi-Hit]</td>\n",
       "    </tr>\n",
       "    <tr>\n",
       "      <th>3</th>\n",
       "      <td>[Raina, 8800]</td>\n",
       "      <td>180</td>\n",
       "      <td>[Flop]</td>\n",
       "    </tr>\n",
       "    <tr>\n",
       "      <th>4</th>\n",
       "      <td>[Gautam, 13400]</td>\n",
       "      <td>230</td>\n",
       "      <td>[Semi-Hit]</td>\n",
       "    </tr>\n",
       "    <tr>\n",
       "      <th>5</th>\n",
       "      <td>[Sehwag, 6540]</td>\n",
       "      <td>150</td>\n",
       "      <td>[Flop]</td>\n",
       "    </tr>\n",
       "    <tr>\n",
       "      <th>6</th>\n",
       "      <td>[Dravid, 17900]</td>\n",
       "      <td>340</td>\n",
       "      <td>[Hit]</td>\n",
       "    </tr>\n",
       "    <tr>\n",
       "      <th>7</th>\n",
       "      <td>[Ganguly, 8766]</td>\n",
       "      <td>400</td>\n",
       "      <td>[Outstanding]</td>\n",
       "    </tr>\n",
       "    <tr>\n",
       "      <th>8</th>\n",
       "      <td>[Kohli, 13450]</td>\n",
       "      <td>245</td>\n",
       "      <td>[Semi-Hit]</td>\n",
       "    </tr>\n",
       "    <tr>\n",
       "      <th>9</th>\n",
       "      <td>[Rohit, 13009]</td>\n",
       "      <td>130</td>\n",
       "      <td>[Flop]</td>\n",
       "    </tr>\n",
       "  </tbody>\n",
       "</table>\n",
       "</div>"
      ],
      "text/plain": [
       "      Players_Runs  Total_Matches Career_Analysis\n",
       "0  [Sachin, 18400]            424   [Outstanding]\n",
       "1   [Yuvraj, 9800]            360           [Hit]\n",
       "2   [Dhoni, 11300]            280      [Semi-Hit]\n",
       "3    [Raina, 8800]            180          [Flop]\n",
       "4  [Gautam, 13400]            230      [Semi-Hit]\n",
       "5   [Sehwag, 6540]            150          [Flop]\n",
       "6  [Dravid, 17900]            340           [Hit]\n",
       "7  [Ganguly, 8766]            400   [Outstanding]\n",
       "8   [Kohli, 13450]            245      [Semi-Hit]\n",
       "9   [Rohit, 13009]            130          [Flop]"
      ]
     },
     "execution_count": 101,
     "metadata": {},
     "output_type": "execute_result"
    }
   ],
   "source": [
    "def A(data):\n",
    "    data1=str(data)\n",
    "    data2=data1.split('-')\n",
    "    return data2\n",
    "df1['Players_Runs']=df1['Players_Runs'].apply(A)\n",
    "df1"
   ]
  },
  {
   "cell_type": "code",
   "execution_count": 102,
   "metadata": {},
   "outputs": [
    {
     "data": {
      "text/html": [
       "<div>\n",
       "<style scoped>\n",
       "    .dataframe tbody tr th:only-of-type {\n",
       "        vertical-align: middle;\n",
       "    }\n",
       "\n",
       "    .dataframe tbody tr th {\n",
       "        vertical-align: top;\n",
       "    }\n",
       "\n",
       "    .dataframe thead th {\n",
       "        text-align: right;\n",
       "    }\n",
       "</style>\n",
       "<table border=\"1\" class=\"dataframe\">\n",
       "  <thead>\n",
       "    <tr style=\"text-align: right;\">\n",
       "      <th></th>\n",
       "      <th>Players_Runs</th>\n",
       "      <th>Total_Matches</th>\n",
       "      <th>Career_Analysis</th>\n",
       "      <th>Players_Name</th>\n",
       "      <th>Runs</th>\n",
       "    </tr>\n",
       "  </thead>\n",
       "  <tbody>\n",
       "    <tr>\n",
       "      <th>0</th>\n",
       "      <td>[Sachin, 18400]</td>\n",
       "      <td>424</td>\n",
       "      <td>[Outstanding]</td>\n",
       "      <td>Sachin</td>\n",
       "      <td>18400</td>\n",
       "    </tr>\n",
       "    <tr>\n",
       "      <th>1</th>\n",
       "      <td>[Yuvraj, 9800]</td>\n",
       "      <td>360</td>\n",
       "      <td>[Hit]</td>\n",
       "      <td>Yuvraj</td>\n",
       "      <td>9800</td>\n",
       "    </tr>\n",
       "    <tr>\n",
       "      <th>2</th>\n",
       "      <td>[Dhoni, 11300]</td>\n",
       "      <td>280</td>\n",
       "      <td>[Semi-Hit]</td>\n",
       "      <td>Dhoni</td>\n",
       "      <td>11300</td>\n",
       "    </tr>\n",
       "    <tr>\n",
       "      <th>3</th>\n",
       "      <td>[Raina, 8800]</td>\n",
       "      <td>180</td>\n",
       "      <td>[Flop]</td>\n",
       "      <td>Raina</td>\n",
       "      <td>8800</td>\n",
       "    </tr>\n",
       "    <tr>\n",
       "      <th>4</th>\n",
       "      <td>[Gautam, 13400]</td>\n",
       "      <td>230</td>\n",
       "      <td>[Semi-Hit]</td>\n",
       "      <td>Gautam</td>\n",
       "      <td>13400</td>\n",
       "    </tr>\n",
       "    <tr>\n",
       "      <th>5</th>\n",
       "      <td>[Sehwag, 6540]</td>\n",
       "      <td>150</td>\n",
       "      <td>[Flop]</td>\n",
       "      <td>Sehwag</td>\n",
       "      <td>6540</td>\n",
       "    </tr>\n",
       "    <tr>\n",
       "      <th>6</th>\n",
       "      <td>[Dravid, 17900]</td>\n",
       "      <td>340</td>\n",
       "      <td>[Hit]</td>\n",
       "      <td>Dravid</td>\n",
       "      <td>17900</td>\n",
       "    </tr>\n",
       "    <tr>\n",
       "      <th>7</th>\n",
       "      <td>[Ganguly, 8766]</td>\n",
       "      <td>400</td>\n",
       "      <td>[Outstanding]</td>\n",
       "      <td>Ganguly</td>\n",
       "      <td>8766</td>\n",
       "    </tr>\n",
       "    <tr>\n",
       "      <th>8</th>\n",
       "      <td>[Kohli, 13450]</td>\n",
       "      <td>245</td>\n",
       "      <td>[Semi-Hit]</td>\n",
       "      <td>Kohli</td>\n",
       "      <td>13450</td>\n",
       "    </tr>\n",
       "    <tr>\n",
       "      <th>9</th>\n",
       "      <td>[Rohit, 13009]</td>\n",
       "      <td>130</td>\n",
       "      <td>[Flop]</td>\n",
       "      <td>Rohit</td>\n",
       "      <td>13009</td>\n",
       "    </tr>\n",
       "  </tbody>\n",
       "</table>\n",
       "</div>"
      ],
      "text/plain": [
       "      Players_Runs  Total_Matches Career_Analysis Players_Name   Runs\n",
       "0  [Sachin, 18400]            424   [Outstanding]       Sachin  18400\n",
       "1   [Yuvraj, 9800]            360           [Hit]       Yuvraj   9800\n",
       "2   [Dhoni, 11300]            280      [Semi-Hit]        Dhoni  11300\n",
       "3    [Raina, 8800]            180          [Flop]        Raina   8800\n",
       "4  [Gautam, 13400]            230      [Semi-Hit]       Gautam  13400\n",
       "5   [Sehwag, 6540]            150          [Flop]       Sehwag   6540\n",
       "6  [Dravid, 17900]            340           [Hit]       Dravid  17900\n",
       "7  [Ganguly, 8766]            400   [Outstanding]      Ganguly   8766\n",
       "8   [Kohli, 13450]            245      [Semi-Hit]        Kohli  13450\n",
       "9   [Rohit, 13009]            130          [Flop]        Rohit  13009"
      ]
     },
     "execution_count": 102,
     "metadata": {},
     "output_type": "execute_result"
    }
   ],
   "source": [
    "def A(data):\n",
    "    data1=data.values.tolist()\n",
    "    data2=pd.DataFrame(data1)\n",
    "    return data2\n",
    "df1[['Players_Name','Runs']]=A(df1['Players_Runs'])\n",
    "df1"
   ]
  },
  {
   "cell_type": "code",
   "execution_count": 50,
   "metadata": {},
   "outputs": [],
   "source": [
    "#Now just drop the Players_Runs column :-"
   ]
  },
  {
   "cell_type": "code",
   "execution_count": 103,
   "metadata": {},
   "outputs": [
    {
     "data": {
      "text/html": [
       "<div>\n",
       "<style scoped>\n",
       "    .dataframe tbody tr th:only-of-type {\n",
       "        vertical-align: middle;\n",
       "    }\n",
       "\n",
       "    .dataframe tbody tr th {\n",
       "        vertical-align: top;\n",
       "    }\n",
       "\n",
       "    .dataframe thead th {\n",
       "        text-align: right;\n",
       "    }\n",
       "</style>\n",
       "<table border=\"1\" class=\"dataframe\">\n",
       "  <thead>\n",
       "    <tr style=\"text-align: right;\">\n",
       "      <th></th>\n",
       "      <th>Total_Matches</th>\n",
       "      <th>Career_Analysis</th>\n",
       "      <th>Players_Name</th>\n",
       "      <th>Runs</th>\n",
       "    </tr>\n",
       "  </thead>\n",
       "  <tbody>\n",
       "    <tr>\n",
       "      <th>0</th>\n",
       "      <td>424</td>\n",
       "      <td>[Outstanding]</td>\n",
       "      <td>Sachin</td>\n",
       "      <td>18400</td>\n",
       "    </tr>\n",
       "    <tr>\n",
       "      <th>1</th>\n",
       "      <td>360</td>\n",
       "      <td>[Hit]</td>\n",
       "      <td>Yuvraj</td>\n",
       "      <td>9800</td>\n",
       "    </tr>\n",
       "    <tr>\n",
       "      <th>2</th>\n",
       "      <td>280</td>\n",
       "      <td>[Semi-Hit]</td>\n",
       "      <td>Dhoni</td>\n",
       "      <td>11300</td>\n",
       "    </tr>\n",
       "    <tr>\n",
       "      <th>3</th>\n",
       "      <td>180</td>\n",
       "      <td>[Flop]</td>\n",
       "      <td>Raina</td>\n",
       "      <td>8800</td>\n",
       "    </tr>\n",
       "    <tr>\n",
       "      <th>4</th>\n",
       "      <td>230</td>\n",
       "      <td>[Semi-Hit]</td>\n",
       "      <td>Gautam</td>\n",
       "      <td>13400</td>\n",
       "    </tr>\n",
       "    <tr>\n",
       "      <th>5</th>\n",
       "      <td>150</td>\n",
       "      <td>[Flop]</td>\n",
       "      <td>Sehwag</td>\n",
       "      <td>6540</td>\n",
       "    </tr>\n",
       "    <tr>\n",
       "      <th>6</th>\n",
       "      <td>340</td>\n",
       "      <td>[Hit]</td>\n",
       "      <td>Dravid</td>\n",
       "      <td>17900</td>\n",
       "    </tr>\n",
       "    <tr>\n",
       "      <th>7</th>\n",
       "      <td>400</td>\n",
       "      <td>[Outstanding]</td>\n",
       "      <td>Ganguly</td>\n",
       "      <td>8766</td>\n",
       "    </tr>\n",
       "    <tr>\n",
       "      <th>8</th>\n",
       "      <td>245</td>\n",
       "      <td>[Semi-Hit]</td>\n",
       "      <td>Kohli</td>\n",
       "      <td>13450</td>\n",
       "    </tr>\n",
       "    <tr>\n",
       "      <th>9</th>\n",
       "      <td>130</td>\n",
       "      <td>[Flop]</td>\n",
       "      <td>Rohit</td>\n",
       "      <td>13009</td>\n",
       "    </tr>\n",
       "  </tbody>\n",
       "</table>\n",
       "</div>"
      ],
      "text/plain": [
       "   Total_Matches Career_Analysis Players_Name   Runs\n",
       "0            424   [Outstanding]       Sachin  18400\n",
       "1            360           [Hit]       Yuvraj   9800\n",
       "2            280      [Semi-Hit]        Dhoni  11300\n",
       "3            180          [Flop]        Raina   8800\n",
       "4            230      [Semi-Hit]       Gautam  13400\n",
       "5            150          [Flop]       Sehwag   6540\n",
       "6            340           [Hit]       Dravid  17900\n",
       "7            400   [Outstanding]      Ganguly   8766\n",
       "8            245      [Semi-Hit]        Kohli  13450\n",
       "9            130          [Flop]        Rohit  13009"
      ]
     },
     "execution_count": 103,
     "metadata": {},
     "output_type": "execute_result"
    }
   ],
   "source": [
    "df1.drop(['Players_Runs'],axis=1,inplace=True)\n",
    "df2=df1\n",
    "df2"
   ]
  },
  {
   "cell_type": "markdown",
   "metadata": {},
   "source": [
    "#### Task-II "
   ]
  },
  {
   "cell_type": "code",
   "execution_count": 128,
   "metadata": {},
   "outputs": [
    {
     "data": {
      "text/plain": [
       "Total_Matches       int64\n",
       "Career_Analysis    object\n",
       "Players_Name       object\n",
       "Runs               object\n",
       "dtype: object"
      ]
     },
     "execution_count": 128,
     "metadata": {},
     "output_type": "execute_result"
    }
   ],
   "source": [
    "df2.dtypes"
   ]
  },
  {
   "cell_type": "code",
   "execution_count": 132,
   "metadata": {},
   "outputs": [
    {
     "data": {
      "text/html": [
       "<div>\n",
       "<style scoped>\n",
       "    .dataframe tbody tr th:only-of-type {\n",
       "        vertical-align: middle;\n",
       "    }\n",
       "\n",
       "    .dataframe tbody tr th {\n",
       "        vertical-align: top;\n",
       "    }\n",
       "\n",
       "    .dataframe thead th {\n",
       "        text-align: right;\n",
       "    }\n",
       "</style>\n",
       "<table border=\"1\" class=\"dataframe\">\n",
       "  <thead>\n",
       "    <tr style=\"text-align: right;\">\n",
       "      <th></th>\n",
       "      <th>Total_Matches</th>\n",
       "      <th>Career_Analysis</th>\n",
       "      <th>Players_Name</th>\n",
       "      <th>Runs</th>\n",
       "    </tr>\n",
       "  </thead>\n",
       "  <tbody>\n",
       "    <tr>\n",
       "      <th>0</th>\n",
       "      <td>424</td>\n",
       "      <td>[Outstanding]</td>\n",
       "      <td>Sachin</td>\n",
       "      <td>18400</td>\n",
       "    </tr>\n",
       "    <tr>\n",
       "      <th>1</th>\n",
       "      <td>360</td>\n",
       "      <td>[Hit]</td>\n",
       "      <td>Yuvraj</td>\n",
       "      <td>9800</td>\n",
       "    </tr>\n",
       "    <tr>\n",
       "      <th>2</th>\n",
       "      <td>280</td>\n",
       "      <td>[Semi-Hit]</td>\n",
       "      <td>Dhoni</td>\n",
       "      <td>11300</td>\n",
       "    </tr>\n",
       "    <tr>\n",
       "      <th>3</th>\n",
       "      <td>180</td>\n",
       "      <td>[Flop]</td>\n",
       "      <td>Raina</td>\n",
       "      <td>8800</td>\n",
       "    </tr>\n",
       "    <tr>\n",
       "      <th>4</th>\n",
       "      <td>230</td>\n",
       "      <td>[Semi-Hit]</td>\n",
       "      <td>Gautam</td>\n",
       "      <td>13400</td>\n",
       "    </tr>\n",
       "    <tr>\n",
       "      <th>5</th>\n",
       "      <td>150</td>\n",
       "      <td>[Flop]</td>\n",
       "      <td>Sehwag</td>\n",
       "      <td>6540</td>\n",
       "    </tr>\n",
       "    <tr>\n",
       "      <th>6</th>\n",
       "      <td>340</td>\n",
       "      <td>[Hit]</td>\n",
       "      <td>Dravid</td>\n",
       "      <td>17900</td>\n",
       "    </tr>\n",
       "    <tr>\n",
       "      <th>7</th>\n",
       "      <td>400</td>\n",
       "      <td>[Outstanding]</td>\n",
       "      <td>Ganguly</td>\n",
       "      <td>8766</td>\n",
       "    </tr>\n",
       "    <tr>\n",
       "      <th>8</th>\n",
       "      <td>245</td>\n",
       "      <td>[Semi-Hit]</td>\n",
       "      <td>Kohli</td>\n",
       "      <td>13450</td>\n",
       "    </tr>\n",
       "    <tr>\n",
       "      <th>9</th>\n",
       "      <td>130</td>\n",
       "      <td>[Flop]</td>\n",
       "      <td>Rohit</td>\n",
       "      <td>13009</td>\n",
       "    </tr>\n",
       "  </tbody>\n",
       "</table>\n",
       "</div>"
      ],
      "text/plain": [
       "   Total_Matches Career_Analysis Players_Name   Runs\n",
       "0            424   [Outstanding]       Sachin  18400\n",
       "1            360           [Hit]       Yuvraj   9800\n",
       "2            280      [Semi-Hit]        Dhoni  11300\n",
       "3            180          [Flop]        Raina   8800\n",
       "4            230      [Semi-Hit]       Gautam  13400\n",
       "5            150          [Flop]       Sehwag   6540\n",
       "6            340           [Hit]       Dravid  17900\n",
       "7            400   [Outstanding]      Ganguly   8766\n",
       "8            245      [Semi-Hit]        Kohli  13450\n",
       "9            130          [Flop]        Rohit  13009"
      ]
     },
     "execution_count": 132,
     "metadata": {},
     "output_type": "execute_result"
    }
   ],
   "source": [
    "def A(data):\n",
    "    data=str(data)\n",
    "    return int(data)\n",
    "df2['Runs']=df2['Runs'].apply(A)\n",
    "df2"
   ]
  },
  {
   "cell_type": "code",
   "execution_count": 133,
   "metadata": {},
   "outputs": [
    {
     "data": {
      "text/plain": [
       "Total_Matches       int64\n",
       "Career_Analysis    object\n",
       "Players_Name       object\n",
       "Runs                int64\n",
       "dtype: object"
      ]
     },
     "execution_count": 133,
     "metadata": {},
     "output_type": "execute_result"
    }
   ],
   "source": [
    "df2.dtypes"
   ]
  },
  {
   "cell_type": "code",
   "execution_count": 61,
   "metadata": {},
   "outputs": [],
   "source": [
    "#Subsetting on the basis of runs more than 10000 and get the players name."
   ]
  },
  {
   "cell_type": "code",
   "execution_count": 86,
   "metadata": {},
   "outputs": [
    {
     "data": {
      "text/html": [
       "<div>\n",
       "<style scoped>\n",
       "    .dataframe tbody tr th:only-of-type {\n",
       "        vertical-align: middle;\n",
       "    }\n",
       "\n",
       "    .dataframe tbody tr th {\n",
       "        vertical-align: top;\n",
       "    }\n",
       "\n",
       "    .dataframe thead th {\n",
       "        text-align: right;\n",
       "    }\n",
       "</style>\n",
       "<table border=\"1\" class=\"dataframe\">\n",
       "  <thead>\n",
       "    <tr style=\"text-align: right;\">\n",
       "      <th></th>\n",
       "      <th>Total_Runs</th>\n",
       "    </tr>\n",
       "  </thead>\n",
       "  <tbody>\n",
       "    <tr>\n",
       "      <th>0</th>\n",
       "      <td>18400</td>\n",
       "    </tr>\n",
       "  </tbody>\n",
       "</table>\n",
       "</div>"
      ],
      "text/plain": [
       "  Total_Runs\n",
       "0      18400"
      ]
     },
     "execution_count": 86,
     "metadata": {},
     "output_type": "execute_result"
    }
   ],
   "source": [
    "df2[['Total_Runs']][df2['Players_Name']=='Sachin']"
   ]
  },
  {
   "cell_type": "code",
   "execution_count": 106,
   "metadata": {},
   "outputs": [
    {
     "data": {
      "text/plain": [
       "0    False\n",
       "1    False\n",
       "2    False\n",
       "3    False\n",
       "4    False\n",
       "5    False\n",
       "6    False\n",
       "7    False\n",
       "8    False\n",
       "9    False\n",
       "Name: Runs, dtype: bool"
      ]
     },
     "execution_count": 106,
     "metadata": {},
     "output_type": "execute_result"
    }
   ],
   "source": [
    "df2['Runs']==10000"
   ]
  },
  {
   "cell_type": "code",
   "execution_count": 136,
   "metadata": {},
   "outputs": [
    {
     "data": {
      "text/html": [
       "<div>\n",
       "<style scoped>\n",
       "    .dataframe tbody tr th:only-of-type {\n",
       "        vertical-align: middle;\n",
       "    }\n",
       "\n",
       "    .dataframe tbody tr th {\n",
       "        vertical-align: top;\n",
       "    }\n",
       "\n",
       "    .dataframe thead th {\n",
       "        text-align: right;\n",
       "    }\n",
       "</style>\n",
       "<table border=\"1\" class=\"dataframe\">\n",
       "  <thead>\n",
       "    <tr style=\"text-align: right;\">\n",
       "      <th></th>\n",
       "      <th>Players_Name</th>\n",
       "      <th>Runs</th>\n",
       "    </tr>\n",
       "  </thead>\n",
       "  <tbody>\n",
       "    <tr>\n",
       "      <th>0</th>\n",
       "      <td>Sachin</td>\n",
       "      <td>18400</td>\n",
       "    </tr>\n",
       "    <tr>\n",
       "      <th>1</th>\n",
       "      <td>Yuvraj</td>\n",
       "      <td>9800</td>\n",
       "    </tr>\n",
       "    <tr>\n",
       "      <th>2</th>\n",
       "      <td>Dhoni</td>\n",
       "      <td>11300</td>\n",
       "    </tr>\n",
       "    <tr>\n",
       "      <th>4</th>\n",
       "      <td>Gautam</td>\n",
       "      <td>13400</td>\n",
       "    </tr>\n",
       "    <tr>\n",
       "      <th>6</th>\n",
       "      <td>Dravid</td>\n",
       "      <td>17900</td>\n",
       "    </tr>\n",
       "    <tr>\n",
       "      <th>7</th>\n",
       "      <td>Ganguly</td>\n",
       "      <td>8766</td>\n",
       "    </tr>\n",
       "    <tr>\n",
       "      <th>8</th>\n",
       "      <td>Kohli</td>\n",
       "      <td>13450</td>\n",
       "    </tr>\n",
       "  </tbody>\n",
       "</table>\n",
       "</div>"
      ],
      "text/plain": [
       "  Players_Name   Runs\n",
       "0       Sachin  18400\n",
       "1       Yuvraj   9800\n",
       "2        Dhoni  11300\n",
       "4       Gautam  13400\n",
       "6       Dravid  17900\n",
       "7      Ganguly   8766\n",
       "8        Kohli  13450"
      ]
     },
     "execution_count": 136,
     "metadata": {},
     "output_type": "execute_result"
    }
   ],
   "source": [
    "X=df2[['Players_Name','Runs']].loc[df2['Total_Matches']>200]\n",
    "X"
   ]
  },
  {
   "cell_type": "code",
   "execution_count": 137,
   "metadata": {},
   "outputs": [
    {
     "data": {
      "text/plain": [
       "18400"
      ]
     },
     "execution_count": 137,
     "metadata": {},
     "output_type": "execute_result"
    }
   ],
   "source": [
    "X['Runs'].max()"
   ]
  },
  {
   "cell_type": "code",
   "execution_count": 138,
   "metadata": {},
   "outputs": [
    {
     "data": {
      "text/plain": [
       "8766"
      ]
     },
     "execution_count": 138,
     "metadata": {},
     "output_type": "execute_result"
    }
   ],
   "source": [
    "X['Runs'].min()"
   ]
  },
  {
   "cell_type": "code",
   "execution_count": 151,
   "metadata": {},
   "outputs": [
    {
     "data": {
      "text/html": [
       "<div>\n",
       "<style scoped>\n",
       "    .dataframe tbody tr th:only-of-type {\n",
       "        vertical-align: middle;\n",
       "    }\n",
       "\n",
       "    .dataframe tbody tr th {\n",
       "        vertical-align: top;\n",
       "    }\n",
       "\n",
       "    .dataframe thead th {\n",
       "        text-align: right;\n",
       "    }\n",
       "</style>\n",
       "<table border=\"1\" class=\"dataframe\">\n",
       "  <thead>\n",
       "    <tr style=\"text-align: right;\">\n",
       "      <th></th>\n",
       "      <th>Players_Name</th>\n",
       "      <th>Career_Analysis</th>\n",
       "    </tr>\n",
       "  </thead>\n",
       "  <tbody>\n",
       "    <tr>\n",
       "      <th>0</th>\n",
       "      <td>Sachin</td>\n",
       "      <td>[Outstanding]</td>\n",
       "    </tr>\n",
       "    <tr>\n",
       "      <th>1</th>\n",
       "      <td>Dhoni</td>\n",
       "      <td>[Semi-Hit]</td>\n",
       "    </tr>\n",
       "    <tr>\n",
       "      <th>2</th>\n",
       "      <td>Gautam</td>\n",
       "      <td>[Semi-Hit]</td>\n",
       "    </tr>\n",
       "    <tr>\n",
       "      <th>3</th>\n",
       "      <td>Dravid</td>\n",
       "      <td>[Hit]</td>\n",
       "    </tr>\n",
       "    <tr>\n",
       "      <th>4</th>\n",
       "      <td>Kohli</td>\n",
       "      <td>[Semi-Hit]</td>\n",
       "    </tr>\n",
       "    <tr>\n",
       "      <th>5</th>\n",
       "      <td>Rohit</td>\n",
       "      <td>[Flop]</td>\n",
       "    </tr>\n",
       "  </tbody>\n",
       "</table>\n",
       "</div>"
      ],
      "text/plain": [
       "  Players_Name Career_Analysis\n",
       "0       Sachin   [Outstanding]\n",
       "1        Dhoni      [Semi-Hit]\n",
       "2       Gautam      [Semi-Hit]\n",
       "3       Dravid           [Hit]\n",
       "4        Kohli      [Semi-Hit]\n",
       "5        Rohit          [Flop]"
      ]
     },
     "execution_count": 151,
     "metadata": {},
     "output_type": "execute_result"
    }
   ],
   "source": [
    "Y=df2[['Players_Name','Career_Analysis']][df2['Runs']>10000]\n",
    "C=Y.reset_index(drop=True)\n",
    "C"
   ]
  },
  {
   "cell_type": "code",
   "execution_count": 142,
   "metadata": {},
   "outputs": [],
   "source": [
    "#Data Manipulation :-"
   ]
  },
  {
   "cell_type": "code",
   "execution_count": 152,
   "metadata": {},
   "outputs": [
    {
     "data": {
      "text/html": [
       "<div>\n",
       "<style scoped>\n",
       "    .dataframe tbody tr th:only-of-type {\n",
       "        vertical-align: middle;\n",
       "    }\n",
       "\n",
       "    .dataframe tbody tr th {\n",
       "        vertical-align: top;\n",
       "    }\n",
       "\n",
       "    .dataframe thead th {\n",
       "        text-align: right;\n",
       "    }\n",
       "</style>\n",
       "<table border=\"1\" class=\"dataframe\">\n",
       "  <thead>\n",
       "    <tr style=\"text-align: right;\">\n",
       "      <th></th>\n",
       "      <th>Players_Name</th>\n",
       "      <th>Career_Analysis</th>\n",
       "    </tr>\n",
       "  </thead>\n",
       "  <tbody>\n",
       "    <tr>\n",
       "      <th>0</th>\n",
       "      <td>Sachin</td>\n",
       "      <td>Outstanding</td>\n",
       "    </tr>\n",
       "    <tr>\n",
       "      <th>1</th>\n",
       "      <td>Dhoni</td>\n",
       "      <td>Semi-Hit</td>\n",
       "    </tr>\n",
       "    <tr>\n",
       "      <th>2</th>\n",
       "      <td>Gautam</td>\n",
       "      <td>Semi-Hit</td>\n",
       "    </tr>\n",
       "    <tr>\n",
       "      <th>3</th>\n",
       "      <td>Dravid</td>\n",
       "      <td>Hit</td>\n",
       "    </tr>\n",
       "    <tr>\n",
       "      <th>4</th>\n",
       "      <td>Kohli</td>\n",
       "      <td>Semi-Hit</td>\n",
       "    </tr>\n",
       "    <tr>\n",
       "      <th>5</th>\n",
       "      <td>Rohit</td>\n",
       "      <td>Flop</td>\n",
       "    </tr>\n",
       "  </tbody>\n",
       "</table>\n",
       "</div>"
      ],
      "text/plain": [
       "  Players_Name Career_Analysis\n",
       "0       Sachin     Outstanding\n",
       "1        Dhoni        Semi-Hit\n",
       "2       Gautam        Semi-Hit\n",
       "3       Dravid             Hit\n",
       "4        Kohli        Semi-Hit\n",
       "5        Rohit            Flop"
      ]
     },
     "execution_count": 152,
     "metadata": {},
     "output_type": "execute_result"
    }
   ],
   "source": [
    "def A(Z):\n",
    "    data1=C['Career_Analysis'].values.tolist()\n",
    "    data2=pd.DataFrame(data1)\n",
    "    return data2\n",
    "C['Career_Analysis']=A(C['Career_Analysis'])\n",
    "C"
   ]
  },
  {
   "cell_type": "markdown",
   "metadata": {},
   "source": [
    "##### Concept of Looping :-"
   ]
  },
  {
   "cell_type": "code",
   "execution_count": 206,
   "metadata": {},
   "outputs": [
    {
     "data": {
      "text/plain": [
       "[{'Name': ['Vidit', 'Ankit'], 'Age': [23, 25]}]"
      ]
     },
     "execution_count": 206,
     "metadata": {},
     "output_type": "execute_result"
    }
   ],
   "source": [
    "list1=[{'Name':['Vidit','Ankit'],'Age':[23,25]}]\n",
    "list1"
   ]
  },
  {
   "cell_type": "code",
   "execution_count": 194,
   "metadata": {},
   "outputs": [
    {
     "data": {
      "text/plain": [
       "[{'Name': ['Farzan', 'Ankit'], 'Age': [23, 25]}]"
      ]
     },
     "execution_count": 194,
     "metadata": {},
     "output_type": "execute_result"
    }
   ],
   "source": [
    "list1[0]['Name'][0]='Farzan'\n",
    "list1"
   ]
  },
  {
   "cell_type": "code",
   "execution_count": 195,
   "metadata": {},
   "outputs": [
    {
     "data": {
      "text/plain": [
       "[{'Location': ['Ranchi', 'Bokaro'], 'Address': ['Bhadwa', 'Mandi']}]"
      ]
     },
     "execution_count": 195,
     "metadata": {},
     "output_type": "execute_result"
    }
   ],
   "source": [
    "list2=[{'Location':['Ranchi','Bokaro'],'Address':['Bhadwa','Mandi']}]\n",
    "list2"
   ]
  },
  {
   "cell_type": "code",
   "execution_count": 220,
   "metadata": {},
   "outputs": [
    {
     "name": "stdout",
     "output_type": "stream",
     "text": [
      "[23, 25]\n"
     ]
    }
   ],
   "source": [
    "for i in list1:\n",
    "    print(i['Age'][0:2])"
   ]
  },
  {
   "cell_type": "code",
   "execution_count": 156,
   "metadata": {},
   "outputs": [
    {
     "data": {
      "text/plain": [
       "[2, 4, 6, 8]"
      ]
     },
     "execution_count": 156,
     "metadata": {},
     "output_type": "execute_result"
    }
   ],
   "source": [
    "list1=[2,4,6,8]\n",
    "list1"
   ]
  },
  {
   "cell_type": "code",
   "execution_count": 157,
   "metadata": {},
   "outputs": [
    {
     "data": {
      "text/plain": [
       "[10, 12, 14, 16]"
      ]
     },
     "execution_count": 157,
     "metadata": {},
     "output_type": "execute_result"
    }
   ],
   "source": [
    "list2=[10,12,14,16]\n",
    "list2"
   ]
  },
  {
   "cell_type": "code",
   "execution_count": 187,
   "metadata": {},
   "outputs": [
    {
     "name": "stdout",
     "output_type": "stream",
     "text": [
      "12.0\n",
      "84.0\n"
     ]
    }
   ],
   "source": [
    "for i in list1,list2:\n",
    "        print((i[1]*i[2])/2)"
   ]
  },
  {
   "cell_type": "code",
   "execution_count": 221,
   "metadata": {},
   "outputs": [],
   "source": [
    "#Use of Arrays in Looping :-"
   ]
  },
  {
   "cell_type": "code",
   "execution_count": 2,
   "metadata": {},
   "outputs": [],
   "source": [
    "import numpy as np"
   ]
  },
  {
   "cell_type": "code",
   "execution_count": 13,
   "metadata": {},
   "outputs": [
    {
     "data": {
      "text/plain": [
       "array([[78, 65, 94, 23],\n",
       "       [92, 56, 88, 75]])"
      ]
     },
     "execution_count": 13,
     "metadata": {},
     "output_type": "execute_result"
    }
   ],
   "source": [
    "X=np.array([[78,65,94,23],[92,56,88,75]])\n",
    "X"
   ]
  },
  {
   "cell_type": "code",
   "execution_count": 28,
   "metadata": {},
   "outputs": [],
   "source": [
    "#Comparision Operator and Looping in arrays :-"
   ]
  },
  {
   "cell_type": "code",
   "execution_count": 19,
   "metadata": {},
   "outputs": [
    {
     "data": {
      "text/plain": [
       "array([78, 65, 23, 56, 88, 75])"
      ]
     },
     "execution_count": 19,
     "metadata": {},
     "output_type": "execute_result"
    }
   ],
   "source": [
    "j=X[np.logical_and(X<=90,X<100)]\n",
    "j"
   ]
  },
  {
   "cell_type": "code",
   "execution_count": 27,
   "metadata": {},
   "outputs": [
    {
     "name": "stdout",
     "output_type": "stream",
     "text": [
      "6084\n",
      "77\n",
      "4225\n",
      "64\n",
      "529\n",
      "22\n",
      "3136\n",
      "55\n",
      "7744\n",
      "87\n",
      "5625\n",
      "74\n"
     ]
    }
   ],
   "source": [
    "for i in j:\n",
    "    print(i**2)\n",
    "    i=i-1\n",
    "    print(i)\n",
    "    continue    "
   ]
  },
  {
   "cell_type": "code",
   "execution_count": 29,
   "metadata": {},
   "outputs": [
    {
     "name": "stdout",
     "output_type": "stream",
     "text": [
      "[55 99]\n"
     ]
    }
   ],
   "source": [
    "for i in X:\n",
    "    print(i[np.logical_and(i>=40,i<=100)])"
   ]
  },
  {
   "cell_type": "code",
   "execution_count": 1,
   "metadata": {},
   "outputs": [],
   "source": [
    "import numpy as np"
   ]
  },
  {
   "cell_type": "code",
   "execution_count": 32,
   "metadata": {},
   "outputs": [
    {
     "data": {
      "text/plain": [
       "array(['True', 'False'], dtype='<U32')"
      ]
     },
     "execution_count": 32,
     "metadata": {},
     "output_type": "execute_result"
    }
   ],
   "source": [
    "X=np.array(((2,True,3.3,'S'),(3,4.4,False,'V')))\n",
    "X[[0,1],[1,2]]"
   ]
  },
  {
   "cell_type": "code",
   "execution_count": 16,
   "metadata": {},
   "outputs": [
    {
     "data": {
      "text/plain": [
       "array({41, 2, (True, 2.2), 'M'}, dtype=object)"
      ]
     },
     "execution_count": 16,
     "metadata": {},
     "output_type": "execute_result"
    }
   ],
   "source": [
    "X=np.array({2,(True,2.2),41,'M'})\n",
    "X"
   ]
  },
  {
   "cell_type": "code",
   "execution_count": 6,
   "metadata": {},
   "outputs": [
    {
     "data": {
      "text/plain": [
       "numpy.ndarray"
      ]
     },
     "execution_count": 6,
     "metadata": {},
     "output_type": "execute_result"
    }
   ],
   "source": [
    "type(X)"
   ]
  },
  {
   "cell_type": "code",
   "execution_count": 7,
   "metadata": {},
   "outputs": [
    {
     "data": {
      "text/plain": [
       "array({'Name': 'Vidit', 'Age': 22, 'Location': 'Ranchi'}, dtype=object)"
      ]
     },
     "execution_count": 7,
     "metadata": {},
     "output_type": "execute_result"
    }
   ],
   "source": [
    "X=np.array({'Name':'Vidit','Age':22,'Location':'Ranchi'})\n",
    "X"
   ]
  },
  {
   "cell_type": "markdown",
   "metadata": {},
   "source": [
    "##### Concept of Map and Filter :-"
   ]
  },
  {
   "cell_type": "code",
   "execution_count": 34,
   "metadata": {},
   "outputs": [],
   "source": [
    "import numpy as np\n",
    "import pandas as pd"
   ]
  },
  {
   "cell_type": "code",
   "execution_count": 50,
   "metadata": {},
   "outputs": [],
   "source": [
    "#So at the last I have came to a conclusion that A DataFrame should have list inside a dict."
   ]
  },
  {
   "cell_type": "code",
   "execution_count": 146,
   "metadata": {},
   "outputs": [
    {
     "data": {
      "text/html": [
       "<div>\n",
       "<style scoped>\n",
       "    .dataframe tbody tr th:only-of-type {\n",
       "        vertical-align: middle;\n",
       "    }\n",
       "\n",
       "    .dataframe tbody tr th {\n",
       "        vertical-align: top;\n",
       "    }\n",
       "\n",
       "    .dataframe thead th {\n",
       "        text-align: right;\n",
       "    }\n",
       "</style>\n",
       "<table border=\"1\" class=\"dataframe\">\n",
       "  <thead>\n",
       "    <tr style=\"text-align: right;\">\n",
       "      <th></th>\n",
       "      <th>Std_Name</th>\n",
       "      <th>Age</th>\n",
       "      <th>Qualification_Details</th>\n",
       "      <th>Monthly_Salary</th>\n",
       "      <th>Savings</th>\n",
       "    </tr>\n",
       "  </thead>\n",
       "  <tbody>\n",
       "    <tr>\n",
       "      <th>0</th>\n",
       "      <td>Vidit</td>\n",
       "      <td>24</td>\n",
       "      <td>PG-Diploma</td>\n",
       "      <td>40000.0</td>\n",
       "      <td>13000.0</td>\n",
       "    </tr>\n",
       "    <tr>\n",
       "      <th>1</th>\n",
       "      <td>Ankit</td>\n",
       "      <td>25</td>\n",
       "      <td>MCom</td>\n",
       "      <td>NaN</td>\n",
       "      <td>NaN</td>\n",
       "    </tr>\n",
       "    <tr>\n",
       "      <th>2</th>\n",
       "      <td>Shivam</td>\n",
       "      <td>27</td>\n",
       "      <td>CA</td>\n",
       "      <td>35000.0</td>\n",
       "      <td>7000.0</td>\n",
       "    </tr>\n",
       "    <tr>\n",
       "      <th>3</th>\n",
       "      <td>Raj</td>\n",
       "      <td>19</td>\n",
       "      <td>Engineering</td>\n",
       "      <td>NaN</td>\n",
       "      <td>NaN</td>\n",
       "    </tr>\n",
       "    <tr>\n",
       "      <th>4</th>\n",
       "      <td>Aman</td>\n",
       "      <td>30</td>\n",
       "      <td>Finance</td>\n",
       "      <td>55000.0</td>\n",
       "      <td>10000.0</td>\n",
       "    </tr>\n",
       "  </tbody>\n",
       "</table>\n",
       "</div>"
      ],
      "text/plain": [
       "  Std_Name  Age Qualification_Details  Monthly_Salary  Savings\n",
       "0    Vidit   24            PG-Diploma         40000.0  13000.0\n",
       "1    Ankit   25                  MCom             NaN      NaN\n",
       "2   Shivam   27                    CA         35000.0   7000.0\n",
       "3      Raj   19           Engineering             NaN      NaN\n",
       "4     Aman   30               Finance         55000.0  10000.0"
      ]
     },
     "execution_count": 146,
     "metadata": {},
     "output_type": "execute_result"
    }
   ],
   "source": [
    "df1=pd.DataFrame({'Std_Name':['Vidit','Ankit','Shivam','Raj','Aman'],'Age':[24,25,27,19,30],'Qualification_Details':['PG-Diploma','MCom','CA','Engineering','Finance'],'Monthly_Salary':[40000,np.nan,35000,np.nan,55000],'Savings':[13000,np.nan,7000,np.nan,10000]})\n",
    "df1"
   ]
  },
  {
   "cell_type": "code",
   "execution_count": 59,
   "metadata": {},
   "outputs": [],
   "source": [
    "#Questions to be noted:-"
   ]
  },
  {
   "cell_type": "code",
   "execution_count": 60,
   "metadata": {},
   "outputs": [],
   "source": [
    "#1.Remove the missing value and then find its mean using map method."
   ]
  },
  {
   "cell_type": "code",
   "execution_count": 61,
   "metadata": {},
   "outputs": [],
   "source": [
    "# First do the subset."
   ]
  },
  {
   "cell_type": "code",
   "execution_count": 171,
   "metadata": {},
   "outputs": [
    {
     "data": {
      "text/html": [
       "<div>\n",
       "<style scoped>\n",
       "    .dataframe tbody tr th:only-of-type {\n",
       "        vertical-align: middle;\n",
       "    }\n",
       "\n",
       "    .dataframe tbody tr th {\n",
       "        vertical-align: top;\n",
       "    }\n",
       "\n",
       "    .dataframe thead th {\n",
       "        text-align: right;\n",
       "    }\n",
       "</style>\n",
       "<table border=\"1\" class=\"dataframe\">\n",
       "  <thead>\n",
       "    <tr style=\"text-align: right;\">\n",
       "      <th></th>\n",
       "      <th>Monthly_Salary</th>\n",
       "      <th>Savings</th>\n",
       "    </tr>\n",
       "  </thead>\n",
       "  <tbody>\n",
       "    <tr>\n",
       "      <th>0</th>\n",
       "      <td>40000.0</td>\n",
       "      <td>13000.0</td>\n",
       "    </tr>\n",
       "    <tr>\n",
       "      <th>1</th>\n",
       "      <td>NaN</td>\n",
       "      <td>NaN</td>\n",
       "    </tr>\n",
       "    <tr>\n",
       "      <th>2</th>\n",
       "      <td>35000.0</td>\n",
       "      <td>7000.0</td>\n",
       "    </tr>\n",
       "    <tr>\n",
       "      <th>3</th>\n",
       "      <td>NaN</td>\n",
       "      <td>NaN</td>\n",
       "    </tr>\n",
       "    <tr>\n",
       "      <th>4</th>\n",
       "      <td>55000.0</td>\n",
       "      <td>10000.0</td>\n",
       "    </tr>\n",
       "  </tbody>\n",
       "</table>\n",
       "</div>"
      ],
      "text/plain": [
       "   Monthly_Salary  Savings\n",
       "0         40000.0  13000.0\n",
       "1             NaN      NaN\n",
       "2         35000.0   7000.0\n",
       "3             NaN      NaN\n",
       "4         55000.0  10000.0"
      ]
     },
     "execution_count": 171,
     "metadata": {},
     "output_type": "execute_result"
    }
   ],
   "source": [
    "df2=df1.loc[:,['Monthly_Salary','Savings']]\n",
    "df2"
   ]
  },
  {
   "cell_type": "code",
   "execution_count": 66,
   "metadata": {},
   "outputs": [],
   "source": [
    "#Now check the frequency of missing values."
   ]
  },
  {
   "cell_type": "code",
   "execution_count": 100,
   "metadata": {},
   "outputs": [
    {
     "data": {
      "text/plain": [
       "Salary    2\n",
       "dtype: int64"
      ]
     },
     "execution_count": 100,
     "metadata": {},
     "output_type": "execute_result"
    }
   ],
   "source": [
    "X=df2.isnull()\n",
    "Y=X.sum()\n",
    "Y"
   ]
  },
  {
   "cell_type": "code",
   "execution_count": 103,
   "metadata": {},
   "outputs": [
    {
     "data": {
      "text/plain": [
       "5"
      ]
     },
     "execution_count": 103,
     "metadata": {},
     "output_type": "execute_result"
    }
   ],
   "source": [
    "Z=df2.shape[0]\n",
    "Z"
   ]
  },
  {
   "cell_type": "code",
   "execution_count": 104,
   "metadata": {},
   "outputs": [
    {
     "data": {
      "text/plain": [
       "Salary    0.4\n",
       "dtype: float64"
      ]
     },
     "execution_count": 104,
     "metadata": {},
     "output_type": "execute_result"
    }
   ],
   "source": [
    "C=Y/Z\n",
    "C"
   ]
  },
  {
   "cell_type": "code",
   "execution_count": 105,
   "metadata": {},
   "outputs": [],
   "source": [
    "#Use the concept of fillna()."
   ]
  },
  {
   "cell_type": "code",
   "execution_count": 172,
   "metadata": {},
   "outputs": [
    {
     "data": {
      "text/plain": [
       "43333.333333333336"
      ]
     },
     "execution_count": 172,
     "metadata": {},
     "output_type": "execute_result"
    }
   ],
   "source": [
    "X=df2['Monthly_Salary'].mean()\n",
    "X"
   ]
  },
  {
   "cell_type": "code",
   "execution_count": 173,
   "metadata": {},
   "outputs": [
    {
     "data": {
      "text/html": [
       "<div>\n",
       "<style scoped>\n",
       "    .dataframe tbody tr th:only-of-type {\n",
       "        vertical-align: middle;\n",
       "    }\n",
       "\n",
       "    .dataframe tbody tr th {\n",
       "        vertical-align: top;\n",
       "    }\n",
       "\n",
       "    .dataframe thead th {\n",
       "        text-align: right;\n",
       "    }\n",
       "</style>\n",
       "<table border=\"1\" class=\"dataframe\">\n",
       "  <thead>\n",
       "    <tr style=\"text-align: right;\">\n",
       "      <th></th>\n",
       "      <th>Monthly_Salary</th>\n",
       "      <th>Savings</th>\n",
       "    </tr>\n",
       "  </thead>\n",
       "  <tbody>\n",
       "    <tr>\n",
       "      <th>0</th>\n",
       "      <td>40000.000000</td>\n",
       "      <td>13000.0</td>\n",
       "    </tr>\n",
       "    <tr>\n",
       "      <th>1</th>\n",
       "      <td>43333.333333</td>\n",
       "      <td>NaN</td>\n",
       "    </tr>\n",
       "    <tr>\n",
       "      <th>2</th>\n",
       "      <td>35000.000000</td>\n",
       "      <td>7000.0</td>\n",
       "    </tr>\n",
       "    <tr>\n",
       "      <th>3</th>\n",
       "      <td>43333.333333</td>\n",
       "      <td>NaN</td>\n",
       "    </tr>\n",
       "    <tr>\n",
       "      <th>4</th>\n",
       "      <td>55000.000000</td>\n",
       "      <td>10000.0</td>\n",
       "    </tr>\n",
       "  </tbody>\n",
       "</table>\n",
       "</div>"
      ],
      "text/plain": [
       "   Monthly_Salary  Savings\n",
       "0    40000.000000  13000.0\n",
       "1    43333.333333      NaN\n",
       "2    35000.000000   7000.0\n",
       "3    43333.333333      NaN\n",
       "4    55000.000000  10000.0"
      ]
     },
     "execution_count": 173,
     "metadata": {},
     "output_type": "execute_result"
    }
   ],
   "source": [
    "df2['Monthly_Salary']=df2['Monthly_Salary'].fillna(X)\n",
    "df2"
   ]
  },
  {
   "cell_type": "code",
   "execution_count": 174,
   "metadata": {},
   "outputs": [
    {
     "data": {
      "text/plain": [
       "10000.0"
      ]
     },
     "execution_count": 174,
     "metadata": {},
     "output_type": "execute_result"
    }
   ],
   "source": [
    "X=df2['Savings'].mean()\n",
    "X"
   ]
  },
  {
   "cell_type": "code",
   "execution_count": 175,
   "metadata": {},
   "outputs": [
    {
     "data": {
      "text/html": [
       "<div>\n",
       "<style scoped>\n",
       "    .dataframe tbody tr th:only-of-type {\n",
       "        vertical-align: middle;\n",
       "    }\n",
       "\n",
       "    .dataframe tbody tr th {\n",
       "        vertical-align: top;\n",
       "    }\n",
       "\n",
       "    .dataframe thead th {\n",
       "        text-align: right;\n",
       "    }\n",
       "</style>\n",
       "<table border=\"1\" class=\"dataframe\">\n",
       "  <thead>\n",
       "    <tr style=\"text-align: right;\">\n",
       "      <th></th>\n",
       "      <th>Monthly_Salary</th>\n",
       "      <th>Savings</th>\n",
       "    </tr>\n",
       "  </thead>\n",
       "  <tbody>\n",
       "    <tr>\n",
       "      <th>0</th>\n",
       "      <td>40000.000000</td>\n",
       "      <td>13000.0</td>\n",
       "    </tr>\n",
       "    <tr>\n",
       "      <th>1</th>\n",
       "      <td>43333.333333</td>\n",
       "      <td>10000.0</td>\n",
       "    </tr>\n",
       "    <tr>\n",
       "      <th>2</th>\n",
       "      <td>35000.000000</td>\n",
       "      <td>7000.0</td>\n",
       "    </tr>\n",
       "    <tr>\n",
       "      <th>3</th>\n",
       "      <td>43333.333333</td>\n",
       "      <td>10000.0</td>\n",
       "    </tr>\n",
       "    <tr>\n",
       "      <th>4</th>\n",
       "      <td>55000.000000</td>\n",
       "      <td>10000.0</td>\n",
       "    </tr>\n",
       "  </tbody>\n",
       "</table>\n",
       "</div>"
      ],
      "text/plain": [
       "   Monthly_Salary  Savings\n",
       "0    40000.000000  13000.0\n",
       "1    43333.333333  10000.0\n",
       "2    35000.000000   7000.0\n",
       "3    43333.333333  10000.0\n",
       "4    55000.000000  10000.0"
      ]
     },
     "execution_count": 175,
     "metadata": {},
     "output_type": "execute_result"
    }
   ],
   "source": [
    "df2['Savings']=df2['Savings'].fillna(X)\n",
    "df2"
   ]
  },
  {
   "cell_type": "code",
   "execution_count": 176,
   "metadata": {},
   "outputs": [
    {
     "data": {
      "text/plain": [
       "0    40000.000000\n",
       "1    43333.333333\n",
       "2    35000.000000\n",
       "3    43333.333333\n",
       "4    55000.000000\n",
       "Name: Monthly_Salary, dtype: float64"
      ]
     },
     "execution_count": 176,
     "metadata": {},
     "output_type": "execute_result"
    }
   ],
   "source": [
    "df3=df2['Monthly_Salary']\n",
    "df3"
   ]
  },
  {
   "cell_type": "code",
   "execution_count": 157,
   "metadata": {},
   "outputs": [],
   "source": [
    "#Use map() to calculate the salary of one day."
   ]
  },
  {
   "cell_type": "code",
   "execution_count": 177,
   "metadata": {},
   "outputs": [
    {
     "data": {
      "text/html": [
       "<div>\n",
       "<style scoped>\n",
       "    .dataframe tbody tr th:only-of-type {\n",
       "        vertical-align: middle;\n",
       "    }\n",
       "\n",
       "    .dataframe tbody tr th {\n",
       "        vertical-align: top;\n",
       "    }\n",
       "\n",
       "    .dataframe thead th {\n",
       "        text-align: right;\n",
       "    }\n",
       "</style>\n",
       "<table border=\"1\" class=\"dataframe\">\n",
       "  <thead>\n",
       "    <tr style=\"text-align: right;\">\n",
       "      <th></th>\n",
       "      <th>Monthly_Salary</th>\n",
       "      <th>Savings</th>\n",
       "      <th>1_day_Income</th>\n",
       "    </tr>\n",
       "  </thead>\n",
       "  <tbody>\n",
       "    <tr>\n",
       "      <th>0</th>\n",
       "      <td>40000.000000</td>\n",
       "      <td>13000.0</td>\n",
       "      <td>1333.333333</td>\n",
       "    </tr>\n",
       "    <tr>\n",
       "      <th>1</th>\n",
       "      <td>43333.333333</td>\n",
       "      <td>10000.0</td>\n",
       "      <td>1444.444444</td>\n",
       "    </tr>\n",
       "    <tr>\n",
       "      <th>2</th>\n",
       "      <td>35000.000000</td>\n",
       "      <td>7000.0</td>\n",
       "      <td>1166.666667</td>\n",
       "    </tr>\n",
       "    <tr>\n",
       "      <th>3</th>\n",
       "      <td>43333.333333</td>\n",
       "      <td>10000.0</td>\n",
       "      <td>1444.444444</td>\n",
       "    </tr>\n",
       "    <tr>\n",
       "      <th>4</th>\n",
       "      <td>55000.000000</td>\n",
       "      <td>10000.0</td>\n",
       "      <td>1833.333333</td>\n",
       "    </tr>\n",
       "  </tbody>\n",
       "</table>\n",
       "</div>"
      ],
      "text/plain": [
       "   Monthly_Salary  Savings  1_day_Income\n",
       "0    40000.000000  13000.0   1333.333333\n",
       "1    43333.333333  10000.0   1444.444444\n",
       "2    35000.000000   7000.0   1166.666667\n",
       "3    43333.333333  10000.0   1444.444444\n",
       "4    55000.000000  10000.0   1833.333333"
      ]
     },
     "execution_count": 177,
     "metadata": {},
     "output_type": "execute_result"
    }
   ],
   "source": [
    "def Sal(value):\n",
    "    data=value/30\n",
    "    return data\n",
    "df2['1_day_Income']=pd.Series(map(Sal,df3))\n",
    "df2"
   ]
  },
  {
   "cell_type": "code",
   "execution_count": 167,
   "metadata": {},
   "outputs": [],
   "source": [
    "# Calculate Expenditure."
   ]
  },
  {
   "cell_type": "code",
   "execution_count": 195,
   "metadata": {},
   "outputs": [
    {
     "data": {
      "text/html": [
       "<div>\n",
       "<style scoped>\n",
       "    .dataframe tbody tr th:only-of-type {\n",
       "        vertical-align: middle;\n",
       "    }\n",
       "\n",
       "    .dataframe tbody tr th {\n",
       "        vertical-align: top;\n",
       "    }\n",
       "\n",
       "    .dataframe thead th {\n",
       "        text-align: right;\n",
       "    }\n",
       "</style>\n",
       "<table border=\"1\" class=\"dataframe\">\n",
       "  <thead>\n",
       "    <tr style=\"text-align: right;\">\n",
       "      <th></th>\n",
       "      <th>Monthly_Salary</th>\n",
       "      <th>Savings</th>\n",
       "      <th>1_day_Income</th>\n",
       "      <th>Expenditure</th>\n",
       "    </tr>\n",
       "  </thead>\n",
       "  <tbody>\n",
       "    <tr>\n",
       "      <th>0</th>\n",
       "      <td>40000.000000</td>\n",
       "      <td>13000.0</td>\n",
       "      <td>1333.333333</td>\n",
       "      <td>27000.000000</td>\n",
       "    </tr>\n",
       "    <tr>\n",
       "      <th>1</th>\n",
       "      <td>43333.333333</td>\n",
       "      <td>10000.0</td>\n",
       "      <td>1444.444444</td>\n",
       "      <td>33333.333333</td>\n",
       "    </tr>\n",
       "    <tr>\n",
       "      <th>2</th>\n",
       "      <td>35000.000000</td>\n",
       "      <td>7000.0</td>\n",
       "      <td>1166.666667</td>\n",
       "      <td>28000.000000</td>\n",
       "    </tr>\n",
       "    <tr>\n",
       "      <th>3</th>\n",
       "      <td>43333.333333</td>\n",
       "      <td>10000.0</td>\n",
       "      <td>1444.444444</td>\n",
       "      <td>33333.333333</td>\n",
       "    </tr>\n",
       "    <tr>\n",
       "      <th>4</th>\n",
       "      <td>55000.000000</td>\n",
       "      <td>10000.0</td>\n",
       "      <td>1833.333333</td>\n",
       "      <td>45000.000000</td>\n",
       "    </tr>\n",
       "  </tbody>\n",
       "</table>\n",
       "</div>"
      ],
      "text/plain": [
       "   Monthly_Salary  Savings  1_day_Income   Expenditure\n",
       "0    40000.000000  13000.0   1333.333333  27000.000000\n",
       "1    43333.333333  10000.0   1444.444444  33333.333333\n",
       "2    35000.000000   7000.0   1166.666667  28000.000000\n",
       "3    43333.333333  10000.0   1444.444444  33333.333333\n",
       "4    55000.000000  10000.0   1833.333333  45000.000000"
      ]
     },
     "execution_count": 195,
     "metadata": {},
     "output_type": "execute_result"
    }
   ],
   "source": [
    "df2['Expenditure']=df2['Monthly_Salary']-df2['Savings']\n",
    "df2"
   ]
  },
  {
   "cell_type": "code",
   "execution_count": 190,
   "metadata": {},
   "outputs": [
    {
     "data": {
      "text/plain": [
       "0    27000.000000\n",
       "1    33333.333333\n",
       "2    28000.000000\n",
       "3    33333.333333\n",
       "4    45000.000000\n",
       "Name: Expenditure, dtype: float64"
      ]
     },
     "execution_count": 190,
     "metadata": {},
     "output_type": "execute_result"
    }
   ],
   "source": [
    "df4=df2['Expenditure']\n",
    "df4"
   ]
  },
  {
   "cell_type": "code",
   "execution_count": 180,
   "metadata": {},
   "outputs": [],
   "source": [
    "#2.Filter the Expenditure column where expenditure is greater than 25000 and less then 30000."
   ]
  },
  {
   "cell_type": "code",
   "execution_count": 194,
   "metadata": {},
   "outputs": [
    {
     "data": {
      "text/plain": [
       "0    27000.0\n",
       "1    28000.0\n",
       "dtype: float64"
      ]
     },
     "execution_count": 194,
     "metadata": {},
     "output_type": "execute_result"
    }
   ],
   "source": [
    "def Exp(value):\n",
    "    if np.logical_and(value>=25000,value<30000):\n",
    "        return True\n",
    "    else:\n",
    "        return False\n",
    "X=pd.Series(filter(Exp,df4))\n",
    "X"
   ]
  },
  {
   "cell_type": "code",
   "execution_count": 196,
   "metadata": {},
   "outputs": [],
   "source": [
    "#3.Remove old columns from the dataframe and add a new column to a dataframe. "
   ]
  },
  {
   "cell_type": "code",
   "execution_count": 198,
   "metadata": {},
   "outputs": [
    {
     "data": {
      "text/html": [
       "<div>\n",
       "<style scoped>\n",
       "    .dataframe tbody tr th:only-of-type {\n",
       "        vertical-align: middle;\n",
       "    }\n",
       "\n",
       "    .dataframe tbody tr th {\n",
       "        vertical-align: top;\n",
       "    }\n",
       "\n",
       "    .dataframe thead th {\n",
       "        text-align: right;\n",
       "    }\n",
       "</style>\n",
       "<table border=\"1\" class=\"dataframe\">\n",
       "  <thead>\n",
       "    <tr style=\"text-align: right;\">\n",
       "      <th></th>\n",
       "      <th>Std_Name</th>\n",
       "      <th>Age</th>\n",
       "      <th>Qualification_Details</th>\n",
       "      <th>Monthly_Salary</th>\n",
       "      <th>Savings</th>\n",
       "      <th>Expenditure</th>\n",
       "    </tr>\n",
       "  </thead>\n",
       "  <tbody>\n",
       "    <tr>\n",
       "      <th>0</th>\n",
       "      <td>Vidit</td>\n",
       "      <td>24</td>\n",
       "      <td>PG-Diploma</td>\n",
       "      <td>40000.0</td>\n",
       "      <td>13000.0</td>\n",
       "      <td>27000.000000</td>\n",
       "    </tr>\n",
       "    <tr>\n",
       "      <th>1</th>\n",
       "      <td>Ankit</td>\n",
       "      <td>25</td>\n",
       "      <td>MCom</td>\n",
       "      <td>NaN</td>\n",
       "      <td>NaN</td>\n",
       "      <td>33333.333333</td>\n",
       "    </tr>\n",
       "    <tr>\n",
       "      <th>2</th>\n",
       "      <td>Shivam</td>\n",
       "      <td>27</td>\n",
       "      <td>CA</td>\n",
       "      <td>35000.0</td>\n",
       "      <td>7000.0</td>\n",
       "      <td>28000.000000</td>\n",
       "    </tr>\n",
       "    <tr>\n",
       "      <th>3</th>\n",
       "      <td>Raj</td>\n",
       "      <td>19</td>\n",
       "      <td>Engineering</td>\n",
       "      <td>NaN</td>\n",
       "      <td>NaN</td>\n",
       "      <td>33333.333333</td>\n",
       "    </tr>\n",
       "    <tr>\n",
       "      <th>4</th>\n",
       "      <td>Aman</td>\n",
       "      <td>30</td>\n",
       "      <td>Finance</td>\n",
       "      <td>55000.0</td>\n",
       "      <td>10000.0</td>\n",
       "      <td>45000.000000</td>\n",
       "    </tr>\n",
       "  </tbody>\n",
       "</table>\n",
       "</div>"
      ],
      "text/plain": [
       "  Std_Name  Age Qualification_Details  Monthly_Salary  Savings   Expenditure\n",
       "0    Vidit   24            PG-Diploma         40000.0  13000.0  27000.000000\n",
       "1    Ankit   25                  MCom             NaN      NaN  33333.333333\n",
       "2   Shivam   27                    CA         35000.0   7000.0  28000.000000\n",
       "3      Raj   19           Engineering             NaN      NaN  33333.333333\n",
       "4     Aman   30               Finance         55000.0  10000.0  45000.000000"
      ]
     },
     "execution_count": 198,
     "metadata": {},
     "output_type": "execute_result"
    }
   ],
   "source": [
    "df1['Expenditure']=df2['Expenditure']\n",
    "df1"
   ]
  },
  {
   "cell_type": "code",
   "execution_count": 199,
   "metadata": {},
   "outputs": [
    {
     "data": {
      "text/html": [
       "<div>\n",
       "<style scoped>\n",
       "    .dataframe tbody tr th:only-of-type {\n",
       "        vertical-align: middle;\n",
       "    }\n",
       "\n",
       "    .dataframe tbody tr th {\n",
       "        vertical-align: top;\n",
       "    }\n",
       "\n",
       "    .dataframe thead th {\n",
       "        text-align: right;\n",
       "    }\n",
       "</style>\n",
       "<table border=\"1\" class=\"dataframe\">\n",
       "  <thead>\n",
       "    <tr style=\"text-align: right;\">\n",
       "      <th></th>\n",
       "      <th>Std_Name</th>\n",
       "      <th>Age</th>\n",
       "      <th>Qualification_Details</th>\n",
       "      <th>Monthly_Salary</th>\n",
       "      <th>Savings</th>\n",
       "      <th>Expenditure</th>\n",
       "    </tr>\n",
       "  </thead>\n",
       "  <tbody>\n",
       "    <tr>\n",
       "      <th>0</th>\n",
       "      <td>Vidit</td>\n",
       "      <td>24</td>\n",
       "      <td>PG-Diploma</td>\n",
       "      <td>40000.000000</td>\n",
       "      <td>13000.0</td>\n",
       "      <td>27000.000000</td>\n",
       "    </tr>\n",
       "    <tr>\n",
       "      <th>1</th>\n",
       "      <td>Ankit</td>\n",
       "      <td>25</td>\n",
       "      <td>MCom</td>\n",
       "      <td>43333.333333</td>\n",
       "      <td>NaN</td>\n",
       "      <td>33333.333333</td>\n",
       "    </tr>\n",
       "    <tr>\n",
       "      <th>2</th>\n",
       "      <td>Shivam</td>\n",
       "      <td>27</td>\n",
       "      <td>CA</td>\n",
       "      <td>35000.000000</td>\n",
       "      <td>7000.0</td>\n",
       "      <td>28000.000000</td>\n",
       "    </tr>\n",
       "    <tr>\n",
       "      <th>3</th>\n",
       "      <td>Raj</td>\n",
       "      <td>19</td>\n",
       "      <td>Engineering</td>\n",
       "      <td>43333.333333</td>\n",
       "      <td>NaN</td>\n",
       "      <td>33333.333333</td>\n",
       "    </tr>\n",
       "    <tr>\n",
       "      <th>4</th>\n",
       "      <td>Aman</td>\n",
       "      <td>30</td>\n",
       "      <td>Finance</td>\n",
       "      <td>55000.000000</td>\n",
       "      <td>10000.0</td>\n",
       "      <td>45000.000000</td>\n",
       "    </tr>\n",
       "  </tbody>\n",
       "</table>\n",
       "</div>"
      ],
      "text/plain": [
       "  Std_Name  Age Qualification_Details  Monthly_Salary  Savings   Expenditure\n",
       "0    Vidit   24            PG-Diploma    40000.000000  13000.0  27000.000000\n",
       "1    Ankit   25                  MCom    43333.333333      NaN  33333.333333\n",
       "2   Shivam   27                    CA    35000.000000   7000.0  28000.000000\n",
       "3      Raj   19           Engineering    43333.333333      NaN  33333.333333\n",
       "4     Aman   30               Finance    55000.000000  10000.0  45000.000000"
      ]
     },
     "execution_count": 199,
     "metadata": {},
     "output_type": "execute_result"
    }
   ],
   "source": [
    "df1['Monthly_Salary']=df2['Monthly_Salary']\n",
    "df1"
   ]
  },
  {
   "cell_type": "code",
   "execution_count": 200,
   "metadata": {},
   "outputs": [
    {
     "data": {
      "text/html": [
       "<div>\n",
       "<style scoped>\n",
       "    .dataframe tbody tr th:only-of-type {\n",
       "        vertical-align: middle;\n",
       "    }\n",
       "\n",
       "    .dataframe tbody tr th {\n",
       "        vertical-align: top;\n",
       "    }\n",
       "\n",
       "    .dataframe thead th {\n",
       "        text-align: right;\n",
       "    }\n",
       "</style>\n",
       "<table border=\"1\" class=\"dataframe\">\n",
       "  <thead>\n",
       "    <tr style=\"text-align: right;\">\n",
       "      <th></th>\n",
       "      <th>Std_Name</th>\n",
       "      <th>Age</th>\n",
       "      <th>Qualification_Details</th>\n",
       "      <th>Monthly_Salary</th>\n",
       "      <th>Savings</th>\n",
       "      <th>Expenditure</th>\n",
       "    </tr>\n",
       "  </thead>\n",
       "  <tbody>\n",
       "    <tr>\n",
       "      <th>0</th>\n",
       "      <td>Vidit</td>\n",
       "      <td>24</td>\n",
       "      <td>PG-Diploma</td>\n",
       "      <td>40000.000000</td>\n",
       "      <td>13000.0</td>\n",
       "      <td>27000.000000</td>\n",
       "    </tr>\n",
       "    <tr>\n",
       "      <th>1</th>\n",
       "      <td>Ankit</td>\n",
       "      <td>25</td>\n",
       "      <td>MCom</td>\n",
       "      <td>43333.333333</td>\n",
       "      <td>10000.0</td>\n",
       "      <td>33333.333333</td>\n",
       "    </tr>\n",
       "    <tr>\n",
       "      <th>2</th>\n",
       "      <td>Shivam</td>\n",
       "      <td>27</td>\n",
       "      <td>CA</td>\n",
       "      <td>35000.000000</td>\n",
       "      <td>7000.0</td>\n",
       "      <td>28000.000000</td>\n",
       "    </tr>\n",
       "    <tr>\n",
       "      <th>3</th>\n",
       "      <td>Raj</td>\n",
       "      <td>19</td>\n",
       "      <td>Engineering</td>\n",
       "      <td>43333.333333</td>\n",
       "      <td>10000.0</td>\n",
       "      <td>33333.333333</td>\n",
       "    </tr>\n",
       "    <tr>\n",
       "      <th>4</th>\n",
       "      <td>Aman</td>\n",
       "      <td>30</td>\n",
       "      <td>Finance</td>\n",
       "      <td>55000.000000</td>\n",
       "      <td>10000.0</td>\n",
       "      <td>45000.000000</td>\n",
       "    </tr>\n",
       "  </tbody>\n",
       "</table>\n",
       "</div>"
      ],
      "text/plain": [
       "  Std_Name  Age Qualification_Details  Monthly_Salary  Savings   Expenditure\n",
       "0    Vidit   24            PG-Diploma    40000.000000  13000.0  27000.000000\n",
       "1    Ankit   25                  MCom    43333.333333  10000.0  33333.333333\n",
       "2   Shivam   27                    CA    35000.000000   7000.0  28000.000000\n",
       "3      Raj   19           Engineering    43333.333333  10000.0  33333.333333\n",
       "4     Aman   30               Finance    55000.000000  10000.0  45000.000000"
      ]
     },
     "execution_count": 200,
     "metadata": {},
     "output_type": "execute_result"
    }
   ],
   "source": [
    "df1['Savings']=df2['Savings']\n",
    "df1"
   ]
  },
  {
   "cell_type": "code",
   "execution_count": 201,
   "metadata": {},
   "outputs": [
    {
     "data": {
      "text/html": [
       "<div>\n",
       "<style scoped>\n",
       "    .dataframe tbody tr th:only-of-type {\n",
       "        vertical-align: middle;\n",
       "    }\n",
       "\n",
       "    .dataframe tbody tr th {\n",
       "        vertical-align: top;\n",
       "    }\n",
       "\n",
       "    .dataframe thead th {\n",
       "        text-align: right;\n",
       "    }\n",
       "</style>\n",
       "<table border=\"1\" class=\"dataframe\">\n",
       "  <thead>\n",
       "    <tr style=\"text-align: right;\">\n",
       "      <th></th>\n",
       "      <th>Std_Name</th>\n",
       "      <th>Age</th>\n",
       "      <th>Qualification_Details</th>\n",
       "      <th>Monthly_Salary</th>\n",
       "      <th>Savings</th>\n",
       "      <th>Expenditure</th>\n",
       "      <th>1_day_Income</th>\n",
       "    </tr>\n",
       "  </thead>\n",
       "  <tbody>\n",
       "    <tr>\n",
       "      <th>0</th>\n",
       "      <td>Vidit</td>\n",
       "      <td>24</td>\n",
       "      <td>PG-Diploma</td>\n",
       "      <td>40000.000000</td>\n",
       "      <td>13000.0</td>\n",
       "      <td>27000.000000</td>\n",
       "      <td>1333.333333</td>\n",
       "    </tr>\n",
       "    <tr>\n",
       "      <th>1</th>\n",
       "      <td>Ankit</td>\n",
       "      <td>25</td>\n",
       "      <td>MCom</td>\n",
       "      <td>43333.333333</td>\n",
       "      <td>10000.0</td>\n",
       "      <td>33333.333333</td>\n",
       "      <td>1444.444444</td>\n",
       "    </tr>\n",
       "    <tr>\n",
       "      <th>2</th>\n",
       "      <td>Shivam</td>\n",
       "      <td>27</td>\n",
       "      <td>CA</td>\n",
       "      <td>35000.000000</td>\n",
       "      <td>7000.0</td>\n",
       "      <td>28000.000000</td>\n",
       "      <td>1166.666667</td>\n",
       "    </tr>\n",
       "    <tr>\n",
       "      <th>3</th>\n",
       "      <td>Raj</td>\n",
       "      <td>19</td>\n",
       "      <td>Engineering</td>\n",
       "      <td>43333.333333</td>\n",
       "      <td>10000.0</td>\n",
       "      <td>33333.333333</td>\n",
       "      <td>1444.444444</td>\n",
       "    </tr>\n",
       "    <tr>\n",
       "      <th>4</th>\n",
       "      <td>Aman</td>\n",
       "      <td>30</td>\n",
       "      <td>Finance</td>\n",
       "      <td>55000.000000</td>\n",
       "      <td>10000.0</td>\n",
       "      <td>45000.000000</td>\n",
       "      <td>1833.333333</td>\n",
       "    </tr>\n",
       "  </tbody>\n",
       "</table>\n",
       "</div>"
      ],
      "text/plain": [
       "  Std_Name  Age Qualification_Details  Monthly_Salary  Savings   Expenditure  \\\n",
       "0    Vidit   24            PG-Diploma    40000.000000  13000.0  27000.000000   \n",
       "1    Ankit   25                  MCom    43333.333333  10000.0  33333.333333   \n",
       "2   Shivam   27                    CA    35000.000000   7000.0  28000.000000   \n",
       "3      Raj   19           Engineering    43333.333333  10000.0  33333.333333   \n",
       "4     Aman   30               Finance    55000.000000  10000.0  45000.000000   \n",
       "\n",
       "   1_day_Income  \n",
       "0   1333.333333  \n",
       "1   1444.444444  \n",
       "2   1166.666667  \n",
       "3   1444.444444  \n",
       "4   1833.333333  "
      ]
     },
     "execution_count": 201,
     "metadata": {},
     "output_type": "execute_result"
    }
   ],
   "source": [
    "df1['1_day_Income']=df2['1_day_Income']\n",
    "df1"
   ]
  },
  {
   "cell_type": "code",
   "execution_count": null,
   "metadata": {},
   "outputs": [],
   "source": []
  }
 ],
 "metadata": {
  "kernelspec": {
   "display_name": "Python 3.7.2 32-bit",
   "language": "python",
   "name": "python37232bita0fd9bc3190e48dcaae875219bdaec58"
  },
  "language_info": {
   "codemirror_mode": {
    "name": "ipython",
    "version": 3
   },
   "file_extension": ".py",
   "mimetype": "text/x-python",
   "name": "python",
   "nbconvert_exporter": "python",
   "pygments_lexer": "ipython3",
   "version": "3.7.2"
  }
 },
 "nbformat": 4,
 "nbformat_minor": 4
}
